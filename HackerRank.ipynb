{
 "cells": [
  {
   "cell_type": "markdown",
   "metadata": {},
   "source": [
    "### Sherlock and the Valid String\n",
    "https://www.hackerrank.com/challenges/sherlock-and-valid-string/problem"
   ]
  },
  {
   "cell_type": "code",
   "execution_count": 16,
   "metadata": {},
   "outputs": [],
   "source": [
    "#!/bin/python3\n",
    "import math\n",
    "import os\n",
    "import random\n",
    "import re\n",
    "import sys"
   ]
  },
  {
   "cell_type": "code",
   "execution_count": 1,
   "metadata": {},
   "outputs": [],
   "source": [
    "\n",
    "from collections import Counter\n",
    "# Complete the isValid function below.\n",
    "def isValid(s):\n",
    "    c = Counter(s)\n",
    "    test = [x for x in c.values() if x%2!=0]\n",
    "    if len(test)> 1:\n",
    "        return \"NO\"\n",
    "    else:\n",
    "        return \"YES\"\n",
    "    \n"
   ]
  },
  {
   "cell_type": "code",
   "execution_count": 12,
   "metadata": {},
   "outputs": [],
   "source": [
    "import numpy as np\n",
    "from collections import Counter\n",
    "from scipy import stats\n",
    "# Complete the isValid function below.\n",
    "\n",
    "def isValid(s):\n",
    "    c = Counter(s)\n",
    "    mode_c = stats.mode(c.values)\n",
    "    test = [x for x in c.values() if x != mode_c]\n",
    "    l = len(test)\n",
    "    if l > 1:\n",
    "        return \"NO\"\n",
    "    elif l == 1:\n",
    "        x = l[0]\n",
    "        if x-1 == 0 | x-1 == mode_c:\n",
    "            return \"YES\"\n",
    "        else:\n",
    "            return \"NO\"\n",
    "    \n"
   ]
  },
  {
   "cell_type": "code",
   "execution_count": 75,
   "metadata": {},
   "outputs": [],
   "source": [
    "\n",
    "import numpy as np\n",
    "from collections import Counter\n",
    "from scipy import stats\n",
    "# Complete the isValid function below.\n",
    "# \n",
    "def isValid(s):\n",
    "    c = Counter(s)\n",
    "    temp = stats.mode(list(c.values()))\n",
    "    mode_c = temp[0][0]\n",
    "    left_out = [x for x in c.values() if x != mode_c]\n",
    "    l = len(left_out)\n",
    "    if l == 0:\n",
    "        return \"YES\"\n",
    "    elif l == 1 :\n",
    "        x = left_out[0]\n",
    "        if x-1 == 0 or x-1 == mode_c:\n",
    "            return \"YES\"\n",
    "        else:\n",
    "            return \"NO\"\n",
    "    else:            \n",
    "        return \"NO\"\n",
    "    \n",
    "# Runtime Error :("
   ]
  },
  {
   "cell_type": "code",
   "execution_count": 76,
   "metadata": {},
   "outputs": [
    {
     "data": {
      "text/plain": [
       "'YES'"
      ]
     },
     "execution_count": 76,
     "metadata": {},
     "output_type": "execute_result"
    }
   ],
   "source": [
    "s = \"abcdefghhgfedecba\" # YES\n",
    "isValid(s)"
   ]
  },
  {
   "cell_type": "code",
   "execution_count": 77,
   "metadata": {},
   "outputs": [
    {
     "data": {
      "text/plain": [
       "'NO'"
      ]
     },
     "execution_count": 77,
     "metadata": {},
     "output_type": "execute_result"
    }
   ],
   "source": [
    "s = \"aabbccddeefghi\" # \"NO\"\n",
    "isValid(s)"
   ]
  },
  {
   "cell_type": "code",
   "execution_count": 78,
   "metadata": {},
   "outputs": [
    {
     "data": {
      "text/plain": [
       "'YES'"
      ]
     },
     "execution_count": 78,
     "metadata": {},
     "output_type": "execute_result"
    }
   ],
   "source": [
    "with open('C:\\\\Users\\\\Fouzia Yessad\\\\Desktop\\\\input13.txt', 'r') as file:\n",
    "    s = file.read().replace('\\n', '')\n",
    "\n",
    "#print(s)\n",
    "isValid(s) # YES"
   ]
  },
  {
   "cell_type": "code",
   "execution_count": 79,
   "metadata": {},
   "outputs": [
    {
     "data": {
      "text/plain": [
       "'NO'"
      ]
     },
     "execution_count": 79,
     "metadata": {},
     "output_type": "execute_result"
    }
   ],
   "source": [
    "s = 'aabbcd' # NO\n",
    "isValid(s) "
   ]
  }
 ],
 "metadata": {
  "kernelspec": {
   "display_name": "Python 3",
   "language": "python",
   "name": "python3"
  },
  "language_info": {
   "codemirror_mode": {
    "name": "ipython",
    "version": 3
   },
   "file_extension": ".py",
   "mimetype": "text/x-python",
   "name": "python",
   "nbconvert_exporter": "python",
   "pygments_lexer": "ipython3",
   "version": "3.7.1"
  }
 },
 "nbformat": 4,
 "nbformat_minor": 2
}
