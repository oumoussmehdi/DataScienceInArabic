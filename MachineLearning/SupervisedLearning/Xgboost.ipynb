{
 "cells": [
  {
   "cell_type": "code",
   "execution_count": null,
   "metadata": {},
   "outputs": [],
   "source": []
  },
  {
   "cell_type": "code",
   "execution_count": null,
   "metadata": {},
   "outputs": [],
   "source": [
    "in scikit-learn : \n",
    "    - GradientBoostingClassifier/regressor"
   ]
  },
  {
   "cell_type": "code",
   "execution_count": null,
   "metadata": {},
   "outputs": [],
   "source": [
    "optimized distributed gradient boosting library\n",
    "efficient, flexible and portable (hadoop, sge, mpi)\n",
    "xgboost provides a parallel tree boosting (GBDT, GBM)"
   ]
  },
  {
   "cell_type": "code",
   "execution_count": null,
   "metadata": {},
   "outputs": [],
   "source": [
    "xgboost: extreme gradient boosting \n"
   ]
  },
  {
   "cell_type": "markdown",
   "metadata": {},
   "source": [
    "* General Params: \n",
    "    - Params for tree booster :\n",
    "        * booster : \n",
    "            - gbtree\n",
    "            - gblinear\n",
    "            - dart \n",
    "        * verbosity : printing msg\n",
    "        * nthread : num parallel threads used to run xgboost\n",
    "        * disable_default_eval_metric : \n",
    "        * num_pbuffer : buffers are used to save the prediction results of the last boosting step (num train inst)\n",
    "        * num_feature : feature dim used in boosting, set to max\n",
    "    - params for dart booster (booster=dart)\n",
    "    - params for linear booster (booster=gblinear)\n",
    "    - params for tweedie regression (objective = reg:tweedie)\n",
    "* Learning Task Params : \n",
    "* Command line params "
   ]
  },
  {
   "cell_type": "code",
   "execution_count": null,
   "metadata": {},
   "outputs": [],
   "source": [
    "import xgboost as xgb\n",
    "\n",
    "dtrain = xgb.DMatrix('train')\n",
    "dtrain = xgb.DMatrix('test')\n",
    "\n",
    "param = {\n",
    "    'max_depth':2,\n",
    "    'eta':1,\n",
    "    'silent':1,\n",
    "    'objective':'binary:logistic'\n",
    "}\n",
    "\n",
    "num_round = 2\n",
    "\n",
    "bst = xgb.train(param, \n",
    "               dtrain,\n",
    "               num_round)\n",
    "\n",
    "preds = xgb.predict(dtest)"
   ]
  },
  {
   "cell_type": "code",
   "execution_count": null,
   "metadata": {},
   "outputs": [],
   "source": []
  },
  {
   "cell_type": "code",
   "execution_count": null,
   "metadata": {},
   "outputs": [],
   "source": []
  },
  {
   "cell_type": "code",
   "execution_count": null,
   "metadata": {},
   "outputs": [],
   "source": []
  },
  {
   "cell_type": "code",
   "execution_count": null,
   "metadata": {},
   "outputs": [],
   "source": []
  },
  {
   "cell_type": "code",
   "execution_count": null,
   "metadata": {},
   "outputs": [],
   "source": []
  },
  {
   "cell_type": "code",
   "execution_count": null,
   "metadata": {},
   "outputs": [],
   "source": []
  },
  {
   "cell_type": "code",
   "execution_count": null,
   "metadata": {},
   "outputs": [],
   "source": []
  },
  {
   "cell_type": "markdown",
   "metadata": {},
   "source": [
    "- https://xgboost.readthedocs.io/en/latest/\n",
    "- https://scikit-learn.org/stable/modules/generated/sklearn.ensemble.GradientBoostingClassifier.html"
   ]
  }
 ],
 "metadata": {
  "kernelspec": {
   "display_name": "Python 3",
   "language": "python",
   "name": "python3"
  },
  "language_info": {
   "codemirror_mode": {
    "name": "ipython",
    "version": 3
   },
   "file_extension": ".py",
   "mimetype": "text/x-python",
   "name": "python",
   "nbconvert_exporter": "python",
   "pygments_lexer": "ipython3",
   "version": "3.6.4"
  }
 },
 "nbformat": 4,
 "nbformat_minor": 2
}
