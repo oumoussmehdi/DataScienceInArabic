{
 "cells": [
  {
   "cell_type": "markdown",
   "metadata": {
    "collapsed": true
   },
   "source": [
    "## LogisticRegression classifier\n",
    "\n",
    "binary classifier\n",
    "\n",
    "in multiclass case, the algo uses : one-vs-rest (OvR)\n",
    "\n",
    "**Params**\n",
    "-  penalty\n",
    "    * l1\n",
    "    * l2\n",
    "- dual\n",
    "- tol\n",
    "- C\n",
    "- fit_intercept\n",
    "- intercept_scaling\n",
    "- class_weight\n",
    "- random_state\n",
    "- solver\n",
    "    * 'newton-cg'\n",
    "    * 'lbfgs'\n",
    "    * 'liblinear'\n",
    "    * 'sag'\n",
    "    * 'saga'\n",
    "multiclass problems : ‘newton-cg’, ‘sag’, ‘saga’ and ‘lbfgs’\n",
    "L2 penalty handling: ‘newton-cg’, ‘lbfgs’ and ‘sag’ \n",
    "L1 penalty handling: ‘liblinear’, ‘saga’ \n",
    "\n",
    "- max_iter\n",
    "- multi_class :\n",
    "    * 'ovr'\n",
    "    * 'multinomial'\n",
    "    * 'auto'\n",
    "- verbose\n",
    "- warm_start\n",
    "- n_jobs\n",
    "\n",
    "**Attributes**\n",
    "- classes_\n",
    "- coef_\n",
    "- intercept_\n",
    "- n_iter_\n",
    "\n",
    "\n",
    "**Methods**\n",
    "- decision_function\n",
    "- densitfy\n",
    "- fit\n",
    "- get_params\n",
    "- predict\n",
    "- predict_log_proba\n",
    "- predict_proba\n",
    "- score\n",
    "- set_params\n",
    "- sparsify\n"
   ]
  },
  {
   "cell_type": "code",
   "execution_count": null,
   "metadata": {},
   "outputs": [],
   "source": []
  },
  {
   "cell_type": "code",
   "execution_count": null,
   "metadata": {},
   "outputs": [],
   "source": []
  },
  {
   "cell_type": "code",
   "execution_count": null,
   "metadata": {},
   "outputs": [],
   "source": []
  },
  {
   "cell_type": "markdown",
   "metadata": {},
   "source": [
    "ref:\n",
    "    https://scikit-learn.org/stable/modules/generated/sklearn.linear_model.LogisticRegression.html"
   ]
  }
 ],
 "metadata": {
  "kernelspec": {
   "display_name": "Python 3",
   "language": "python",
   "name": "python3"
  },
  "language_info": {
   "codemirror_mode": {
    "name": "ipython",
    "version": 3
   },
   "file_extension": ".py",
   "mimetype": "text/x-python",
   "name": "python",
   "nbconvert_exporter": "python",
   "pygments_lexer": "ipython3",
   "version": "3.6.4"
  }
 },
 "nbformat": 4,
 "nbformat_minor": 1
}
