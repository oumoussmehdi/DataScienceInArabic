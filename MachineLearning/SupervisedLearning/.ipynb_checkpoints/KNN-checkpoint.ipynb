{
 "cells": [
  {
   "cell_type": "markdown",
   "metadata": {},
   "source": [
    "## KNN : K nearest neighbours (vote)\n"
   ]
  },
  {
   "cell_type": "markdown",
   "metadata": {},
   "source": [
    "\n",
    "**Params**\n",
    "* n_neghbors \n",
    "* weights : weight function use in prediction\n",
    "    - unifom\n",
    "    - distance \n",
    "    - udf\n",
    "* algorithm : algo used to compute the nearest neighbors\n",
    "    - ball_tree \n",
    "    - kd_tree\n",
    "    - brute : brute force search\n",
    "    - auto\n",
    "* leaf_size : leaf size passed to ballTree or KDtree\n",
    "* p : power param for the minkowski metric \n",
    "    - p=1 : manhattan_distance (l1)\n",
    "    - p=2 : euclidean_distance (l2)\n",
    "    - p arbitrary: minkowski_distance\n",
    "* metric: distance metric to use for the tree\n",
    "* metric_params\n",
    "* n_jobs\n",
    "\n",
    "**Methods**\n",
    "* fit \n",
    "* get_params\n",
    "* kneighbors\n",
    "* kneighbors_graph\n",
    "* predict \n",
    "* predict_proba\n",
    "* score\n",
    "* set_params"
   ]
  },
  {
   "cell_type": "markdown",
   "metadata": {},
   "source": [
    "KDTree / BallTree for fast generalized N-point problems"
   ]
  },
  {
   "cell_type": "markdown",
   "metadata": {},
   "source": [
    "### Remarks: \n",
    "\n",
    "- choose k to be odd (avoiding tighs in the majority vote)\n",
    "- k most not be a multiple of the number of classes (avoid tighs )\n",
    "\n",
    "Advantages :\n",
    "* simple and intuitive algo \n",
    "\n",
    "Disadvantages : \n",
    "* keeping all the instances in memory\n",
    "* the complexity in search the nearest neighbos for each sample\n",
    "\n",
    "Kernels:\n",
    "* "
   ]
  },
  {
   "cell_type": "code",
   "execution_count": null,
   "metadata": {},
   "outputs": [],
   "source": []
  },
  {
   "cell_type": "code",
   "execution_count": null,
   "metadata": {},
   "outputs": [],
   "source": []
  },
  {
   "cell_type": "code",
   "execution_count": null,
   "metadata": {},
   "outputs": [],
   "source": []
  },
  {
   "cell_type": "code",
   "execution_count": null,
   "metadata": {},
   "outputs": [],
   "source": []
  },
  {
   "cell_type": "code",
   "execution_count": null,
   "metadata": {},
   "outputs": [],
   "source": []
  },
  {
   "cell_type": "code",
   "execution_count": null,
   "metadata": {},
   "outputs": [],
   "source": []
  }
 ],
 "metadata": {
  "kernelspec": {
   "display_name": "Python 3",
   "language": "python",
   "name": "python3"
  },
  "language_info": {
   "codemirror_mode": {
    "name": "ipython",
    "version": 3
   },
   "file_extension": ".py",
   "mimetype": "text/x-python",
   "name": "python",
   "nbconvert_exporter": "python",
   "pygments_lexer": "ipython3",
   "version": "3.6.4"
  }
 },
 "nbformat": 4,
 "nbformat_minor": 2
}
