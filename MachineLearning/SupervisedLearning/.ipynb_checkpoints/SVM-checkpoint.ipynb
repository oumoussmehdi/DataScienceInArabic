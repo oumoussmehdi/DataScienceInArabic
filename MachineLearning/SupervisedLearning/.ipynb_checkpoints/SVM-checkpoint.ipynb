{
 "cells": [
  {
   "cell_type": "code",
   "execution_count": null,
   "metadata": {
    "collapsed": true
   },
   "outputs": [],
   "source": []
  },
  {
   "cell_type": "markdown",
   "metadata": {},
   "source": [
    "## SVM : Support Vector Machines\n",
    "\n",
    "supervised learning method used for classification, regression and outliers detection\n",
    "\n",
    "Advantages :\n",
    "* effective in high dimensional spaces \n",
    "* versatile \n",
    "\n",
    "Disadvantages : \n",
    "* doesn't directly provide proba estimates\n",
    "\n",
    "Kernels:\n",
    "* linear \n",
    "* polynomial\n",
    "* RBF: \n",
    "* sigmoid\n",
    "* custom kernels"
   ]
  },
  {
   "cell_type": "code",
   "execution_count": null,
   "metadata": {},
   "outputs": [],
   "source": []
  },
  {
   "cell_type": "markdown",
   "metadata": {},
   "source": [
    "## Classification "
   ]
  },
  {
   "cell_type": "markdown",
   "metadata": {},
   "source": [
    "multi-class classification :\n",
    "- SVC\n",
    "    * class_weight\n",
    "- NuSVC\n",
    "    * sample_weight\n",
    "- LinearSVC\n"
   ]
  },
  {
   "cell_type": "code",
   "execution_count": null,
   "metadata": {},
   "outputs": [],
   "source": []
  },
  {
   "cell_type": "markdown",
   "metadata": {},
   "source": [
    "## Regression\n",
    "SVC can be extended to solve regressions problems > SVR\n",
    "* SVR\n",
    "* NuSVR \n",
    "only \n",
    "* LinearSVR. \n",
    "    - faster compared to SVR\n",
    "    - only provids linear kernel\n",
    "    "
   ]
  },
  {
   "cell_type": "code",
   "execution_count": null,
   "metadata": {},
   "outputs": [],
   "source": []
  },
  {
   "cell_type": "markdown",
   "metadata": {},
   "source": [
    "## Novelty/Outliers detection (density estimation)\n",
    "OneClassSVM\n",
    "\n",
    "Methods: \n",
    "- fit_predict\n",
    "- predict\n",
    "- decision_function\n",
    "- score_samples"
   ]
  },
  {
   "cell_type": "code",
   "execution_count": null,
   "metadata": {},
   "outputs": [],
   "source": []
  },
  {
   "cell_type": "markdown",
   "metadata": {},
   "source": [
    "REF:\n",
    "    https://scikit-learn.org/stable/modules/svm.html"
   ]
  }
 ],
 "metadata": {
  "kernelspec": {
   "display_name": "Python 3",
   "language": "python",
   "name": "python3"
  },
  "language_info": {
   "codemirror_mode": {
    "name": "ipython",
    "version": 3
   },
   "file_extension": ".py",
   "mimetype": "text/x-python",
   "name": "python",
   "nbconvert_exporter": "python",
   "pygments_lexer": "ipython3",
   "version": "3.6.4"
  }
 },
 "nbformat": 4,
 "nbformat_minor": 1
}
