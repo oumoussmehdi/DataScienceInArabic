{
 "cells": [
  {
   "cell_type": "markdown",
   "metadata": {},
   "source": [
    "in scikit learn : \n",
    "    - RF classifier\n",
    "    - RF Regressor "
   ]
  },
  {
   "cell_type": "markdown",
   "metadata": {},
   "source": [
    "A random forest is a meta estimator that fits a number of decision tree classifiers on various sub-samples of the dataset and uses averaging to improve the predictive accuracy and control over-fitting. \n",
    "\n",
    "The sub-sample size is always the same as the original input sample size but the samples are drawn with replacement if bootstrap=True (default)"
   ]
  },
  {
   "cell_type": "markdown",
   "metadata": {},
   "source": [
    "**Params**\n",
    "* n_estimators : number of trees in the forst\n",
    "\n",
    "* criterion : the function to measure the quality of a split (tree-specific)\n",
    "    - gini : gini impurity\n",
    "    - entropy : information gain\n",
    "* max_depth : the max depth of the tree\n",
    "       if none then nodes are expanded until all leaves are pure or until all leaves contain less than min_samples_split samples\n",
    "\n",
    "* min_samples_split : the min num of samples required to split an internal node \n",
    "\n",
    "* min_samples_leaf : the min num of samples req to be at a leaf node\n",
    "\n",
    "* min_weight_fraction_leaf :  the min weighted fraction of the sum total of weights\n",
    "\n",
    "* max_features: the number of features to consider when looking for the best split \n",
    "    - int\n",
    "    - float\n",
    "    - auto\n",
    "    - sqrt\n",
    "    - log2\n",
    "    - none\n",
    "\n",
    "* max_leaf_nodes : grow trees with max_leaf_nodes in best-first fashion\n",
    "\n",
    "* min_impurity_decrease : \n",
    "* min_impurity_split \n",
    "\n",
    "* bootstrap : whether bootstrap samples are used when building trees\n",
    "o.w the whole dataset is used to build each tree \n",
    "\n",
    "\n",
    "* oob_score : whether to use out_of_bag samples to estimate the generalization accuracy\n",
    "\n",
    "\n",
    "\n",
    "* class_weight : weights associated with classes\n",
    "* warm_start : reuse the solution of the previous call to fit and add more estimators to the ensemble \n",
    "\n",
    "* random_state : the seed\n",
    "* verbose : controls verbosity while training\n",
    "* n_jobs : the number of jobs to run in parallel for both fit and predict\n",
    "\n",
    "\n",
    "\n"
   ]
  },
  {
   "cell_type": "markdown",
   "metadata": {},
   "source": [
    "**Attributes**\n",
    "* estimators_\n",
    "* classes_\n",
    "* n_classes_\n",
    "* n_features_\n",
    "* n_outputs_\n",
    "* oob_score_\n",
    "* oob_decision_function_"
   ]
  },
  {
   "cell_type": "markdown",
   "metadata": {},
   "source": [
    "**Methods**\n",
    "* apply\n",
    "* decision_path\n",
    "* get_params\n",
    "* predict \n",
    "* percit_log_proba\n",
    "* predict_proba\n",
    "* score\n",
    "* set_params"
   ]
  },
  {
   "cell_type": "code",
   "execution_count": null,
   "metadata": {},
   "outputs": [],
   "source": []
  },
  {
   "cell_type": "code",
   "execution_count": null,
   "metadata": {},
   "outputs": [],
   "source": []
  },
  {
   "cell_type": "code",
   "execution_count": null,
   "metadata": {},
   "outputs": [],
   "source": []
  },
  {
   "cell_type": "markdown",
   "metadata": {},
   "source": [
    "- https://scikit-learn.org/stable/modules/generated/sklearn.ensemble.RandomForestClassifier.html\n",
    "- https://scikit-learn.org/stable/modules/ensemble.html#forest\n",
    "- https://medium.com/@williamkoehrsen/random-forest-simple-explanation-377895a60d2d"
   ]
  }
 ],
 "metadata": {
  "kernelspec": {
   "display_name": "Python 3",
   "language": "python",
   "name": "python3"
  },
  "language_info": {
   "codemirror_mode": {
    "name": "ipython",
    "version": 3
   },
   "file_extension": ".py",
   "mimetype": "text/x-python",
   "name": "python",
   "nbconvert_exporter": "python",
   "pygments_lexer": "ipython3",
   "version": "3.6.4"
  }
 },
 "nbformat": 4,
 "nbformat_minor": 2
}
