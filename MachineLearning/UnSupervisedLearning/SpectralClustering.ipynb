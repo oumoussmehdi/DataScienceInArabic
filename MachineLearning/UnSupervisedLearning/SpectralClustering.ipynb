{
 "cells": [
  {
   "cell_type": "code",
   "execution_count": null,
   "metadata": {},
   "outputs": [],
   "source": []
  },
  {
   "cell_type": "markdown",
   "metadata": {},
   "source": [
    "## Spectral-Clustering\n",
    "\n",
    "apply clustering to a projection to the normalized laplacian\n",
    "useful when : \n",
    "- the structure of the individual clusters is highly non-convex or\n",
    "- when a measure of the center and spread of the cluster is not a suitable description of hte complete cluster (ex: nested circles)\n",
    "\n",
    "if affinity is the adjacency matrix of a graph, this method can be used to find normalized graph cuts\n",
    "\n",
    "**Params**\n",
    "- n_clusters\n",
    "- eigen_solver\n",
    "- random_state\n",
    "- n_init\n",
    "- gamma\n",
    "- affinity\n",
    "- n_neighbors\n",
    "- eigen_tol\n",
    "- assign_labels\n",
    "- degree\n",
    "- coef0\n",
    "- kernel_params\n",
    "- n-jobs\n",
    "\n",
    "**Attributes**\n",
    "- affinity_matrix_\n",
    "- labels_\n",
    "\n",
    "**methods:**\n",
    "- fit\n",
    "- fit_predict\n",
    "- get_params\n",
    "- set_params\n"
   ]
  },
  {
   "cell_type": "code",
   "execution_count": null,
   "metadata": {},
   "outputs": [],
   "source": []
  },
  {
   "cell_type": "code",
   "execution_count": null,
   "metadata": {},
   "outputs": [],
   "source": []
  },
  {
   "cell_type": "code",
   "execution_count": null,
   "metadata": {},
   "outputs": [],
   "source": []
  },
  {
   "cell_type": "code",
   "execution_count": null,
   "metadata": {},
   "outputs": [],
   "source": []
  },
  {
   "cell_type": "markdown",
   "metadata": {},
   "source": [
    "ref:\n",
    "\n",
    "    https://scikit-learn.org/stable/modules/generated/sklearn.cluster.SpectralClustering.html#sklearn.cluster.SpectralClustering"
   ]
  }
 ],
 "metadata": {
  "kernelspec": {
   "display_name": "Python 3",
   "language": "python",
   "name": "python3"
  },
  "language_info": {
   "codemirror_mode": {
    "name": "ipython",
    "version": 3
   },
   "file_extension": ".py",
   "mimetype": "text/x-python",
   "name": "python",
   "nbconvert_exporter": "python",
   "pygments_lexer": "ipython3",
   "version": "3.6.4"
  }
 },
 "nbformat": 4,
 "nbformat_minor": 2
}
