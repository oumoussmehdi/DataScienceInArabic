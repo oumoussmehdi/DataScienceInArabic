{
 "cells": [
  {
   "cell_type": "code",
   "execution_count": null,
   "metadata": {
    "collapsed": true
   },
   "outputs": [],
   "source": []
  },
  {
   "cell_type": "markdown",
   "metadata": {},
   "source": [
    "### Kmeans\n",
    "the kmeans problem is solved using either Lloyd's or Elkan's algo"
   ]
  },
  {
   "cell_type": "markdown",
   "metadata": {},
   "source": [
    "**Params**\n",
    "* n_clusters : the number of clusters to form and centroids to generate\n",
    "* init : mehtod for initialization of the cluster centers\n",
    "    - kmeans++\n",
    "    - random \n",
    "    - ndarray \n",
    "* n_init : \n",
    "number of time the algo will be run wiht different centroid seeds\n",
    "* max_iter\n",
    "max iter of algo for a single run\n",
    "* tol\n",
    "relative tolerance with regard to inertia to declare convergence\n",
    "* precompute_distances\n",
    "* verbose\n",
    "* random_state\n",
    "* copy_x\n",
    "* n_jobs\n",
    "* algorithm :\n",
    "    - full : EM-style\n",
    "    - elkan : using the triangle inequality\n",
    "    - auto : if dense then elak elif sparse then full\n",
    "\n",
    "**Attributes**\n",
    "* cluster_centers_ : coordinates of cluster centers \n",
    "* labels_ : label of each point\n",
    "* inertia_: sum o squared distances of samples to their closest cluster center\n",
    "* n_iter_ : number of iterations run\n",
    "\n",
    "**Methods**\n",
    "* fit\n",
    "* fit_predict\n",
    "* fit_transform\n",
    "* get_params\n",
    "* predict\n",
    "* score\n",
    "* set_params\n",
    "* transform\n"
   ]
  },
  {
   "cell_type": "code",
   "execution_count": null,
   "metadata": {},
   "outputs": [],
   "source": [
    "from sklearn.cluster import KMeans\n",
    "import numpy as np\n",
    "X = np.array([[1, 2], [1, 4], [1, 0],\n",
    "              [10, 2], [10, 4], [10, 0]])\n",
    "\n",
    "kmeans = KMeans(n_clusters=2, random_state=0).fit(X)\n",
    "kmeans.labels_\n",
    "kmeans.predict([[0, 0], [12, 3]])\n",
    "kmeans.cluster_centers_"
   ]
  },
  {
   "cell_type": "code",
   "execution_count": null,
   "metadata": {},
   "outputs": [],
   "source": []
  },
  {
   "cell_type": "code",
   "execution_count": null,
   "metadata": {},
   "outputs": [],
   "source": []
  },
  {
   "cell_type": "code",
   "execution_count": null,
   "metadata": {},
   "outputs": [],
   "source": []
  }
 ],
 "metadata": {
  "kernelspec": {
   "display_name": "Python 3",
   "language": "python",
   "name": "python3"
  },
  "language_info": {
   "codemirror_mode": {
    "name": "ipython",
    "version": 3
   },
   "file_extension": ".py",
   "mimetype": "text/x-python",
   "name": "python",
   "nbconvert_exporter": "python",
   "pygments_lexer": "ipython3",
   "version": "3.6.4"
  }
 },
 "nbformat": 4,
 "nbformat_minor": 1
}
