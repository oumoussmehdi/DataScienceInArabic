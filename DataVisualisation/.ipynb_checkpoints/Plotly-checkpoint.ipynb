{
 "cells": [
  {
   "cell_type": "markdown",
   "metadata": {},
   "source": [
    "# <center style='color:red'>Plotly </center>\n",
    "https://plot.ly/python/ipython-notebook-tutorial/\n",
    "\n",
    "https://plot.ly/python/basic-charts/"
   ]
  },
  {
   "cell_type": "code",
   "execution_count": 1,
   "metadata": {},
   "outputs": [],
   "source": [
    "import pandas as pd\n",
    "import numpy as np\n",
    "import scipy as sp"
   ]
  },
  {
   "cell_type": "code",
   "execution_count": 2,
   "metadata": {},
   "outputs": [
    {
     "data": {
      "text/html": [
       "<script type=\"text/javascript\">window.PlotlyConfig = {MathJaxConfig: 'local'};</script><script type=\"text/javascript\">if (window.MathJax) {MathJax.Hub.Config({SVG: {font: \"STIX-Web\"}});}</script><script>requirejs.config({paths: { 'plotly': ['https://cdn.plot.ly/plotly-latest.min']},});if(!window._Plotly) {require(['plotly'],function(plotly) {window._Plotly=plotly;});}</script>"
      ],
      "text/vnd.plotly.v1+html": [
       "<script type=\"text/javascript\">window.PlotlyConfig = {MathJaxConfig: 'local'};</script><script type=\"text/javascript\">if (window.MathJax) {MathJax.Hub.Config({SVG: {font: \"STIX-Web\"}});}</script><script>requirejs.config({paths: { 'plotly': ['https://cdn.plot.ly/plotly-latest.min']},});if(!window._Plotly) {require(['plotly'],function(plotly) {window._Plotly=plotly;});}</script>"
      ]
     },
     "metadata": {},
     "output_type": "display_data"
    }
   ],
   "source": [
    "import plotly.plotly as py\n",
    "import plotly.graph_objs as go\n",
    "import plotly.figure_factory as ff\n",
    "#init_notebook_mode(connected=True)\n",
    "from plotly.offline import download_plotlyjs, init_notebook_mode, plot, iplot\n",
    "#import plotly.offline as pyo\n",
    "init_notebook_mode(connected=True)\n",
    "import plotly.io as pio\n"
   ]
  },
  {
   "cell_type": "markdown",
   "metadata": {},
   "source": [
    "### Scatter plots"
   ]
  },
  {
   "cell_type": "code",
   "execution_count": 3,
   "metadata": {},
   "outputs": [
    {
     "name": "stdout",
     "output_type": "stream",
     "text": [
      "[-2.26894877  0.74438465  1.02711381 -0.48452974  0.95523601  1.54328459\n",
      "  0.7289007   0.91697443 -0.58014316  0.27320398]\n",
      "[ 0.66732123 -0.33951726  0.5359829   1.53973238 -0.53259519 -2.10018751\n",
      " -2.33926708  2.69913279 -1.7969954   0.9769739 ]\n"
     ]
    }
   ],
   "source": [
    "N = 100\n",
    "random_x = np.random.randn(N)\n",
    "random_y = np.random.randn(N) * 2\n",
    "print(random_x[:10])\n",
    "print(random_y[:10])"
   ]
  },
  {
   "cell_type": "code",
   "execution_count": 4,
   "metadata": {},
   "outputs": [
    {
     "data": {
      "application/vnd.plotly.v1+json": {
       "config": {
        "linkText": "Export to plot.ly",
        "plotlyServerURL": "https://plot.ly",
        "showLink": false
       },
       "data": [
        {
         "mode": "markers",
         "type": "scatter",
         "uid": "30dfbae4-48c6-4f28-921a-fa233d4224c9",
         "x": [
          -2.2689487735977507,
          0.7443846527887605,
          1.0271138119968044,
          -0.48452974085740663,
          0.9552360114889605,
          1.5432845916435232,
          0.7289006971074449,
          0.9169744258204957,
          -0.5801431597635218,
          0.2732039848260005,
          1.120675884770808,
          0.1566294503087185,
          -0.4565587509115285,
          0.8730469849201433,
          -0.29773794436831696,
          0.7610331441292404,
          1.5366813139253264,
          -1.3910053468963335,
          0.2445482733069267,
          -0.9322025905747051,
          0.29695336555256424,
          1.2143930224358788,
          1.171208412610833,
          -0.650418572229151,
          0.775604275550673,
          0.13492865232783693,
          0.23210400534110243,
          1.3017033116061614,
          -0.7340132256366515,
          1.730433821383496,
          -1.8338264400173463,
          0.01958211835624001,
          0.5524401092752966,
          -0.3090360082848511,
          -2.0930124514304387,
          0.5896658936553059,
          0.5078295370453717,
          -1.0661723910399061,
          1.1802421807553203,
          -0.23570012013659417,
          0.7014117113026037,
          0.7302478500607642,
          0.29667209327357014,
          -0.513835642544726,
          -0.9944069405825139,
          -2.57999075191944,
          -0.042301968940211404,
          0.2551242456867973,
          -0.5376253550938875,
          -1.026984377697738,
          -1.2033100918430655,
          -0.17608439962794134,
          -0.21797905376439358,
          -0.9384242662460154,
          -1.1174538866327783,
          -0.3279047178608983,
          0.14336206972141657,
          1.8403522035657605,
          -2.183447891107711,
          -0.10716914925133124,
          -0.22207604874092016,
          0.8270657130540405,
          -0.29020124153643634,
          -0.1225522449133544,
          -1.769890411384257,
          0.2464441417133841,
          -1.2961294854104628,
          0.429940915290555,
          -0.9504115087571917,
          0.08080454931390203,
          -0.06822407396051144,
          1.8545397882412138,
          -1.781991675658615,
          0.5069634754226284,
          0.13536961026601027,
          -1.40195381831533,
          -1.4068041839087873,
          0.3622166305743076,
          -0.4457873844738736,
          -0.9343716326706512,
          -0.5264808670960648,
          -1.0690107806685092,
          -1.1255336857593283,
          0.4319537090364294,
          1.0332955649072268,
          -0.03694820359802293,
          -1.3959483651218865,
          -0.7613294201804793,
          -1.2954267386270917,
          -1.1865590458804172,
          -0.9287688516938558,
          -0.3458857710129536,
          0.27588883592610364,
          1.116299044642386,
          0.7172814102095483,
          0.9165913897926911,
          -1.5484857970870771,
          0.8564547679700436,
          0.47484241194012844,
          1.1085183479483032
         ],
         "y": [
          0.6673212267503879,
          -0.33951726133736765,
          0.5359828951046386,
          1.539732383272018,
          -0.5325951858686038,
          -2.100187513390642,
          -2.3392670844298875,
          2.699132789609899,
          -1.7969954046817787,
          0.9769738955842943,
          3.3626621022334278,
          -3.003993008845271,
          1.9433627196771193,
          2.601571385463712,
          0.3396097359710513,
          1.9951469524590055,
          -1.6900893504284114,
          2.7723173396168135,
          -2.8814879018627484,
          2.0329786958366904,
          1.2669973958662333,
          2.2597578892091357,
          2.161361111052521,
          0.02030465706227332,
          -0.32824000412146637,
          -1.3382046368914386,
          -2.3583069650608817,
          -1.4338033061710105,
          1.3058617265718897,
          -0.00828466525960432,
          3.066247271606424,
          3.9149596064415078,
          2.01261800586473,
          0.749320195919839,
          0.8933096419793505,
          -1.6501202679163491,
          -2.2907362539188454,
          0.8825112971007723,
          0.03819393816007919,
          3.7113323110092655,
          -1.3654602011662567,
          2.2121584950381323,
          -1.405006329378244,
          -0.8236332137364595,
          -0.25954175557400094,
          0.5456685028712986,
          -2.389180256121113,
          -2.1873112302782416,
          0.09477074007322649,
          0.06493108940675013,
          0.3423141258769263,
          1.3572131965395038,
          -0.7302813002307386,
          1.9972627329236294,
          0.590929560613939,
          -2.7415964775466697,
          -2.165934706541803,
          -2.822167898530089,
          -0.2845608389556186,
          1.1362395954917057,
          0.24345529323059534,
          -3.032157386541272,
          -1.9295329709131104,
          0.7386237448548292,
          2.991347048629967,
          2.196204761616502,
          -1.5938913819797322,
          1.3465982407301142,
          3.216942327599623,
          2.3322395154570352,
          2.182474072493439,
          -0.3427466542001276,
          -2.347919942354751,
          -1.768794610513398,
          -0.06405754653298537,
          2.7654198990862393,
          -0.44972787893171534,
          -4.159217532082294,
          1.2797625235653194,
          1.771812060450914,
          -3.981069074818742,
          1.2736682589980923,
          1.448274763077291,
          -2.127777066138069,
          0.015253443894259993,
          1.1793037867252687,
          0.014748901762441695,
          2.506712858044897,
          0.7022717590059345,
          0.9244091135149637,
          -2.2591895822893355,
          1.0415967561828436,
          2.2683748439751272,
          0.657142338164552,
          -0.5047561094933326,
          -0.6085846788442181,
          0.8713406335620205,
          -0.2261249678266158,
          1.763026273180696,
          4.335325397362951
         ]
        }
       ],
       "layout": {}
      },
      "text/html": [
       "<div id=\"181bc67d-abd8-44c3-aca6-33e56b5199d9\" style=\"height: 525px; width: 100%;\" class=\"plotly-graph-div\"></div><script type=\"text/javascript\">require([\"plotly\"], function(Plotly) { window.PLOTLYENV=window.PLOTLYENV || {};window.PLOTLYENV.BASE_URL=\"https://plot.ly\";\n",
       "if (document.getElementById(\"181bc67d-abd8-44c3-aca6-33e56b5199d9\")) {\n",
       "    Plotly.newPlot(\"181bc67d-abd8-44c3-aca6-33e56b5199d9\", [{\"mode\": \"markers\", \"x\": [-2.2689487735977507, 0.7443846527887605, 1.0271138119968044, -0.48452974085740663, 0.9552360114889605, 1.5432845916435232, 0.7289006971074449, 0.9169744258204957, -0.5801431597635218, 0.2732039848260005, 1.120675884770808, 0.1566294503087185, -0.4565587509115285, 0.8730469849201433, -0.29773794436831696, 0.7610331441292404, 1.5366813139253264, -1.3910053468963335, 0.2445482733069267, -0.9322025905747051, 0.29695336555256424, 1.2143930224358788, 1.171208412610833, -0.650418572229151, 0.775604275550673, 0.13492865232783693, 0.23210400534110243, 1.3017033116061614, -0.7340132256366515, 1.730433821383496, -1.8338264400173463, 0.01958211835624001, 0.5524401092752966, -0.3090360082848511, -2.0930124514304387, 0.5896658936553059, 0.5078295370453717, -1.0661723910399061, 1.1802421807553203, -0.23570012013659417, 0.7014117113026037, 0.7302478500607642, 0.29667209327357014, -0.513835642544726, -0.9944069405825139, -2.57999075191944, -0.042301968940211404, 0.2551242456867973, -0.5376253550938875, -1.026984377697738, -1.2033100918430655, -0.17608439962794134, -0.21797905376439358, -0.9384242662460154, -1.1174538866327783, -0.3279047178608983, 0.14336206972141657, 1.8403522035657605, -2.183447891107711, -0.10716914925133124, -0.22207604874092016, 0.8270657130540405, -0.29020124153643634, -0.1225522449133544, -1.769890411384257, 0.2464441417133841, -1.2961294854104628, 0.429940915290555, -0.9504115087571917, 0.08080454931390203, -0.06822407396051144, 1.8545397882412138, -1.781991675658615, 0.5069634754226284, 0.13536961026601027, -1.40195381831533, -1.4068041839087873, 0.3622166305743076, -0.4457873844738736, -0.9343716326706512, -0.5264808670960648, -1.0690107806685092, -1.1255336857593283, 0.4319537090364294, 1.0332955649072268, -0.03694820359802293, -1.3959483651218865, -0.7613294201804793, -1.2954267386270917, -1.1865590458804172, -0.9287688516938558, -0.3458857710129536, 0.27588883592610364, 1.116299044642386, 0.7172814102095483, 0.9165913897926911, -1.5484857970870771, 0.8564547679700436, 0.47484241194012844, 1.1085183479483032], \"y\": [0.6673212267503879, -0.33951726133736765, 0.5359828951046386, 1.539732383272018, -0.5325951858686038, -2.100187513390642, -2.3392670844298875, 2.699132789609899, -1.7969954046817787, 0.9769738955842943, 3.3626621022334278, -3.003993008845271, 1.9433627196771193, 2.601571385463712, 0.3396097359710513, 1.9951469524590055, -1.6900893504284114, 2.7723173396168135, -2.8814879018627484, 2.0329786958366904, 1.2669973958662333, 2.2597578892091357, 2.161361111052521, 0.02030465706227332, -0.32824000412146637, -1.3382046368914386, -2.3583069650608817, -1.4338033061710105, 1.3058617265718897, -0.00828466525960432, 3.066247271606424, 3.9149596064415078, 2.01261800586473, 0.749320195919839, 0.8933096419793505, -1.6501202679163491, -2.2907362539188454, 0.8825112971007723, 0.03819393816007919, 3.7113323110092655, -1.3654602011662567, 2.2121584950381323, -1.405006329378244, -0.8236332137364595, -0.25954175557400094, 0.5456685028712986, -2.389180256121113, -2.1873112302782416, 0.09477074007322649, 0.06493108940675013, 0.3423141258769263, 1.3572131965395038, -0.7302813002307386, 1.9972627329236294, 0.590929560613939, -2.7415964775466697, -2.165934706541803, -2.822167898530089, -0.2845608389556186, 1.1362395954917057, 0.24345529323059534, -3.032157386541272, -1.9295329709131104, 0.7386237448548292, 2.991347048629967, 2.196204761616502, -1.5938913819797322, 1.3465982407301142, 3.216942327599623, 2.3322395154570352, 2.182474072493439, -0.3427466542001276, -2.347919942354751, -1.768794610513398, -0.06405754653298537, 2.7654198990862393, -0.44972787893171534, -4.159217532082294, 1.2797625235653194, 1.771812060450914, -3.981069074818742, 1.2736682589980923, 1.448274763077291, -2.127777066138069, 0.015253443894259993, 1.1793037867252687, 0.014748901762441695, 2.506712858044897, 0.7022717590059345, 0.9244091135149637, -2.2591895822893355, 1.0415967561828436, 2.2683748439751272, 0.657142338164552, -0.5047561094933326, -0.6085846788442181, 0.8713406335620205, -0.2261249678266158, 1.763026273180696, 4.335325397362951], \"type\": \"scatter\", \"uid\": \"a2ca2cfb-4ff8-44f6-9f25-f9968a933241\"}], {}, {\"showLink\": false, \"linkText\": \"Export to plot.ly\", \"plotlyServerURL\": \"https://plot.ly\"}); \n",
       "}\n",
       "});</script><script type=\"text/javascript\">window.addEventListener(\"resize\", function(){if (document.getElementById(\"181bc67d-abd8-44c3-aca6-33e56b5199d9\")) {window._Plotly.Plots.resize(document.getElementById(\"181bc67d-abd8-44c3-aca6-33e56b5199d9\"));};})</script>"
      ],
      "text/vnd.plotly.v1+html": [
       "<div id=\"181bc67d-abd8-44c3-aca6-33e56b5199d9\" style=\"height: 525px; width: 100%;\" class=\"plotly-graph-div\"></div><script type=\"text/javascript\">require([\"plotly\"], function(Plotly) { window.PLOTLYENV=window.PLOTLYENV || {};window.PLOTLYENV.BASE_URL=\"https://plot.ly\";\n",
       "if (document.getElementById(\"181bc67d-abd8-44c3-aca6-33e56b5199d9\")) {\n",
       "    Plotly.newPlot(\"181bc67d-abd8-44c3-aca6-33e56b5199d9\", [{\"mode\": \"markers\", \"x\": [-2.2689487735977507, 0.7443846527887605, 1.0271138119968044, -0.48452974085740663, 0.9552360114889605, 1.5432845916435232, 0.7289006971074449, 0.9169744258204957, -0.5801431597635218, 0.2732039848260005, 1.120675884770808, 0.1566294503087185, -0.4565587509115285, 0.8730469849201433, -0.29773794436831696, 0.7610331441292404, 1.5366813139253264, -1.3910053468963335, 0.2445482733069267, -0.9322025905747051, 0.29695336555256424, 1.2143930224358788, 1.171208412610833, -0.650418572229151, 0.775604275550673, 0.13492865232783693, 0.23210400534110243, 1.3017033116061614, -0.7340132256366515, 1.730433821383496, -1.8338264400173463, 0.01958211835624001, 0.5524401092752966, -0.3090360082848511, -2.0930124514304387, 0.5896658936553059, 0.5078295370453717, -1.0661723910399061, 1.1802421807553203, -0.23570012013659417, 0.7014117113026037, 0.7302478500607642, 0.29667209327357014, -0.513835642544726, -0.9944069405825139, -2.57999075191944, -0.042301968940211404, 0.2551242456867973, -0.5376253550938875, -1.026984377697738, -1.2033100918430655, -0.17608439962794134, -0.21797905376439358, -0.9384242662460154, -1.1174538866327783, -0.3279047178608983, 0.14336206972141657, 1.8403522035657605, -2.183447891107711, -0.10716914925133124, -0.22207604874092016, 0.8270657130540405, -0.29020124153643634, -0.1225522449133544, -1.769890411384257, 0.2464441417133841, -1.2961294854104628, 0.429940915290555, -0.9504115087571917, 0.08080454931390203, -0.06822407396051144, 1.8545397882412138, -1.781991675658615, 0.5069634754226284, 0.13536961026601027, -1.40195381831533, -1.4068041839087873, 0.3622166305743076, -0.4457873844738736, -0.9343716326706512, -0.5264808670960648, -1.0690107806685092, -1.1255336857593283, 0.4319537090364294, 1.0332955649072268, -0.03694820359802293, -1.3959483651218865, -0.7613294201804793, -1.2954267386270917, -1.1865590458804172, -0.9287688516938558, -0.3458857710129536, 0.27588883592610364, 1.116299044642386, 0.7172814102095483, 0.9165913897926911, -1.5484857970870771, 0.8564547679700436, 0.47484241194012844, 1.1085183479483032], \"y\": [0.6673212267503879, -0.33951726133736765, 0.5359828951046386, 1.539732383272018, -0.5325951858686038, -2.100187513390642, -2.3392670844298875, 2.699132789609899, -1.7969954046817787, 0.9769738955842943, 3.3626621022334278, -3.003993008845271, 1.9433627196771193, 2.601571385463712, 0.3396097359710513, 1.9951469524590055, -1.6900893504284114, 2.7723173396168135, -2.8814879018627484, 2.0329786958366904, 1.2669973958662333, 2.2597578892091357, 2.161361111052521, 0.02030465706227332, -0.32824000412146637, -1.3382046368914386, -2.3583069650608817, -1.4338033061710105, 1.3058617265718897, -0.00828466525960432, 3.066247271606424, 3.9149596064415078, 2.01261800586473, 0.749320195919839, 0.8933096419793505, -1.6501202679163491, -2.2907362539188454, 0.8825112971007723, 0.03819393816007919, 3.7113323110092655, -1.3654602011662567, 2.2121584950381323, -1.405006329378244, -0.8236332137364595, -0.25954175557400094, 0.5456685028712986, -2.389180256121113, -2.1873112302782416, 0.09477074007322649, 0.06493108940675013, 0.3423141258769263, 1.3572131965395038, -0.7302813002307386, 1.9972627329236294, 0.590929560613939, -2.7415964775466697, -2.165934706541803, -2.822167898530089, -0.2845608389556186, 1.1362395954917057, 0.24345529323059534, -3.032157386541272, -1.9295329709131104, 0.7386237448548292, 2.991347048629967, 2.196204761616502, -1.5938913819797322, 1.3465982407301142, 3.216942327599623, 2.3322395154570352, 2.182474072493439, -0.3427466542001276, -2.347919942354751, -1.768794610513398, -0.06405754653298537, 2.7654198990862393, -0.44972787893171534, -4.159217532082294, 1.2797625235653194, 1.771812060450914, -3.981069074818742, 1.2736682589980923, 1.448274763077291, -2.127777066138069, 0.015253443894259993, 1.1793037867252687, 0.014748901762441695, 2.506712858044897, 0.7022717590059345, 0.9244091135149637, -2.2591895822893355, 1.0415967561828436, 2.2683748439751272, 0.657142338164552, -0.5047561094933326, -0.6085846788442181, 0.8713406335620205, -0.2261249678266158, 1.763026273180696, 4.335325397362951], \"type\": \"scatter\", \"uid\": \"a2ca2cfb-4ff8-44f6-9f25-f9968a933241\"}], {}, {\"showLink\": false, \"linkText\": \"Export to plot.ly\", \"plotlyServerURL\": \"https://plot.ly\"}); \n",
       "}\n",
       "});</script><script type=\"text/javascript\">window.addEventListener(\"resize\", function(){if (document.getElementById(\"181bc67d-abd8-44c3-aca6-33e56b5199d9\")) {window._Plotly.Plots.resize(document.getElementById(\"181bc67d-abd8-44c3-aca6-33e56b5199d9\"));};})</script>"
      ]
     },
     "metadata": {},
     "output_type": "display_data"
    }
   ],
   "source": [
    "# Create a trace\n",
    "trace = go.Scatter(\n",
    "    x = random_x,\n",
    "    y = random_y,\n",
    "    mode = 'markers'\n",
    ")\n",
    "\n",
    "data = [trace]\n",
    "\n",
    "# Plot and embed in ipython notebook!\n",
    "iplot(data, filename='basic-scatter')"
   ]
  },
  {
   "cell_type": "markdown",
   "metadata": {},
   "source": [
    "###  <center style='color:blue'> line charts </center>"
   ]
  },
  {
   "cell_type": "code",
   "execution_count": 40,
   "metadata": {},
   "outputs": [
    {
     "data": {
      "application/vnd.plotly.v1+json": {
       "data": [
        {
         "mode": "lines",
         "name": "lines",
         "type": "scatter",
         "x": [
          2015,
          2016,
          2017,
          2018,
          2019
         ],
         "y": [
          23,
          130,
          47,
          90,
          201
         ]
        }
       ],
       "layout": {}
      },
      "text/html": [
       "<div id=\"622de79a-7aa1-40a3-824d-ddaff35e3681\" style=\"height: 525px; width: 100%;\" class=\"plotly-graph-div\"></div><script type=\"text/javascript\">require([\"plotly\"], function(Plotly) { window.PLOTLYENV=window.PLOTLYENV || {};window.PLOTLYENV.BASE_URL=\"https://plot.ly\";Plotly.newPlot(\"622de79a-7aa1-40a3-824d-ddaff35e3681\", [{\"type\": \"scatter\", \"x\": [2015, 2016, 2017, 2018, 2019], \"y\": [23, 130, 47, 90, 201], \"mode\": \"lines\", \"name\": \"lines\"}], {}, {\"showLink\": true, \"linkText\": \"Export to plot.ly\"})});</script>"
      ],
      "text/vnd.plotly.v1+html": [
       "<div id=\"622de79a-7aa1-40a3-824d-ddaff35e3681\" style=\"height: 525px; width: 100%;\" class=\"plotly-graph-div\"></div><script type=\"text/javascript\">require([\"plotly\"], function(Plotly) { window.PLOTLYENV=window.PLOTLYENV || {};window.PLOTLYENV.BASE_URL=\"https://plot.ly\";Plotly.newPlot(\"622de79a-7aa1-40a3-824d-ddaff35e3681\", [{\"type\": \"scatter\", \"x\": [2015, 2016, 2017, 2018, 2019], \"y\": [23, 130, 47, 90, 201], \"mode\": \"lines\", \"name\": \"lines\"}], {}, {\"showLink\": true, \"linkText\": \"Export to plot.ly\"})});</script>"
      ]
     },
     "metadata": {},
     "output_type": "display_data"
    }
   ],
   "source": [
    "\n",
    "year = [2015,2016,2017,2018,2019]\n",
    "reading_hours = [23,130,47,90,201]\n",
    "\n",
    "\n",
    "trace = go.Scatter(\n",
    "    x = year,\n",
    "    y = reading_hours,\n",
    "    mode = 'lines',\n",
    "    name = 'lines'\n",
    ")\n",
    "\n",
    "iplot([trace])"
   ]
  },
  {
   "cell_type": "markdown",
   "metadata": {},
   "source": [
    "### Adding axis labels"
   ]
  },
  {
   "cell_type": "code",
   "execution_count": 42,
   "metadata": {},
   "outputs": [
    {
     "data": {
      "application/vnd.plotly.v1+json": {
       "data": [
        {
         "mode": "lines",
         "name": "lines",
         "type": "scatter",
         "x": [
          "2015",
          "2016",
          "2017",
          "2018",
          "2019"
         ],
         "y": [
          23,
          130,
          47,
          90,
          201
         ]
        }
       ],
       "layout": {
        "title": "Average High and Low Temperatures in New York",
        "xaxis": {
         "title": "Month"
        },
        "yaxis": {
         "title": "Temperature (degrees F)"
        }
       }
      },
      "text/html": [
       "<div id=\"7d53ec7c-c26c-4b66-b91c-f7a1f0c3f83f\" style=\"height: 525px; width: 100%;\" class=\"plotly-graph-div\"></div><script type=\"text/javascript\">require([\"plotly\"], function(Plotly) { window.PLOTLYENV=window.PLOTLYENV || {};window.PLOTLYENV.BASE_URL=\"https://plot.ly\";Plotly.newPlot(\"7d53ec7c-c26c-4b66-b91c-f7a1f0c3f83f\", [{\"type\": \"scatter\", \"x\": [\"2015\", \"2016\", \"2017\", \"2018\", \"2019\"], \"y\": [23, 130, 47, 90, 201], \"mode\": \"lines\", \"name\": \"lines\"}], {\"title\": \"Average High and Low Temperatures in New York\", \"xaxis\": {\"title\": \"Month\"}, \"yaxis\": {\"title\": \"Temperature (degrees F)\"}}, {\"showLink\": true, \"linkText\": \"Export to plot.ly\"})});</script>"
      ],
      "text/vnd.plotly.v1+html": [
       "<div id=\"7d53ec7c-c26c-4b66-b91c-f7a1f0c3f83f\" style=\"height: 525px; width: 100%;\" class=\"plotly-graph-div\"></div><script type=\"text/javascript\">require([\"plotly\"], function(Plotly) { window.PLOTLYENV=window.PLOTLYENV || {};window.PLOTLYENV.BASE_URL=\"https://plot.ly\";Plotly.newPlot(\"7d53ec7c-c26c-4b66-b91c-f7a1f0c3f83f\", [{\"type\": \"scatter\", \"x\": [\"2015\", \"2016\", \"2017\", \"2018\", \"2019\"], \"y\": [23, 130, 47, 90, 201], \"mode\": \"lines\", \"name\": \"lines\"}], {\"title\": \"Average High and Low Temperatures in New York\", \"xaxis\": {\"title\": \"Month\"}, \"yaxis\": {\"title\": \"Temperature (degrees F)\"}}, {\"showLink\": true, \"linkText\": \"Export to plot.ly\"})});</script>"
      ]
     },
     "metadata": {},
     "output_type": "display_data"
    }
   ],
   "source": [
    "year = [2015,2016,2017,2018,2019]\n",
    "reading_hours = [23,130,47,90,201]\n",
    "\n",
    "\n",
    "trace = go.Scatter(\n",
    "    x = year,\n",
    "    y = reading_hours,\n",
    "    mode = 'lines',\n",
    "    name = 'lines'\n",
    ")\n",
    "\n",
    "data = [trace]\n",
    "\n",
    "layout = dict(title = 'Average High and Low Temperatures in New York',\n",
    "              xaxis = dict(title = 'Month'),\n",
    "              yaxis = dict(title = 'Temperature (degrees F)'),\n",
    "              )\n",
    "\n",
    "fig = dict(data=data, \n",
    "           layout=layout)\n",
    "\n",
    "iplot(fig, filename='styled-line')"
   ]
  },
  {
   "cell_type": "markdown",
   "metadata": {},
   "source": [
    "###  <center style='color:blue'> Bar charts </center>"
   ]
  },
  {
   "cell_type": "code",
   "execution_count": null,
   "metadata": {},
   "outputs": [],
   "source": [
    "data = {'name':['samir','jamila','khalid'],\n",
    "'math_score':[12,14,16]}\n",
    "\n",
    "df = pd.DataFrame(data)\n",
    "df = df[['name','math_score']]\n",
    "df"
   ]
  },
  {
   "cell_type": "code",
   "execution_count": 11,
   "metadata": {},
   "outputs": [
    {
     "data": {
      "application/vnd.plotly.v1+json": {
       "config": {
        "linkText": "Export to plot.ly",
        "plotlyServerURL": "https://plot.ly",
        "showLink": false
       },
       "data": [
        {
         "type": "bar",
         "uid": "53357c7e-a80d-449b-952b-c91f27357af5",
         "x": [
          "samir",
          "jamila",
          "khalid"
         ],
         "y": [
          12,
          14,
          16
         ]
        }
       ],
       "layout": {}
      },
      "text/html": [
       "<div id=\"4793c724-bd32-4e24-9792-8e7302dbb6ba\" style=\"height: 525px; width: 100%;\" class=\"plotly-graph-div\"></div><script type=\"text/javascript\">require([\"plotly\"], function(Plotly) { window.PLOTLYENV=window.PLOTLYENV || {};window.PLOTLYENV.BASE_URL=\"https://plot.ly\";\n",
       "if (document.getElementById(\"4793c724-bd32-4e24-9792-8e7302dbb6ba\")) {\n",
       "    Plotly.newPlot(\"4793c724-bd32-4e24-9792-8e7302dbb6ba\", [{\"x\": [\"samir\", \"jamila\", \"khalid\"], \"y\": [12, 14, 16], \"type\": \"bar\", \"uid\": \"73add851-8028-489a-a85c-f3aeb4d4b0cb\"}], {}, {\"showLink\": false, \"linkText\": \"Export to plot.ly\", \"plotlyServerURL\": \"https://plot.ly\"}); \n",
       "}\n",
       "});</script><script type=\"text/javascript\">window.addEventListener(\"resize\", function(){if (document.getElementById(\"4793c724-bd32-4e24-9792-8e7302dbb6ba\")) {window._Plotly.Plots.resize(document.getElementById(\"4793c724-bd32-4e24-9792-8e7302dbb6ba\"));};})</script>"
      ],
      "text/vnd.plotly.v1+html": [
       "<div id=\"4793c724-bd32-4e24-9792-8e7302dbb6ba\" style=\"height: 525px; width: 100%;\" class=\"plotly-graph-div\"></div><script type=\"text/javascript\">require([\"plotly\"], function(Plotly) { window.PLOTLYENV=window.PLOTLYENV || {};window.PLOTLYENV.BASE_URL=\"https://plot.ly\";\n",
       "if (document.getElementById(\"4793c724-bd32-4e24-9792-8e7302dbb6ba\")) {\n",
       "    Plotly.newPlot(\"4793c724-bd32-4e24-9792-8e7302dbb6ba\", [{\"x\": [\"samir\", \"jamila\", \"khalid\"], \"y\": [12, 14, 16], \"type\": \"bar\", \"uid\": \"73add851-8028-489a-a85c-f3aeb4d4b0cb\"}], {}, {\"showLink\": false, \"linkText\": \"Export to plot.ly\", \"plotlyServerURL\": \"https://plot.ly\"}); \n",
       "}\n",
       "});</script><script type=\"text/javascript\">window.addEventListener(\"resize\", function(){if (document.getElementById(\"4793c724-bd32-4e24-9792-8e7302dbb6ba\")) {window._Plotly.Plots.resize(document.getElementById(\"4793c724-bd32-4e24-9792-8e7302dbb6ba\"));};})</script>"
      ]
     },
     "metadata": {},
     "output_type": "display_data"
    }
   ],
   "source": [
    "\n",
    "trace = go.Bar(\n",
    "    x=df.name,\n",
    "    y=df.math_score\n",
    "    )\n",
    "\n",
    "iplot([trace])"
   ]
  },
  {
   "cell_type": "markdown",
   "metadata": {},
   "source": [
    "###  <center style='color:blue'>  pie charts </center>"
   ]
  },
  {
   "cell_type": "code",
   "execution_count": 24,
   "metadata": {},
   "outputs": [
    {
     "data": {
      "application/vnd.plotly.v1+json": {
       "data": [
        {
         "labels": [
          "rent",
          "food",
          "clothes",
          "hobbies",
          "phone"
         ],
         "type": "pie",
         "values": [
          700,
          230,
          80,
          43,
          20
         ]
        }
       ],
       "layout": {}
      },
      "text/html": [
       "<div id=\"7cd19638-2eda-4886-b13c-a97bd55ad10d\" style=\"height: 525px; width: 100%;\" class=\"plotly-graph-div\"></div><script type=\"text/javascript\">require([\"plotly\"], function(Plotly) { window.PLOTLYENV=window.PLOTLYENV || {};window.PLOTLYENV.BASE_URL=\"https://plot.ly\";Plotly.newPlot(\"7cd19638-2eda-4886-b13c-a97bd55ad10d\", [{\"type\": \"pie\", \"labels\": [\"rent\", \"food\", \"clothes\", \"hobbies\", \"phone\"], \"values\": [700, 230, 80, 43, 20]}], {}, {\"showLink\": true, \"linkText\": \"Export to plot.ly\"})});</script>"
      ],
      "text/vnd.plotly.v1+html": [
       "<div id=\"7cd19638-2eda-4886-b13c-a97bd55ad10d\" style=\"height: 525px; width: 100%;\" class=\"plotly-graph-div\"></div><script type=\"text/javascript\">require([\"plotly\"], function(Plotly) { window.PLOTLYENV=window.PLOTLYENV || {};window.PLOTLYENV.BASE_URL=\"https://plot.ly\";Plotly.newPlot(\"7cd19638-2eda-4886-b13c-a97bd55ad10d\", [{\"type\": \"pie\", \"labels\": [\"rent\", \"food\", \"clothes\", \"hobbies\", \"phone\"], \"values\": [700, 230, 80, 43, 20]}], {}, {\"showLink\": true, \"linkText\": \"Export to plot.ly\"})});</script>"
      ]
     },
     "metadata": {},
     "output_type": "display_data"
    }
   ],
   "source": [
    "labels = ['rent','food','clothes','hobbies','phone']\n",
    "values = [700,230,80,43,20]\n",
    "\n",
    "trace = go.Pie(labels=labels, values=values)\n",
    "\n",
    "iplot([trace], filename='basic_pie_chart')"
   ]
  },
  {
   "cell_type": "markdown",
   "metadata": {},
   "source": [
    "### Latex"
   ]
  },
  {
   "cell_type": "code",
   "execution_count": 13,
   "metadata": {},
   "outputs": [
    {
     "data": {
      "text/latex": [
       "$$F(k) = \\int_{0}^{\\infty} f(t) e^{2\\pi i k} dt$$"
      ],
      "text/plain": [
       "<IPython.core.display.Math object>"
      ]
     },
     "metadata": {},
     "output_type": "display_data"
    }
   ],
   "source": [
    "from IPython.display import display, Math, Latex\n",
    "\n",
    "display(Math(r'F(k) = \\int_{0}^{\\infty} f(t) e^{2\\pi i k} dt'))"
   ]
  },
  {
   "cell_type": "markdown",
   "metadata": {},
   "source": [
    "-----"
   ]
  }
 ],
 "metadata": {
  "kernelspec": {
   "display_name": "Python 3",
   "language": "python",
   "name": "python3"
  },
  "language_info": {
   "codemirror_mode": {
    "name": "ipython",
    "version": 3
   },
   "file_extension": ".py",
   "mimetype": "text/x-python",
   "name": "python",
   "nbconvert_exporter": "python",
   "pygments_lexer": "ipython3",
   "version": "3.6.4"
  }
 },
 "nbformat": 4,
 "nbformat_minor": 2
}
