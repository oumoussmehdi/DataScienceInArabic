{
 "cells": [
  {
   "cell_type": "markdown",
   "metadata": {},
   "source": [
    "# <center style='color:red'>Plotly </center>\n",
    "https://plot.ly/python/ipython-notebook-tutorial/\n",
    "\n",
    "https://plot.ly/python/basic-charts/"
   ]
  },
  {
   "cell_type": "code",
   "execution_count": null,
   "metadata": {},
   "outputs": [],
   "source": [
    "import pandas as pd\n",
    "import numpy as np\n",
    "import scipy as sp"
   ]
  },
  {
   "cell_type": "code",
   "execution_count": null,
   "metadata": {},
   "outputs": [],
   "source": [
    "import plotly.plotly as py\n",
    "import plotly.graph_objs as go\n",
    "import plotly.figure_factory as ff\n",
    "#init_notebook_mode(connected=True)\n",
    "from plotly.offline import download_plotlyjs, init_notebook_mode, plot, iplot\n",
    "#import plotly.offline as pyo\n",
    "init_notebook_mode(connected=True)\n",
    "import plotly.io as pio\n"
   ]
  },
  {
   "cell_type": "markdown",
   "metadata": {},
   "source": [
    "### Scatter plots"
   ]
  },
  {
   "cell_type": "code",
   "execution_count": 6,
   "metadata": {},
   "outputs": [
    {
     "name": "stdout",
     "output_type": "stream",
     "text": [
      "[ 0.08728267  0.24726873 -0.927292    0.24734622 -1.97198504  0.74847355\n",
      " -1.5113481   0.40153625  0.11532386 -0.46406222]\n",
      "[-1.90143766  3.28851111 -2.15301259 -1.57221502  2.25015028  0.20017061\n",
      " -0.54166445  2.15789159 -2.63702933 -3.27296961]\n"
     ]
    }
   ],
   "source": [
    "N = 100\n",
    "random_x = np.random.randn(N)\n",
    "random_y = np.random.randn(N) * 2\n",
    "print(random_x[:10])\n",
    "print(random_y[:10])"
   ]
  },
  {
   "cell_type": "code",
   "execution_count": 7,
   "metadata": {},
   "outputs": [
    {
     "data": {
      "application/vnd.plotly.v1+json": {
       "config": {
        "linkText": "Export to plot.ly",
        "plotlyServerURL": "https://plot.ly",
        "showLink": false
       },
       "data": [
        {
         "mode": "markers",
         "type": "scatter",
         "uid": "02587a41-d3b7-41fa-affa-29a133afa195",
         "x": [
          0.08728267131926037,
          0.24726873247843023,
          -0.9272919957647521,
          0.24734621957954983,
          -1.971985044924735,
          0.7484735542552371,
          -1.5113481038262726,
          0.4015362542869216,
          0.11532385644099842,
          -0.4640622223671818,
          -0.5914280599951826,
          -2.124071923866865,
          -1.6719345044373557,
          0.2694801486257723,
          -0.5756161643050466,
          -1.4108628146811213,
          0.8141966649594343,
          -1.4618153222324275,
          1.1239321478173885,
          -0.7616316802386669,
          -1.4560269570127558,
          0.2920871869634306,
          2.2001925190695615,
          0.37258354252913545,
          -1.6430351712228282,
          0.6350737493093701,
          -0.6792237214915756,
          0.00966784664164081,
          -0.7006124604773503,
          -1.0218119479883323,
          0.32469781466983266,
          0.8633699330732216,
          -0.9343142859739223,
          0.33429699411211466,
          0.6215768003815451,
          1.2752304143920734,
          1.3294410110072916,
          -1.1226140251990246,
          0.38343273111609216,
          1.6632174489676668,
          0.5901696289591942,
          0.32111813098224806,
          -0.9705879415413228,
          0.8302986418843982,
          0.8663594981540474,
          0.21194734766770199,
          -0.2892232634602014,
          0.48341590980516597,
          0.1923414137507125,
          1.8098946518713885,
          -1.9329359508445685,
          -0.8015146511768657,
          1.8497650497485363,
          0.2271761008419609,
          1.0414636972154525,
          -0.10420211165464413,
          -0.9924462821877531,
          0.11961365297230304,
          0.11071952312202506,
          -1.1228397241598087,
          -1.6582635706549982,
          0.23162873157193084,
          0.4124095446815697,
          2.396916284923952,
          -1.0125496129967957,
          0.7618535151026984,
          -1.2108191716075194,
          -0.6395626753157002,
          -1.481481774476601,
          0.1352337276754604,
          -0.830276987557967,
          1.8486548152989728,
          -0.07139331821150095,
          -0.02004282657072659,
          -1.551646935938146,
          1.813790344282252,
          -1.9073499257063702,
          -2.4343896168089634,
          0.2776378424746782,
          0.09814401141499995,
          -0.897350985579326,
          0.009630380932174713,
          -0.6493399539917097,
          -1.7947506335052665,
          -2.1855402868622043,
          0.9180484005021948,
          -1.5419237297667778,
          0.5626970362457017,
          -0.05792509579124859,
          -0.5485412779086672,
          -0.5181464367444686,
          1.9393337221761442,
          1.2279113965537207,
          -1.319036167324428,
          1.501358650460055,
          -1.2057164595476524,
          -0.9738630095621424,
          -0.7488285486640156,
          -1.2890198218096214,
          0.7310904342612379
         ],
         "y": [
          -1.9014376578219856,
          3.288511109069634,
          -2.1530125881888904,
          -1.5722150168479139,
          2.250150275171562,
          0.20017060626592637,
          -0.5416644465419275,
          2.1578915867235935,
          -2.637029330910881,
          -3.27296960882466,
          -0.8538212379077205,
          -0.9628936114350136,
          1.379061668481972,
          2.7499570822719326,
          0.961766326901837,
          0.5258529274703689,
          1.5779221803318428,
          -0.275408301378681,
          -0.31593722049382794,
          -1.7151979759454075,
          -1.2817777364695526,
          -2.5491878613099623,
          1.339387067755308,
          2.2676131882876134,
          -1.437822875078129,
          -1.8793662130481104,
          1.9855286366739449,
          1.4164740423308295,
          -1.9113699982427272,
          1.580183171586292,
          0.36277983299326616,
          0.033219719562371575,
          2.3054426222033197,
          -0.6301350912382314,
          -1.3565704820830642,
          -2.9267158162182985,
          1.4522325321810163,
          -0.038281960846819243,
          0.9767340237973736,
          2.3012588102193794,
          -0.8982449051473528,
          -1.3579819016619654,
          -2.4421950980205382,
          0.7086417563843108,
          2.7900515245085535,
          1.2008345619906746,
          0.8335709967879604,
          -1.4943140031381068,
          -1.493825941720754,
          -1.5688068901517762,
          -0.9837484543607898,
          1.2676114756504464,
          -0.2264836996627886,
          -0.4107790577824956,
          1.8139714037069747,
          1.5677880087361296,
          -0.7436520422734136,
          1.1758259454032216,
          0.8954883824194553,
          -0.6099537232928399,
          2.928141697706332,
          -0.10175468186250483,
          0.37277588589627986,
          -1.2375957511549973,
          3.6724679995210856,
          -2.124020900578244,
          1.0456881549467971,
          -0.1646232049043388,
          -1.8927224976044796,
          1.8041403341278501,
          0.27863868940064446,
          0.3175647175761266,
          1.078736306115137,
          0.34409070014961823,
          -0.4356861305129596,
          0.11132971654111277,
          -3.4691313114269033,
          -2.259180746342769,
          1.365877716494733,
          0.7789977627093497,
          1.3068021645985994,
          -2.0674655320295505,
          0.46831070279282483,
          1.8081131030497206,
          0.8874564592820268,
          0.3126890516428679,
          -0.719914617782272,
          -0.99589190975061,
          0.9462045507938388,
          0.09018438427125725,
          -0.45782178508096405,
          1.000273055694672,
          0.041139328428288165,
          -2.1875000225248558,
          1.267407670072422,
          0.4727438116981684,
          -3.3142016358680593,
          -2.020161125933863,
          -1.0082567288427673,
          -1.4267713452907456
         ]
        }
       ],
       "layout": {}
      },
      "text/html": [
       "<div id=\"c2dcdc5d-f66a-459f-8dbc-918bd4f1841f\" style=\"height: 525px; width: 100%;\" class=\"plotly-graph-div\"></div><script type=\"text/javascript\">require([\"plotly\"], function(Plotly) { window.PLOTLYENV=window.PLOTLYENV || {};window.PLOTLYENV.BASE_URL=\"https://plot.ly\";\n",
       "if (document.getElementById(\"c2dcdc5d-f66a-459f-8dbc-918bd4f1841f\")) {\n",
       "    Plotly.newPlot(\"c2dcdc5d-f66a-459f-8dbc-918bd4f1841f\", [{\"mode\": \"markers\", \"x\": [0.08728267131926037, 0.24726873247843023, -0.9272919957647521, 0.24734621957954983, -1.971985044924735, 0.7484735542552371, -1.5113481038262726, 0.4015362542869216, 0.11532385644099842, -0.4640622223671818, -0.5914280599951826, -2.124071923866865, -1.6719345044373557, 0.2694801486257723, -0.5756161643050466, -1.4108628146811213, 0.8141966649594343, -1.4618153222324275, 1.1239321478173885, -0.7616316802386669, -1.4560269570127558, 0.2920871869634306, 2.2001925190695615, 0.37258354252913545, -1.6430351712228282, 0.6350737493093701, -0.6792237214915756, 0.00966784664164081, -0.7006124604773503, -1.0218119479883323, 0.32469781466983266, 0.8633699330732216, -0.9343142859739223, 0.33429699411211466, 0.6215768003815451, 1.2752304143920734, 1.3294410110072916, -1.1226140251990246, 0.38343273111609216, 1.6632174489676668, 0.5901696289591942, 0.32111813098224806, -0.9705879415413228, 0.8302986418843982, 0.8663594981540474, 0.21194734766770199, -0.2892232634602014, 0.48341590980516597, 0.1923414137507125, 1.8098946518713885, -1.9329359508445685, -0.8015146511768657, 1.8497650497485363, 0.2271761008419609, 1.0414636972154525, -0.10420211165464413, -0.9924462821877531, 0.11961365297230304, 0.11071952312202506, -1.1228397241598087, -1.6582635706549982, 0.23162873157193084, 0.4124095446815697, 2.396916284923952, -1.0125496129967957, 0.7618535151026984, -1.2108191716075194, -0.6395626753157002, -1.481481774476601, 0.1352337276754604, -0.830276987557967, 1.8486548152989728, -0.07139331821150095, -0.02004282657072659, -1.551646935938146, 1.813790344282252, -1.9073499257063702, -2.4343896168089634, 0.2776378424746782, 0.09814401141499995, -0.897350985579326, 0.009630380932174713, -0.6493399539917097, -1.7947506335052665, -2.1855402868622043, 0.9180484005021948, -1.5419237297667778, 0.5626970362457017, -0.05792509579124859, -0.5485412779086672, -0.5181464367444686, 1.9393337221761442, 1.2279113965537207, -1.319036167324428, 1.501358650460055, -1.2057164595476524, -0.9738630095621424, -0.7488285486640156, -1.2890198218096214, 0.7310904342612379], \"y\": [-1.9014376578219856, 3.288511109069634, -2.1530125881888904, -1.5722150168479139, 2.250150275171562, 0.20017060626592637, -0.5416644465419275, 2.1578915867235935, -2.637029330910881, -3.27296960882466, -0.8538212379077205, -0.9628936114350136, 1.379061668481972, 2.7499570822719326, 0.961766326901837, 0.5258529274703689, 1.5779221803318428, -0.275408301378681, -0.31593722049382794, -1.7151979759454075, -1.2817777364695526, -2.5491878613099623, 1.339387067755308, 2.2676131882876134, -1.437822875078129, -1.8793662130481104, 1.9855286366739449, 1.4164740423308295, -1.9113699982427272, 1.580183171586292, 0.36277983299326616, 0.033219719562371575, 2.3054426222033197, -0.6301350912382314, -1.3565704820830642, -2.9267158162182985, 1.4522325321810163, -0.038281960846819243, 0.9767340237973736, 2.3012588102193794, -0.8982449051473528, -1.3579819016619654, -2.4421950980205382, 0.7086417563843108, 2.7900515245085535, 1.2008345619906746, 0.8335709967879604, -1.4943140031381068, -1.493825941720754, -1.5688068901517762, -0.9837484543607898, 1.2676114756504464, -0.2264836996627886, -0.4107790577824956, 1.8139714037069747, 1.5677880087361296, -0.7436520422734136, 1.1758259454032216, 0.8954883824194553, -0.6099537232928399, 2.928141697706332, -0.10175468186250483, 0.37277588589627986, -1.2375957511549973, 3.6724679995210856, -2.124020900578244, 1.0456881549467971, -0.1646232049043388, -1.8927224976044796, 1.8041403341278501, 0.27863868940064446, 0.3175647175761266, 1.078736306115137, 0.34409070014961823, -0.4356861305129596, 0.11132971654111277, -3.4691313114269033, -2.259180746342769, 1.365877716494733, 0.7789977627093497, 1.3068021645985994, -2.0674655320295505, 0.46831070279282483, 1.8081131030497206, 0.8874564592820268, 0.3126890516428679, -0.719914617782272, -0.99589190975061, 0.9462045507938388, 0.09018438427125725, -0.45782178508096405, 1.000273055694672, 0.041139328428288165, -2.1875000225248558, 1.267407670072422, 0.4727438116981684, -3.3142016358680593, -2.020161125933863, -1.0082567288427673, -1.4267713452907456], \"type\": \"scatter\", \"uid\": \"6ef65b95-62a6-4efa-87e2-940fc672b734\"}], {}, {\"showLink\": false, \"linkText\": \"Export to plot.ly\", \"plotlyServerURL\": \"https://plot.ly\"}); \n",
       "}\n",
       "});</script><script type=\"text/javascript\">window.addEventListener(\"resize\", function(){if (document.getElementById(\"c2dcdc5d-f66a-459f-8dbc-918bd4f1841f\")) {window._Plotly.Plots.resize(document.getElementById(\"c2dcdc5d-f66a-459f-8dbc-918bd4f1841f\"));};})</script>"
      ],
      "text/vnd.plotly.v1+html": [
       "<div id=\"c2dcdc5d-f66a-459f-8dbc-918bd4f1841f\" style=\"height: 525px; width: 100%;\" class=\"plotly-graph-div\"></div><script type=\"text/javascript\">require([\"plotly\"], function(Plotly) { window.PLOTLYENV=window.PLOTLYENV || {};window.PLOTLYENV.BASE_URL=\"https://plot.ly\";\n",
       "if (document.getElementById(\"c2dcdc5d-f66a-459f-8dbc-918bd4f1841f\")) {\n",
       "    Plotly.newPlot(\"c2dcdc5d-f66a-459f-8dbc-918bd4f1841f\", [{\"mode\": \"markers\", \"x\": [0.08728267131926037, 0.24726873247843023, -0.9272919957647521, 0.24734621957954983, -1.971985044924735, 0.7484735542552371, -1.5113481038262726, 0.4015362542869216, 0.11532385644099842, -0.4640622223671818, -0.5914280599951826, -2.124071923866865, -1.6719345044373557, 0.2694801486257723, -0.5756161643050466, -1.4108628146811213, 0.8141966649594343, -1.4618153222324275, 1.1239321478173885, -0.7616316802386669, -1.4560269570127558, 0.2920871869634306, 2.2001925190695615, 0.37258354252913545, -1.6430351712228282, 0.6350737493093701, -0.6792237214915756, 0.00966784664164081, -0.7006124604773503, -1.0218119479883323, 0.32469781466983266, 0.8633699330732216, -0.9343142859739223, 0.33429699411211466, 0.6215768003815451, 1.2752304143920734, 1.3294410110072916, -1.1226140251990246, 0.38343273111609216, 1.6632174489676668, 0.5901696289591942, 0.32111813098224806, -0.9705879415413228, 0.8302986418843982, 0.8663594981540474, 0.21194734766770199, -0.2892232634602014, 0.48341590980516597, 0.1923414137507125, 1.8098946518713885, -1.9329359508445685, -0.8015146511768657, 1.8497650497485363, 0.2271761008419609, 1.0414636972154525, -0.10420211165464413, -0.9924462821877531, 0.11961365297230304, 0.11071952312202506, -1.1228397241598087, -1.6582635706549982, 0.23162873157193084, 0.4124095446815697, 2.396916284923952, -1.0125496129967957, 0.7618535151026984, -1.2108191716075194, -0.6395626753157002, -1.481481774476601, 0.1352337276754604, -0.830276987557967, 1.8486548152989728, -0.07139331821150095, -0.02004282657072659, -1.551646935938146, 1.813790344282252, -1.9073499257063702, -2.4343896168089634, 0.2776378424746782, 0.09814401141499995, -0.897350985579326, 0.009630380932174713, -0.6493399539917097, -1.7947506335052665, -2.1855402868622043, 0.9180484005021948, -1.5419237297667778, 0.5626970362457017, -0.05792509579124859, -0.5485412779086672, -0.5181464367444686, 1.9393337221761442, 1.2279113965537207, -1.319036167324428, 1.501358650460055, -1.2057164595476524, -0.9738630095621424, -0.7488285486640156, -1.2890198218096214, 0.7310904342612379], \"y\": [-1.9014376578219856, 3.288511109069634, -2.1530125881888904, -1.5722150168479139, 2.250150275171562, 0.20017060626592637, -0.5416644465419275, 2.1578915867235935, -2.637029330910881, -3.27296960882466, -0.8538212379077205, -0.9628936114350136, 1.379061668481972, 2.7499570822719326, 0.961766326901837, 0.5258529274703689, 1.5779221803318428, -0.275408301378681, -0.31593722049382794, -1.7151979759454075, -1.2817777364695526, -2.5491878613099623, 1.339387067755308, 2.2676131882876134, -1.437822875078129, -1.8793662130481104, 1.9855286366739449, 1.4164740423308295, -1.9113699982427272, 1.580183171586292, 0.36277983299326616, 0.033219719562371575, 2.3054426222033197, -0.6301350912382314, -1.3565704820830642, -2.9267158162182985, 1.4522325321810163, -0.038281960846819243, 0.9767340237973736, 2.3012588102193794, -0.8982449051473528, -1.3579819016619654, -2.4421950980205382, 0.7086417563843108, 2.7900515245085535, 1.2008345619906746, 0.8335709967879604, -1.4943140031381068, -1.493825941720754, -1.5688068901517762, -0.9837484543607898, 1.2676114756504464, -0.2264836996627886, -0.4107790577824956, 1.8139714037069747, 1.5677880087361296, -0.7436520422734136, 1.1758259454032216, 0.8954883824194553, -0.6099537232928399, 2.928141697706332, -0.10175468186250483, 0.37277588589627986, -1.2375957511549973, 3.6724679995210856, -2.124020900578244, 1.0456881549467971, -0.1646232049043388, -1.8927224976044796, 1.8041403341278501, 0.27863868940064446, 0.3175647175761266, 1.078736306115137, 0.34409070014961823, -0.4356861305129596, 0.11132971654111277, -3.4691313114269033, -2.259180746342769, 1.365877716494733, 0.7789977627093497, 1.3068021645985994, -2.0674655320295505, 0.46831070279282483, 1.8081131030497206, 0.8874564592820268, 0.3126890516428679, -0.719914617782272, -0.99589190975061, 0.9462045507938388, 0.09018438427125725, -0.45782178508096405, 1.000273055694672, 0.041139328428288165, -2.1875000225248558, 1.267407670072422, 0.4727438116981684, -3.3142016358680593, -2.020161125933863, -1.0082567288427673, -1.4267713452907456], \"type\": \"scatter\", \"uid\": \"6ef65b95-62a6-4efa-87e2-940fc672b734\"}], {}, {\"showLink\": false, \"linkText\": \"Export to plot.ly\", \"plotlyServerURL\": \"https://plot.ly\"}); \n",
       "}\n",
       "});</script><script type=\"text/javascript\">window.addEventListener(\"resize\", function(){if (document.getElementById(\"c2dcdc5d-f66a-459f-8dbc-918bd4f1841f\")) {window._Plotly.Plots.resize(document.getElementById(\"c2dcdc5d-f66a-459f-8dbc-918bd4f1841f\"));};})</script>"
      ]
     },
     "metadata": {},
     "output_type": "display_data"
    }
   ],
   "source": [
    "# Create a trace\n",
    "trace = go.Scatter(\n",
    "    x = random_x,\n",
    "    y = random_y,\n",
    "    mode = 'markers'\n",
    ")\n",
    "\n",
    "data = [trace]\n",
    "\n",
    "# Plot and embed in ipython notebook!\n",
    "iplot(data, filename='basic-scatter')"
   ]
  },
  {
   "cell_type": "markdown",
   "metadata": {},
   "source": [
    "###  <center style='color:blue'> line charts </center>"
   ]
  },
  {
   "cell_type": "code",
   "execution_count": 8,
   "metadata": {},
   "outputs": [
    {
     "data": {
      "application/vnd.plotly.v1+json": {
       "config": {
        "linkText": "Export to plot.ly",
        "plotlyServerURL": "https://plot.ly",
        "showLink": false
       },
       "data": [
        {
         "mode": "lines",
         "name": "lines",
         "type": "scatter",
         "uid": "8a5d14f1-9adb-4e31-94e0-26351ae7622e",
         "x": [
          2015,
          2016,
          2017,
          2018,
          2019
         ],
         "y": [
          23,
          130,
          47,
          90,
          201
         ]
        }
       ],
       "layout": {}
      },
      "text/html": [
       "<div id=\"04a79478-f49b-4fd4-92f6-f4f1593d4054\" style=\"height: 525px; width: 100%;\" class=\"plotly-graph-div\"></div><script type=\"text/javascript\">require([\"plotly\"], function(Plotly) { window.PLOTLYENV=window.PLOTLYENV || {};window.PLOTLYENV.BASE_URL=\"https://plot.ly\";\n",
       "if (document.getElementById(\"04a79478-f49b-4fd4-92f6-f4f1593d4054\")) {\n",
       "    Plotly.newPlot(\"04a79478-f49b-4fd4-92f6-f4f1593d4054\", [{\"mode\": \"lines\", \"name\": \"lines\", \"x\": [2015, 2016, 2017, 2018, 2019], \"y\": [23, 130, 47, 90, 201], \"type\": \"scatter\", \"uid\": \"54e2eb4d-6cd1-43dc-b8f2-be2b7dcd0685\"}], {}, {\"showLink\": false, \"linkText\": \"Export to plot.ly\", \"plotlyServerURL\": \"https://plot.ly\"}); \n",
       "}\n",
       "});</script><script type=\"text/javascript\">window.addEventListener(\"resize\", function(){if (document.getElementById(\"04a79478-f49b-4fd4-92f6-f4f1593d4054\")) {window._Plotly.Plots.resize(document.getElementById(\"04a79478-f49b-4fd4-92f6-f4f1593d4054\"));};})</script>"
      ],
      "text/vnd.plotly.v1+html": [
       "<div id=\"04a79478-f49b-4fd4-92f6-f4f1593d4054\" style=\"height: 525px; width: 100%;\" class=\"plotly-graph-div\"></div><script type=\"text/javascript\">require([\"plotly\"], function(Plotly) { window.PLOTLYENV=window.PLOTLYENV || {};window.PLOTLYENV.BASE_URL=\"https://plot.ly\";\n",
       "if (document.getElementById(\"04a79478-f49b-4fd4-92f6-f4f1593d4054\")) {\n",
       "    Plotly.newPlot(\"04a79478-f49b-4fd4-92f6-f4f1593d4054\", [{\"mode\": \"lines\", \"name\": \"lines\", \"x\": [2015, 2016, 2017, 2018, 2019], \"y\": [23, 130, 47, 90, 201], \"type\": \"scatter\", \"uid\": \"54e2eb4d-6cd1-43dc-b8f2-be2b7dcd0685\"}], {}, {\"showLink\": false, \"linkText\": \"Export to plot.ly\", \"plotlyServerURL\": \"https://plot.ly\"}); \n",
       "}\n",
       "});</script><script type=\"text/javascript\">window.addEventListener(\"resize\", function(){if (document.getElementById(\"04a79478-f49b-4fd4-92f6-f4f1593d4054\")) {window._Plotly.Plots.resize(document.getElementById(\"04a79478-f49b-4fd4-92f6-f4f1593d4054\"));};})</script>"
      ]
     },
     "metadata": {},
     "output_type": "display_data"
    }
   ],
   "source": [
    "\n",
    "year = [2015,2016,2017,2018,2019]\n",
    "reading_hours = [23,130,47,90,201]\n",
    "\n",
    "\n",
    "trace = go.Scatter(\n",
    "    x = year,\n",
    "    y = reading_hours,\n",
    "    mode = 'lines',\n",
    "    name = 'lines'\n",
    ")\n",
    "\n",
    "iplot([trace])"
   ]
  },
  {
   "cell_type": "markdown",
   "metadata": {},
   "source": [
    "### Adding axis labels"
   ]
  },
  {
   "cell_type": "code",
   "execution_count": 9,
   "metadata": {},
   "outputs": [
    {
     "data": {
      "application/vnd.plotly.v1+json": {
       "config": {
        "linkText": "Export to plot.ly",
        "plotlyServerURL": "https://plot.ly",
        "showLink": false
       },
       "data": [
        {
         "mode": "lines",
         "name": "lines",
         "type": "scatter",
         "uid": "7e55bb20-106f-43e7-9235-9a4d128d5f5f",
         "x": [
          2015,
          2016,
          2017,
          2018,
          2019
         ],
         "y": [
          23,
          130,
          47,
          90,
          201
         ]
        }
       ],
       "layout": {
        "title": {
         "text": "reading hours per year"
        },
        "xaxis": {
         "title": {
          "text": "year"
         }
        },
        "yaxis": {
         "title": {
          "text": "reading_hours"
         }
        }
       }
      },
      "text/html": [
       "<div id=\"241d19a9-f724-436a-9c8e-d3ece6903a34\" style=\"height: 525px; width: 100%;\" class=\"plotly-graph-div\"></div><script type=\"text/javascript\">require([\"plotly\"], function(Plotly) { window.PLOTLYENV=window.PLOTLYENV || {};window.PLOTLYENV.BASE_URL=\"https://plot.ly\";\n",
       "if (document.getElementById(\"241d19a9-f724-436a-9c8e-d3ece6903a34\")) {\n",
       "    Plotly.newPlot(\"241d19a9-f724-436a-9c8e-d3ece6903a34\", [{\"mode\": \"lines\", \"name\": \"lines\", \"x\": [2015, 2016, 2017, 2018, 2019], \"y\": [23, 130, 47, 90, 201], \"type\": \"scatter\", \"uid\": \"71585ff5-cf7c-4f3c-925b-0eb8dfd2e4aa\"}], {\"title\": {\"text\": \"reading hours per year\"}, \"xaxis\": {\"title\": {\"text\": \"year\"}}, \"yaxis\": {\"title\": {\"text\": \"reading_hours\"}}}, {\"showLink\": false, \"linkText\": \"Export to plot.ly\", \"plotlyServerURL\": \"https://plot.ly\"}); \n",
       "}\n",
       "});</script><script type=\"text/javascript\">window.addEventListener(\"resize\", function(){if (document.getElementById(\"241d19a9-f724-436a-9c8e-d3ece6903a34\")) {window._Plotly.Plots.resize(document.getElementById(\"241d19a9-f724-436a-9c8e-d3ece6903a34\"));};})</script>"
      ],
      "text/vnd.plotly.v1+html": [
       "<div id=\"241d19a9-f724-436a-9c8e-d3ece6903a34\" style=\"height: 525px; width: 100%;\" class=\"plotly-graph-div\"></div><script type=\"text/javascript\">require([\"plotly\"], function(Plotly) { window.PLOTLYENV=window.PLOTLYENV || {};window.PLOTLYENV.BASE_URL=\"https://plot.ly\";\n",
       "if (document.getElementById(\"241d19a9-f724-436a-9c8e-d3ece6903a34\")) {\n",
       "    Plotly.newPlot(\"241d19a9-f724-436a-9c8e-d3ece6903a34\", [{\"mode\": \"lines\", \"name\": \"lines\", \"x\": [2015, 2016, 2017, 2018, 2019], \"y\": [23, 130, 47, 90, 201], \"type\": \"scatter\", \"uid\": \"71585ff5-cf7c-4f3c-925b-0eb8dfd2e4aa\"}], {\"title\": {\"text\": \"reading hours per year\"}, \"xaxis\": {\"title\": {\"text\": \"year\"}}, \"yaxis\": {\"title\": {\"text\": \"reading_hours\"}}}, {\"showLink\": false, \"linkText\": \"Export to plot.ly\", \"plotlyServerURL\": \"https://plot.ly\"}); \n",
       "}\n",
       "});</script><script type=\"text/javascript\">window.addEventListener(\"resize\", function(){if (document.getElementById(\"241d19a9-f724-436a-9c8e-d3ece6903a34\")) {window._Plotly.Plots.resize(document.getElementById(\"241d19a9-f724-436a-9c8e-d3ece6903a34\"));};})</script>"
      ]
     },
     "metadata": {},
     "output_type": "display_data"
    }
   ],
   "source": [
    "year = [2015,2016,2017,2018,2019]\n",
    "reading_hours = [23,130,47,90,201]\n",
    "\n",
    "\n",
    "trace = go.Scatter(\n",
    "    x = year,\n",
    "    y = reading_hours,\n",
    "    mode = 'lines',\n",
    "    name = 'lines'\n",
    ")\n",
    "\n",
    "data = [trace]\n",
    "\n",
    "layout = dict(title = 'reading hours per year',\n",
    "              xaxis = dict(title = 'year'),\n",
    "              yaxis = dict(title = 'reading_hours'),\n",
    "              )\n",
    "\n",
    "fig = dict(data=data, \n",
    "           layout=layout)\n",
    "\n",
    "iplot(fig, filename='styled-line')"
   ]
  },
  {
   "cell_type": "markdown",
   "metadata": {},
   "source": [
    "###  <center style='color:blue'> Bar charts </center>"
   ]
  },
  {
   "cell_type": "code",
   "execution_count": 10,
   "metadata": {},
   "outputs": [
    {
     "data": {
      "text/html": [
       "<div>\n",
       "<style scoped>\n",
       "    .dataframe tbody tr th:only-of-type {\n",
       "        vertical-align: middle;\n",
       "    }\n",
       "\n",
       "    .dataframe tbody tr th {\n",
       "        vertical-align: top;\n",
       "    }\n",
       "\n",
       "    .dataframe thead th {\n",
       "        text-align: right;\n",
       "    }\n",
       "</style>\n",
       "<table border=\"1\" class=\"dataframe\">\n",
       "  <thead>\n",
       "    <tr style=\"text-align: right;\">\n",
       "      <th></th>\n",
       "      <th>name</th>\n",
       "      <th>math_score</th>\n",
       "    </tr>\n",
       "  </thead>\n",
       "  <tbody>\n",
       "    <tr>\n",
       "      <th>0</th>\n",
       "      <td>samir</td>\n",
       "      <td>12</td>\n",
       "    </tr>\n",
       "    <tr>\n",
       "      <th>1</th>\n",
       "      <td>jamila</td>\n",
       "      <td>14</td>\n",
       "    </tr>\n",
       "    <tr>\n",
       "      <th>2</th>\n",
       "      <td>khalid</td>\n",
       "      <td>16</td>\n",
       "    </tr>\n",
       "  </tbody>\n",
       "</table>\n",
       "</div>"
      ],
      "text/plain": [
       "     name  math_score\n",
       "0   samir          12\n",
       "1  jamila          14\n",
       "2  khalid          16"
      ]
     },
     "execution_count": 10,
     "metadata": {},
     "output_type": "execute_result"
    }
   ],
   "source": [
    "data = {'name':['samir','jamila','khalid'],\n",
    "'math_score':[12,14,16]}\n",
    "\n",
    "df = pd.DataFrame(data)\n",
    "df = df[['name','math_score']]\n",
    "df"
   ]
  },
  {
   "cell_type": "code",
   "execution_count": 11,
   "metadata": {},
   "outputs": [
    {
     "data": {
      "application/vnd.plotly.v1+json": {
       "config": {
        "linkText": "Export to plot.ly",
        "plotlyServerURL": "https://plot.ly",
        "showLink": false
       },
       "data": [
        {
         "type": "bar",
         "uid": "acd726f7-c806-45bb-a3f8-400f7931f810",
         "x": [
          "samir",
          "jamila",
          "khalid"
         ],
         "y": [
          12,
          14,
          16
         ]
        }
       ],
       "layout": {}
      },
      "text/html": [
       "<div id=\"aeb7d2fa-565c-42e8-aa9d-8aae95f31672\" style=\"height: 525px; width: 100%;\" class=\"plotly-graph-div\"></div><script type=\"text/javascript\">require([\"plotly\"], function(Plotly) { window.PLOTLYENV=window.PLOTLYENV || {};window.PLOTLYENV.BASE_URL=\"https://plot.ly\";\n",
       "if (document.getElementById(\"aeb7d2fa-565c-42e8-aa9d-8aae95f31672\")) {\n",
       "    Plotly.newPlot(\"aeb7d2fa-565c-42e8-aa9d-8aae95f31672\", [{\"x\": [\"samir\", \"jamila\", \"khalid\"], \"y\": [12, 14, 16], \"type\": \"bar\", \"uid\": \"ae52bee2-ef18-41b2-af14-dc9934a2bb59\"}], {}, {\"showLink\": false, \"linkText\": \"Export to plot.ly\", \"plotlyServerURL\": \"https://plot.ly\"}); \n",
       "}\n",
       "});</script><script type=\"text/javascript\">window.addEventListener(\"resize\", function(){if (document.getElementById(\"aeb7d2fa-565c-42e8-aa9d-8aae95f31672\")) {window._Plotly.Plots.resize(document.getElementById(\"aeb7d2fa-565c-42e8-aa9d-8aae95f31672\"));};})</script>"
      ],
      "text/vnd.plotly.v1+html": [
       "<div id=\"aeb7d2fa-565c-42e8-aa9d-8aae95f31672\" style=\"height: 525px; width: 100%;\" class=\"plotly-graph-div\"></div><script type=\"text/javascript\">require([\"plotly\"], function(Plotly) { window.PLOTLYENV=window.PLOTLYENV || {};window.PLOTLYENV.BASE_URL=\"https://plot.ly\";\n",
       "if (document.getElementById(\"aeb7d2fa-565c-42e8-aa9d-8aae95f31672\")) {\n",
       "    Plotly.newPlot(\"aeb7d2fa-565c-42e8-aa9d-8aae95f31672\", [{\"x\": [\"samir\", \"jamila\", \"khalid\"], \"y\": [12, 14, 16], \"type\": \"bar\", \"uid\": \"ae52bee2-ef18-41b2-af14-dc9934a2bb59\"}], {}, {\"showLink\": false, \"linkText\": \"Export to plot.ly\", \"plotlyServerURL\": \"https://plot.ly\"}); \n",
       "}\n",
       "});</script><script type=\"text/javascript\">window.addEventListener(\"resize\", function(){if (document.getElementById(\"aeb7d2fa-565c-42e8-aa9d-8aae95f31672\")) {window._Plotly.Plots.resize(document.getElementById(\"aeb7d2fa-565c-42e8-aa9d-8aae95f31672\"));};})</script>"
      ]
     },
     "metadata": {},
     "output_type": "display_data"
    }
   ],
   "source": [
    "\n",
    "trace = go.Bar(\n",
    "    x=df.name,\n",
    "    y=df.math_score\n",
    "    )\n",
    "\n",
    "iplot([trace])"
   ]
  },
  {
   "cell_type": "markdown",
   "metadata": {},
   "source": [
    "###  <center style='color:blue'>  pie charts </center>"
   ]
  },
  {
   "cell_type": "code",
   "execution_count": 12,
   "metadata": {},
   "outputs": [
    {
     "data": {
      "application/vnd.plotly.v1+json": {
       "config": {
        "linkText": "Export to plot.ly",
        "plotlyServerURL": "https://plot.ly",
        "showLink": false
       },
       "data": [
        {
         "labels": [
          "rent",
          "food",
          "clothes",
          "hobbies",
          "phone"
         ],
         "type": "pie",
         "uid": "400064b6-a4da-4f89-a321-d054954733c5",
         "values": [
          700,
          230,
          80,
          43,
          20
         ]
        }
       ],
       "layout": {}
      },
      "text/html": [
       "<div id=\"853aa0aa-5b68-469e-9638-7488d5b8af49\" style=\"height: 525px; width: 100%;\" class=\"plotly-graph-div\"></div><script type=\"text/javascript\">require([\"plotly\"], function(Plotly) { window.PLOTLYENV=window.PLOTLYENV || {};window.PLOTLYENV.BASE_URL=\"https://plot.ly\";\n",
       "if (document.getElementById(\"853aa0aa-5b68-469e-9638-7488d5b8af49\")) {\n",
       "    Plotly.newPlot(\"853aa0aa-5b68-469e-9638-7488d5b8af49\", [{\"labels\": [\"rent\", \"food\", \"clothes\", \"hobbies\", \"phone\"], \"values\": [700, 230, 80, 43, 20], \"type\": \"pie\", \"uid\": \"ba8d6d17-3a08-47d9-945b-c7e4296c1a04\"}], {}, {\"showLink\": false, \"linkText\": \"Export to plot.ly\", \"plotlyServerURL\": \"https://plot.ly\"}); \n",
       "}\n",
       "});</script><script type=\"text/javascript\">window.addEventListener(\"resize\", function(){if (document.getElementById(\"853aa0aa-5b68-469e-9638-7488d5b8af49\")) {window._Plotly.Plots.resize(document.getElementById(\"853aa0aa-5b68-469e-9638-7488d5b8af49\"));};})</script>"
      ],
      "text/vnd.plotly.v1+html": [
       "<div id=\"853aa0aa-5b68-469e-9638-7488d5b8af49\" style=\"height: 525px; width: 100%;\" class=\"plotly-graph-div\"></div><script type=\"text/javascript\">require([\"plotly\"], function(Plotly) { window.PLOTLYENV=window.PLOTLYENV || {};window.PLOTLYENV.BASE_URL=\"https://plot.ly\";\n",
       "if (document.getElementById(\"853aa0aa-5b68-469e-9638-7488d5b8af49\")) {\n",
       "    Plotly.newPlot(\"853aa0aa-5b68-469e-9638-7488d5b8af49\", [{\"labels\": [\"rent\", \"food\", \"clothes\", \"hobbies\", \"phone\"], \"values\": [700, 230, 80, 43, 20], \"type\": \"pie\", \"uid\": \"ba8d6d17-3a08-47d9-945b-c7e4296c1a04\"}], {}, {\"showLink\": false, \"linkText\": \"Export to plot.ly\", \"plotlyServerURL\": \"https://plot.ly\"}); \n",
       "}\n",
       "});</script><script type=\"text/javascript\">window.addEventListener(\"resize\", function(){if (document.getElementById(\"853aa0aa-5b68-469e-9638-7488d5b8af49\")) {window._Plotly.Plots.resize(document.getElementById(\"853aa0aa-5b68-469e-9638-7488d5b8af49\"));};})</script>"
      ]
     },
     "metadata": {},
     "output_type": "display_data"
    }
   ],
   "source": [
    "labels = ['rent','food','clothes','hobbies','phone']\n",
    "values = [700,230,80,43,20]\n",
    "\n",
    "trace = go.Pie(labels=labels, values=values)\n",
    "\n",
    "iplot([trace], filename='basic_pie_chart')"
   ]
  },
  {
   "cell_type": "markdown",
   "metadata": {},
   "source": [
    "### Latex"
   ]
  },
  {
   "cell_type": "code",
   "execution_count": 13,
   "metadata": {},
   "outputs": [
    {
     "data": {
      "text/latex": [
       "$$F(k) = \\int_{0}^{\\infty} f(t) e^{2\\pi i k} dt$$"
      ],
      "text/plain": [
       "<IPython.core.display.Math object>"
      ]
     },
     "metadata": {},
     "output_type": "display_data"
    }
   ],
   "source": [
    "from IPython.display import display, Math, Latex\n",
    "\n",
    "display(Math(r'F(k) = \\int_{0}^{\\infty} f(t) e^{2\\pi i k} dt'))"
   ]
  },
  {
   "cell_type": "markdown",
   "metadata": {},
   "source": [
    "-----"
   ]
  }
 ],
 "metadata": {
  "kernelspec": {
   "display_name": "Python 3",
   "language": "python",
   "name": "python3"
  },
  "language_info": {
   "codemirror_mode": {
    "name": "ipython",
    "version": 3
   },
   "file_extension": ".py",
   "mimetype": "text/x-python",
   "name": "python",
   "nbconvert_exporter": "python",
   "pygments_lexer": "ipython3",
   "version": "3.6.4"
  }
 },
 "nbformat": 4,
 "nbformat_minor": 2
}
