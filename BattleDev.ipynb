{
 "cells": [
  {
   "cell_type": "code",
   "execution_count": null,
   "metadata": {},
   "outputs": [],
   "source": []
  },
  {
   "cell_type": "markdown",
   "metadata": {},
   "source": [
    "\n",
    "Click on the following link to get the english version:\n",
    "https://questionsacm.isograd.com/codecontest/pdf/marathon_175.pdf\n",
    "\n",
    "Énoncé\n",
    "\n",
    "Le marathon est une épreuve sportive où les participants doivent parcourir 42 kilomètres. Lors d'une soirée pizza avec vos amis, vous discutez du prochain marathon qui se tiendra dans votre ville. Vos amis sont convaincus que vous n'êtes pas capable de terminer la course et vous, vous leur jurez que vous êtes sûr(e) de finir dans les 100 premiers.\n",
    "Les paris sont lancés :\n",
    "- si vous terminez dans le top 100, vous gagnez 1 000 euros ;\n",
    "- si vous terminez le marathon, vous gagnez 100 euros ;\n",
    "- si vous ne terminez pas le marathon, vous aurez juste perdu votre crédibilité.\n",
    "\n",
    "\n",
    "Vous passez la ligne de départ à une certaine place, et tous les kilomètres, vous faites le point sur le nombre de personnes qui vous ont dépassées et celles que vous avez dépassées pour connaitre votre classement.\n",
    "\n",
    "Dans ce challenge, on considère que le marathon fait exactement 42km et que si vous terminez après la 10 000ème place, cela veut dire que vous avez abandonné.\n",
    "\n",
    "Objectif\n",
    "\n",
    "Vous devez déterminer le montant gagné lors de votre pari.\n",
    "\n",
    "Format des données\n",
    "\n",
    "Entrée\n",
    "\n",
    "Ligne 1 : un entier compris entre 1 et 20 000 correspondant à votre classement lorsque vous passez la ligne de départ.\n",
    "Lignes 2 à 43 : deux entiers séparés par un espace représentant respectivement les personnes vous ayant dépassé(e) et celles que vous avez dépassées pour un kilomètre donné. \n",
    "\n",
    "Sortie\n",
    "\n",
    "Un entier correspondant au montant gagné lors de votre pari. Si vous ne gagnez rien, renvoyez la chaîne de caractères KO."
   ]
  },
  {
   "cell_type": "code",
   "execution_count": null,
   "metadata": {},
   "outputs": [],
   "source": [
    "\n",
    "#*******\n",
    "#* Read input from STDIN\n",
    "#* Use: echo or print to output your result to STDOUT, use the /n constant at the end of each result line.\n",
    "#* Use: sys.stderr.write() to display debugging information to STDERR\n",
    "#* ***/\n",
    "import sys\n",
    "\n",
    "lines = []\n",
    "for line in sys.stdin:\n",
    "\tlines.append(line.rstrip('\\n'))\n",
    "\n",
    "sys.stdout.write(lines)\n",
    "pos = lines[0]\n",
    "for l in lines[1:]:\n",
    "    pos += (l[0] - l[1])\n",
    "\n",
    "if pos <= 100:\n",
    "    sys.stdout.write(1000)\n",
    "elif pos < 10000:\n",
    "    sys.stdout.write(100)\n",
    "else :\n",
    "    sys.stdout.write('KO')"
   ]
  },
  {
   "cell_type": "code",
   "execution_count": 6,
   "metadata": {},
   "outputs": [],
   "source": [
    "import sys\n",
    "\n",
    "lines = []\n",
    "for line in sys.stdin:\n",
    "    lines.append(line.rstrip('\\n'))\n",
    "\n",
    "#sys.stdout.write(lines)"
   ]
  },
  {
   "cell_type": "code",
   "execution_count": null,
   "metadata": {},
   "outputs": [],
   "source": []
  }
 ],
 "metadata": {
  "kernelspec": {
   "display_name": "Python 3",
   "language": "python",
   "name": "python3"
  },
  "language_info": {
   "codemirror_mode": {
    "name": "ipython",
    "version": 3
   },
   "file_extension": ".py",
   "mimetype": "text/x-python",
   "name": "python",
   "nbconvert_exporter": "python",
   "pygments_lexer": "ipython3",
   "version": "3.6.4"
  }
 },
 "nbformat": 4,
 "nbformat_minor": 2
}
