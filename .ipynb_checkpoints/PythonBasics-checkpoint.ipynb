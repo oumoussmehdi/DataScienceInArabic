{
 "cells": [
  {
   "cell_type": "code",
   "execution_count": null,
   "metadata": {},
   "outputs": [],
   "source": []
  },
  {
   "cell_type": "markdown",
   "metadata": {},
   "source": [
    "Cheat sheet for Python data structures\n",
    "Reuven M. Lerner • http://lerner.co.il • reuven@lerner.co.il • Twitter: @reuvenmlerner\n",
    "Lists\n",
    "Mutable, ordered series, traditionally of the same type of object.\n",
    "Advantages: Mutable and ordered. Easy to understand. Relatively efficient memory usage.\n",
    "Disadvantages: Searching is O(n)."
   ]
  },
  {
   "cell_type": "markdown",
   "metadata": {},
   "source": [
    "### List"
   ]
  },
  {
   "cell_type": "markdown",
   "metadata": {},
   "source": []
  },
  {
   "cell_type": "code",
   "execution_count": null,
   "metadata": {
    "collapsed": true
   },
   "outputs": [],
   "source": [
    "# To create a list, use square brackets\n",
    "# لانشاء قائمة, استعمل المعقوفتان\n",
    "\n",
    "mylist = [ ]\n",
    "mylist = [1,2,3]\n",
    "mylist = ['a', 'b', 'c', [1,2,3] ] # 4 elements\n",
    "\n",
    "# Retrieving one element, given an index\n",
    "x = mylist[3]\n",
    "\n",
    "# Checking membership\n",
    "3 in mylist # True or False\n",
    "From another type: Given an iterable, the “list” function returns a list:\n",
    "list('abc') # ['a', 'b', 'c']\n",
    "list((1,2,3)) # [1,2,3]\n",
    "list({1,2,3}) # [1,2,3]\n",
    "\n",
    "# Replacing an existing element\n",
    "mylist = ['a', 'b', 'c']\n",
    "mylist[1] = 'z'\n",
    "mylist # ['a', 'z', 'c']\n",
    "\n",
    "# Replacing multiple existing elements\n",
    "mylist = ['a', 'b', 'c', 'd', 'e', 'f']\n",
    "mylist[1:3] = 'xyz' # replace indexes 1 and 2 with x, y, z\n",
    "mylist # ['a', 'x', 'y', 'z', 'd', 'e', 'f']\n",
    "\n",
    "# Adding an element to the end\n",
    "mylist = ['a', 'b', 'c']\n",
    "mylist.append('d')\n",
    "mylist # ['a', 'b', 'c', 'd']\n",
    "mylist.append([1,2,3])\n",
    "mylist # ['a', 'b', 'c', 'd', [1,2,3]]\n",
    "\n",
    "# Adding multiple elements to the end\n",
    "mylist = ['a', 'b', 'c']\n",
    "mylist.extend([1,2,3])\n",
    "mylist # ['a', 'b', 'c', 'd', 1, 2, 3]\n",
    "\n",
    "# Removing an element from the end\n",
    "mylist = ['a', 'b', 'c']\n",
    "mylist.pop() # returns 'c'\n",
    "mylist # ['a', 'b']\n",
    "\n",
    "# Removing an element from any index\n",
    "mylist = ['a', 'b', 'c']\n",
    "mylist.pop(0) # returns 'a'\n",
    "mylist # ['b', 'c']\n",
    "\n",
    "# Removing an element based on its value (rather than its position)\n",
    "mylist = ['a', 'b', 'c', 'a', 'a', 'b']\n",
    "mylist.remove('a') # Remove the first 'a'\n",
    "mylist # ['b', 'c', 'a', 'a', 'b']\n",
    "\n",
    "# Sorting\n",
    "mylist = ['d', 'a', 'c', 'b']\n",
    "mylist.sort() # Returns None\n",
    "mylist # ['a', 'b', 'c', 'd']\n",
    "\n",
    "# Reversing\n",
    "mylist = ['a', 'b', 'c']\n",
    "mylist.reverse() # returns None\n",
    "mylist # ['c', 'b', 'a']\n",
    "\n",
    "# Joining\n",
    "mylist = ['a', 'b', 'c']\n",
    "'*'.join(mylist) # 'a*b*c'\n",
    "'...'.join(mylist) # 'a...b...c'\n",
    "\n",
    "# Iterating over the elements\n",
    "mylist = ['a', 'b', 'c']\n",
    "for item in mylist:\n",
    "    print(item)\n",
    "\n",
    "# Iterating over the sorted elements\n",
    "mylist = ['d', 'a', 'c', 'b']\n",
    "for item in sorted(mylist):\n",
    "    print(item)\n"
   ]
  },
  {
   "cell_type": "markdown",
   "metadata": {},
   "source": [
    "## Tuple"
   ]
  },
  {
   "cell_type": "markdown",
   "metadata": {},
   "source": [
    "Tuples : \n",
    "* Immutable - غير قابل للتغيير, ثابت  \n",
    "* ordered series - سلسلة مرتبة\n",
    "* usually contains different objects - عادة مملؤة بعناصر أو أشياء مختلفة النوع\n",
    "* efficient memory usage compared to lists - استعمال أفضل للذاكرة بالمقارنة مع اللوائح"
   ]
  },
  {
   "cell_type": "code",
   "execution_count": null,
   "metadata": {},
   "outputs": [],
   "source": [
    "# Creating\n",
    "# لانشاء صف, استعمل القوسين\n",
    "\n",
    "t = ('a', 1, [1,2,3]) # () and comma indicate tuple\n",
    "t = ('a',) # single-element tuple requires ,!\n",
    "\n",
    "# From another type\n",
    "tuple([1,2,3]) # (1,2,3)\n",
    "\n",
    "# Iterating over the elements\n",
    "t = ('a', 'b', 'c')\n",
    "for item in t:\n",
    "    print(item)\n",
    "\n",
    "# Iterating over the sorted elements\n",
    "t = ('d', 'a', 'c', 'b')\n",
    "for item in sorted(t):\n",
    "    print(item)\n"
   ]
  },
  {
   "cell_type": "markdown",
   "metadata": {},
   "source": [
    "### Dictionary - مجلد"
   ]
  },
  {
   "cell_type": "markdown",
   "metadata": {},
   "source": [
    "Dictionaries\n",
    "* Mutable - قابل للتغيير\n",
    "* unordered pairs (keys and values) of objects. \n",
    "* Keys must be hashable.\n",
    "* O(1) searching for keys. \n",
    "Makes it easy to create trees and other hierarchical data structures. \n",
    "Can be used to create self-documenting code. \n",
    "Many problems can be described in terms of key-value pairs.\n",
    "Disadvantages: \n",
    "Only lookup by key. \n",
    "Uses more memory than lists and tuples. \n",
    "Keys must be hashable.\n",
    "\n",
    "https://ar.wikipedia.org/wiki/%D8%B1%D9%85%D8%B2_O_%D8%A7%D9%84%D9%83%D8%A8%D9%8A%D8%B1"
   ]
  },
  {
   "cell_type": "code",
   "execution_count": null,
   "metadata": {},
   "outputs": [],
   "source": [
    "\n",
    "# Creating\n",
    "{'a':1, 'b':2, 'c':3} # {'a': 1, 'b': 2, 'c': 3}\n",
    "\n",
    "# Creating from other data\n",
    "dict(['a',1], ['b',2], ['c',3]) # {'a': 1, 'b': 2, 'c': 3}\n",
    "dict(('a',1), ('b',2), ('c',3)) # {'a': 1, 'b': 2, 'c': 3}\n",
    "\n",
    "# Retrieving from a key\n",
    "d = {'a':1, 'b':2, 'c':3}\n",
    "d['a'] # 1\n",
    "d['z'] # raises KeyError\n",
    "\n",
    "# Add a key-value pair\n",
    "d = {'a':1, 'b':2, 'c':3}\n",
    "d['d'] = 100\n",
    "d # {'a': 100, 'b': 2, 'c': 3, 'd': 100}\n",
    "\n",
    "# Replacing an existing value\n",
    "d = {'a':1, 'b':2, 'c':3}\n",
    "d['a'] = 100\n",
    "d # {'a': 100, 'b': 2, 'c': 3}\n",
    "\n",
    "# Replacing multiple existing values\n",
    "d = {'a':1, 'b':2 }\n",
    "x = {'a':555, 'z':987}\n",
    "d.update(x, y=10) # Returns None\n",
    "d # {'a': 555, 'b': 2, 'y': 10, 'z': 987}\n",
    "\n",
    "# Removing an element\n",
    "d = {'a':1, 'b':2, 'c':3}\n",
    "del(d['a'])\n",
    "d # {'c': 3, 'b': 2}\n",
    "\n",
    "# Getting the keys\n",
    "d = {'a':1, 'b':2, 'c':3}\n",
    "d.keys() # ['a', 'c', 'b'] (Python 2)\n",
    "d.keys() # dict_keys(['a', 'b', 'c']) (Python 3)\n",
    "\n",
    "# Getting the values\n",
    "d = {'a':1, 'b':2, 'c':3}\n",
    "d.values() # [1, 2, 3] (Python 2)\n",
    "d.values() # dict_values([1, 2, 3]) (Python 3)\n",
    "\n",
    "# Iterating over the keys\n",
    "d = {'a':1, 'b':2, 'c':3}\n",
    "for k in d:\n",
    "    print(\"{0}: {1}\".format(k, d[k]))\n",
    "\n",
    "# Iterating over the pairs\n",
    "d = {'a':1, 'b':2, 'c':3}\n",
    "for k, v in d.items()\n",
    "    print(\"{0}: {1}\".format(k, v)\n",
    "\n",
    "# Iterating over the sorted keys\n",
    "d = {'a':1, 'b':2, 'c':3}\n",
    "    for k in sorted(d):\n",
    "print(\"{0}: {1}\".format(k, d[k]))\n"
   ]
  },
  {
   "cell_type": "markdown",
   "metadata": {},
   "source": [
    "## Sets "
   ]
  },
  {
   "cell_type": "markdown",
   "metadata": {},
   "source": [
    "Sets : \n",
    "* Mutable - قابل للتغيير\n",
    "* unordered - غير مرتب \n",
    "* unique objects - عناصر فريدة غير قابلة لتكرار\n",
    "* Elements must be hashable\n",
    "* Searching is O(1) - البحث \n"
   ]
  },
  {
   "cell_type": "code",
   "execution_count": null,
   "metadata": {},
   "outputs": [],
   "source": [
    "# Creating\n",
    "s = {1,2,3} # Python 2.7, 3.x\n",
    "# Creating from another type\n",
    "s = set([1,2,3]) # From list\n",
    "s = set((1,2,3)) # From tuple\n",
    "s = set('abc') # From string\n"
   ]
  },
  {
   "cell_type": "code",
   "execution_count": null,
   "metadata": {},
   "outputs": [],
   "source": [
    "# Adding a value\n",
    "s = {1,2,3}\n",
    "s.add(4)\n",
    "s # {1,2,3,4}\n",
    "s.add(4)\n",
    "s # {1,2,3,4} — duplicates are ignored\n"
   ]
  },
  {
   "cell_type": "code",
   "execution_count": null,
   "metadata": {},
   "outputs": [],
   "source": [
    "# Adding multiple values\n",
    "s = {1,2,3}\n",
    "s.update([3,4,5]) # Any iterable will do\n",
    "s # {1,2,3,4,5} — duplicates ignored\n"
   ]
  },
  {
   "cell_type": "code",
   "execution_count": null,
   "metadata": {},
   "outputs": [],
   "source": [
    "# Removing an element\n",
    "s = {1,2,3}\n",
    "s.remove(1)\n",
    "s # {2,3}\n"
   ]
  },
  {
   "cell_type": "code",
   "execution_count": null,
   "metadata": {},
   "outputs": [],
   "source": []
  }
 ],
 "metadata": {
  "kernelspec": {
   "display_name": "Python 3",
   "language": "python",
   "name": "python3"
  },
  "language_info": {
   "codemirror_mode": {
    "name": "ipython",
    "version": 3
   },
   "file_extension": ".py",
   "mimetype": "text/x-python",
   "name": "python",
   "nbconvert_exporter": "python",
   "pygments_lexer": "ipython3",
   "version": "3.6.4"
  }
 },
 "nbformat": 4,
 "nbformat_minor": 1
}
