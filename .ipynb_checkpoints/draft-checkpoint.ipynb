{
 "cells": [
  {
   "cell_type": "code",
   "execution_count": null,
   "metadata": {},
   "outputs": [],
   "source": []
  },
  {
   "cell_type": "code",
   "execution_count": 1,
   "metadata": {},
   "outputs": [],
   "source": [
    "from O365 import Message#, Attachment\n",
    "import ast\n",
    "import csv\n",
    "import logging"
   ]
  },
  {
   "cell_type": "code",
   "execution_count": 10,
   "metadata": {},
   "outputs": [
    {
     "data": {
      "text/plain": [
       "Subject: "
      ]
     },
     "execution_count": 10,
     "metadata": {},
     "output_type": "execute_result"
    }
   ],
   "source": [
    "from O365 import Connection, MSGraphProtocol, Message, MailBox, oauth_authentication_flow\n",
    "\n",
    "\n",
    "credentials = ('moumouss@starclay.fr', 'myWork646')\n",
    "\n",
    "scopes = ['https://graph.microsoft.com/Mail.ReadWrite', 'https://graph.microsoft.com/Mail.Send']\n",
    "my_protocol = MSGraphProtocol()\n",
    "con = Connection(credentials, scopes=scopes)\n",
    "\n",
    "\n",
    "message = Message(con=con, protocol=my_protocol)\n",
    "message.to.add('moumouss@starclay.fr')\n",
    "message.body = 'George Best quote: In 1969 I gave up women and alcohol - it was the worst 20 minutes of my life.'\n",
    "message"
   ]
  },
  {
   "cell_type": "code",
   "execution_count": null,
   "metadata": {},
   "outputs": [],
   "source": [
    "message.send()"
   ]
  },
  {
   "cell_type": "markdown",
   "metadata": {},
   "source": [
    "### complex numbers"
   ]
  },
  {
   "cell_type": "code",
   "execution_count": 4,
   "metadata": {},
   "outputs": [
    {
     "name": "stdout",
     "output_type": "stream",
     "text": [
      "2+3j\n"
     ]
    },
    {
     "data": {
      "text/plain": [
       "(3.0, 2.0)"
      ]
     },
     "execution_count": 4,
     "metadata": {},
     "output_type": "execute_result"
    }
   ],
   "source": [
    "import math \n",
    "import cmath\n",
    "z = complex(input())\n",
    "x,y =  z.real, z.imag\n",
    "r= math.sqrt(x**2 + y**2)\n",
    "phi = cmath.phase(z)\n",
    "print(r)\n",
    "print(phi)"
   ]
  },
  {
   "cell_type": "markdown",
   "metadata": {},
   "source": [
    "### rangoli"
   ]
  },
  {
   "cell_type": "code",
   "execution_count": 10,
   "metadata": {},
   "outputs": [
    {
     "name": "stdout",
     "output_type": "stream",
     "text": [
      "-----------------\n",
      "-----------------\n",
      "-----------------\n",
      "-----------------\n",
      "-----------------\n",
      "-----------------\n",
      "-----------------\n",
      "-----------------\n",
      "-----------------\n"
     ]
    }
   ],
   "source": [
    "n = 3\n",
    "x = (n-1)*4+1\n",
    "y = 2*n-1\n",
    "\n",
    "for j in range(y):\n",
    "    print('-' * x)"
   ]
  },
  {
   "cell_type": "markdown",
   "metadata": {},
   "source": [
    "### the captain's room"
   ]
  },
  {
   "cell_type": "code",
   "execution_count": 15,
   "metadata": {},
   "outputs": [
    {
     "name": "stdout",
     "output_type": "stream",
     "text": [
      "5\n",
      "1 2 3 6 5 4 4 2 5 3 6 1 6 5 3 2 4 1 2 5 1 4 3 6 8 4 3 1 5 6 2\n",
      "8\n"
     ]
    }
   ],
   "source": [
    "# Enter your code here. Read input from STDIN. Print output to STDOUT\n",
    "from collections import Counter\n",
    "k = input()\n",
    "lst = list(map(int, input().split(' ')))\n",
    "c = Counter(lst)\n",
    "for k,v in c.items():    # for name, age in dictionary.iteritems():  (for Python 2.x)\n",
    "    if v == 1:\n",
    "        print(k)\n",
    "\n",
    "\n",
    "# 5\n",
    "# 1 2 3 6 5 4 4 2 5 3 6 1 6 5 3 2 4 1 2 5 1 4 3 6 8 4 3 1 5 6 2\n"
   ]
  },
  {
   "cell_type": "markdown",
   "metadata": {},
   "source": [
    "---"
   ]
  },
  {
   "cell_type": "code",
   "execution_count": 2,
   "metadata": {},
   "outputs": [
    {
     "ename": "ValueError",
     "evalue": "Protocol not provided to Api Component",
     "output_type": "error",
     "traceback": [
      "\u001b[0;31m---------------------------------------------------------------------------\u001b[0m",
      "\u001b[0;31mValueError\u001b[0m                                Traceback (most recent call last)",
      "\u001b[0;32m<ipython-input-2-8a6ab18eba9e>\u001b[0m in \u001b[0;36m<module>\u001b[0;34m()\u001b[0m\n\u001b[1;32m      2\u001b[0m \u001b[0mo365_auth\u001b[0m \u001b[0;34m=\u001b[0m \u001b[0;34m(\u001b[0m\u001b[0;34m\"microstrategy@nature-et-decouvertes.com\"\u001b[0m\u001b[0;34m,\u001b[0m \u001b[0;34m\"microstrategy\"\u001b[0m\u001b[0;34m)\u001b[0m\u001b[0;34m\u001b[0m\u001b[0m\n\u001b[1;32m      3\u001b[0m \u001b[0;34m\u001b[0m\u001b[0m\n\u001b[0;32m----> 4\u001b[0;31m \u001b[0mm\u001b[0m \u001b[0;34m=\u001b[0m \u001b[0mMessage\u001b[0m\u001b[0;34m(\u001b[0m\u001b[0mauth\u001b[0m\u001b[0;34m=\u001b[0m\u001b[0mo365_auth\u001b[0m\u001b[0;34m)\u001b[0m\u001b[0;34m\u001b[0m\u001b[0m\n\u001b[0m\u001b[1;32m      5\u001b[0m \"\"\"\n\u001b[1;32m      6\u001b[0m m.setRecipients(['microstrategy@nature-et-decouvertes.com', \n",
      "\u001b[0;32mC:\\Python36\\lib\\site-packages\\O365\\message.py\u001b[0m in \u001b[0;36m__init__\u001b[0;34m(self, parent, con, **kwargs)\u001b[0m\n\u001b[1;32m    200\u001b[0m             \u001b[0mprotocol\u001b[0m\u001b[0;34m=\u001b[0m\u001b[0mparent\u001b[0m\u001b[0;34m.\u001b[0m\u001b[0mprotocol\u001b[0m \u001b[0;32mif\u001b[0m \u001b[0mparent\u001b[0m \u001b[0;32melse\u001b[0m \u001b[0mkwargs\u001b[0m\u001b[0;34m.\u001b[0m\u001b[0mget\u001b[0m\u001b[0;34m(\u001b[0m\u001b[0;34m'protocol'\u001b[0m\u001b[0;34m)\u001b[0m\u001b[0;34m,\u001b[0m\u001b[0;34m\u001b[0m\u001b[0m\n\u001b[1;32m    201\u001b[0m             \u001b[0mmain_resource\u001b[0m\u001b[0;34m=\u001b[0m\u001b[0mmain_resource\u001b[0m\u001b[0;34m,\u001b[0m\u001b[0;34m\u001b[0m\u001b[0m\n\u001b[0;32m--> 202\u001b[0;31m             attachment_name_property='subject', attachment_type='message_type')\n\u001b[0m\u001b[1;32m    203\u001b[0m \u001b[0;34m\u001b[0m\u001b[0m\n\u001b[1;32m    204\u001b[0m         \u001b[0mdownload_attachments\u001b[0m \u001b[0;34m=\u001b[0m \u001b[0mkwargs\u001b[0m\u001b[0;34m.\u001b[0m\u001b[0mget\u001b[0m\u001b[0;34m(\u001b[0m\u001b[0;34m'download_attachments'\u001b[0m\u001b[0;34m)\u001b[0m\u001b[0;34m\u001b[0m\u001b[0m\n",
      "\u001b[0;32mC:\\Python36\\lib\\site-packages\\O365\\utils\\utils.py\u001b[0m in \u001b[0;36m__init__\u001b[0;34m(self, protocol, main_resource, **kwargs)\u001b[0m\n\u001b[1;32m    327\u001b[0m         \u001b[0mself\u001b[0m\u001b[0;34m.\u001b[0m\u001b[0mprotocol\u001b[0m \u001b[0;34m=\u001b[0m \u001b[0mprotocol\u001b[0m\u001b[0;34m(\u001b[0m\u001b[0;34m)\u001b[0m \u001b[0;32mif\u001b[0m \u001b[0misinstance\u001b[0m\u001b[0;34m(\u001b[0m\u001b[0mprotocol\u001b[0m\u001b[0;34m,\u001b[0m \u001b[0mtype\u001b[0m\u001b[0;34m)\u001b[0m \u001b[0;32melse\u001b[0m \u001b[0mprotocol\u001b[0m\u001b[0;34m\u001b[0m\u001b[0m\n\u001b[1;32m    328\u001b[0m         \u001b[0;32mif\u001b[0m \u001b[0mself\u001b[0m\u001b[0;34m.\u001b[0m\u001b[0mprotocol\u001b[0m \u001b[0;32mis\u001b[0m \u001b[0;32mNone\u001b[0m\u001b[0;34m:\u001b[0m\u001b[0;34m\u001b[0m\u001b[0m\n\u001b[0;32m--> 329\u001b[0;31m             \u001b[0;32mraise\u001b[0m \u001b[0mValueError\u001b[0m\u001b[0;34m(\u001b[0m\u001b[0;34m'Protocol not provided to Api Component'\u001b[0m\u001b[0;34m)\u001b[0m\u001b[0;34m\u001b[0m\u001b[0m\n\u001b[0m\u001b[1;32m    330\u001b[0m         self.main_resource = (self._parse_resource(\n\u001b[1;32m    331\u001b[0m             \u001b[0mmain_resource\u001b[0m \u001b[0;32mif\u001b[0m \u001b[0mmain_resource\u001b[0m \u001b[0;32mis\u001b[0m \u001b[0;32mnot\u001b[0m \u001b[0;32mNone\u001b[0m\u001b[0;34m\u001b[0m\u001b[0m\n",
      "\u001b[0;31mValueError\u001b[0m: Protocol not provided to Api Component"
     ]
    }
   ],
   "source": [
    "\n",
    "o365_auth = (\"microstrategy@nature-et-decouvertes.com\", \"microstrategy\")\n",
    "\n",
    "m = Message(auth=o365_auth)\n",
    "\"\"\"\n",
    "m.setRecipients(['microstrategy@nature-et-decouvertes.com', \n",
    "'PMonin@starclay.fr','lrouault@nature-et-decouvertes.com';\n",
    "                 \"moumouss@starclay.fr\"])\n",
    "\"\"\"\n",
    "m.setRecipients(['moumouss@starclay.fr'])\n",
    "\n",
    "m.setSubject('Test - Crowdfunding project')\n",
    "\n",
    "body =\"\"\"Bonjour; \\n \\nVeuillez trouver en pièce jointe la liste des tops projets crowdfunding. \n",
    "\\nLes caractéristiques d'analyse sont les suivantes : \n",
    "\\n1. L'interval d'analyse est de %s heure(s), %s jour(s) et %s mois. \n",
    "\\n2. Le nombre des meilleurs projets est %s.\n",
    "\\nLes filtres: \n",
    "\\n-nombre de contributeurs: %s\n",
    "\\n-pourcentage atteint: %s\n",
    "\\n-fond collecte: %s\n",
    "\n",
    "\\n\\nBien cordialement;\\nl'équipe Starclay \n",
    "\\n\\nMerci de ne pas répondre à ce message. En cas de problème, veuillez contacter moumouss@starclay.fr \"\"\"\n",
    "\n",
    "m.setBody(body)\n",
    "\n",
    "#att = Attachment(path=filename)\n",
    "#m.attachments.append(att)\n",
    "\n",
    "\n",
    "logging.info('sent mail ? ')\n",
    "m.sendMessage()"
   ]
  },
  {
   "cell_type": "code",
   "execution_count": null,
   "metadata": {},
   "outputs": [],
   "source": [
    "o365\n",
    "pytz"
   ]
  }
 ],
 "metadata": {
  "kernelspec": {
   "display_name": "Python 3",
   "language": "python",
   "name": "python3"
  },
  "language_info": {
   "codemirror_mode": {
    "name": "ipython",
    "version": 3
   },
   "file_extension": ".py",
   "mimetype": "text/x-python",
   "name": "python",
   "nbconvert_exporter": "python",
   "pygments_lexer": "ipython3",
   "version": "3.6.4"
  }
 },
 "nbformat": 4,
 "nbformat_minor": 2
}
