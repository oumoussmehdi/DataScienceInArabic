{
 "cells": [
  {
   "cell_type": "code",
   "execution_count": null,
   "metadata": {
    "collapsed": true
   },
   "outputs": [],
   "source": []
  },
  {
   "cell_type": "code",
   "execution_count": null,
   "metadata": {},
   "outputs": [],
   "source": [
    "SciPy - Linear Algebra"
   ]
  },
  {
   "cell_type": "markdown",
   "metadata": {},
   "source": [
    "SciPy\n",
    "DataCamp\n",
    "Learn Python for Data Science Interactively\n",
    "Interacting With NumPy Also see NumPy\n",
    "The SciPy library is one of the core packages for\n",
    "scientific computing that provides mathematical\n",
    "algorithms and convenience functions built on the\n",
    "NumPy extension of Python."
   ]
  },
  {
   "cell_type": "code",
   "execution_count": 1,
   "metadata": {},
   "outputs": [],
   "source": [
    "import numpy as np\n",
    "a = np.array([1,2,3])\n",
    "b = np.array([(1+5j,2j,3j), (4j,5j,6j)])\n",
    "c = np.array([[(1.5,2,3), (4,5,6)], [(3,2,1), (4,5,6)]])"
   ]
  },
  {
   "cell_type": "code",
   "execution_count": 3,
   "metadata": {},
   "outputs": [
    {
     "data": {
      "text/plain": [
       "array([[1.+5.j, 0.+2.j, 0.+3.j],\n",
       "       [0.+4.j, 0.+5.j, 0.+6.j]])"
      ]
     },
     "execution_count": 3,
     "metadata": {},
     "output_type": "execute_result"
    }
   ],
   "source": [
    "b"
   ]
  },
  {
   "cell_type": "code",
   "execution_count": null,
   "metadata": {},
   "outputs": [],
   "source": [
    "# Creating Matrices\n",
    "A = np.matrix(np.random.random((2,2)))\n",
    "B = np.asmatrix(b)\n",
    "C = np.mat(np.random.random((10,5)))\n",
    "D = np.mat([[3,4], [5,6]])"
   ]
  },
  {
   "cell_type": "code",
   "execution_count": null,
   "metadata": {},
   "outputs": [],
   "source": []
  },
  {
   "cell_type": "code",
   "execution_count": null,
   "metadata": {},
   "outputs": [],
   "source": [
    "# Shape Manipulation\n",
    "\n",
    "np.transpose(b) # Permute array dimensions\n",
    "b.flatten() # Flatten the array\n",
    "np.hstack((b,c)) # Stack arrays horizontally (column-wise)\n",
    "np.vstack((a,b)) # Stack arrays vertically (row-wise)\n",
    "np.hsplit(c,2) # Split the array horizontally at the 2nd index\n",
    "np.vpslit(d,2) # Split the array vertically at the 2nd index"
   ]
  },
  {
   "cell_type": "code",
   "execution_count": null,
   "metadata": {},
   "outputs": [],
   "source": []
  },
  {
   "cell_type": "code",
   "execution_count": null,
   "metadata": {},
   "outputs": [],
   "source": [
    "# vectorizing functions\n",
    "def myfunc(a):\n",
    "    if a < 0:\n",
    "        return a*2\n",
    "    else:\n",
    "        return a/2\n",
    "\n",
    "np.vectorize(myfunc)"
   ]
  },
  {
   "cell_type": "markdown",
   "metadata": {},
   "source": [
    "### Basic Matrix Routines"
   ]
  },
  {
   "cell_type": "code",
   "execution_count": null,
   "metadata": {},
   "outputs": [],
   "source": [
    "# Inverse\n",
    "A.I Inverse\n",
    "linalg.inv(A) Inverse\n",
    "# Transposition\n",
    "A.T Tranpose matrix\n",
    "A.H Conjugate transposition\n",
    "# Trace\n",
    "np.trace(A) Trace\n",
    "# Norm\n",
    "linalg.norm(A) Frobenius norm\n",
    "linalg.norm(A,1) L1 norm (max column sum)\n",
    "linalg.norm(A,np.inf) L inf norm (max row sum)\n",
    "# Rank\n",
    "np.linalg.matrix_rank(C) Matrix rank\n",
    "# Determinant\n",
    "linalg.det(A) # Determinant\n",
    "\n",
    "# Solving linear problems\n",
    "linalg.solve(A,b) Solver for dense matrices\n",
    "E = np.mat(a).T Solver for dense matrices\n",
    "linalg.lstsq(F,E) Least-squares solution to linear matrix\n",
    "equation\n",
    "# Generalized inverse\n",
    "linalg.pinv(C) Compute the pseudo-inverse of a matrix\n",
    "(least-squares solver)\n",
    "linalg.pinv2(C) Compute the pseudo-inverse of a matrix\n",
    "(SVD)"
   ]
  },
  {
   "cell_type": "code",
   "execution_count": null,
   "metadata": {},
   "outputs": [],
   "source": []
  },
  {
   "cell_type": "markdown",
   "metadata": {},
   "source": [
    "### Creating Sparse Matrices"
   ]
  },
  {
   "cell_type": "code",
   "execution_count": null,
   "metadata": {},
   "outputs": [],
   "source": []
  },
  {
   "cell_type": "markdown",
   "metadata": {},
   "source": [
    "### Matrix Functions"
   ]
  },
  {
   "cell_type": "code",
   "execution_count": null,
   "metadata": {},
   "outputs": [],
   "source": [
    ">>> np.add(A,D) Addition\n",
    "# Subtraction\n",
    ">>> np.subtract(A,D) Subtraction\n",
    "# Division\n",
    ">>> np.divide(A,D) Division\n",
    "# Multiplication\n",
    ">>> A @ D Multiplication operator\n",
    "(Python 3)\n",
    ">>> np.multiply(D,A) Multiplication\n",
    ">>> np.dot(A,D) Dot product\n",
    ">>> np.vdot(A,D) Vector dot product\n",
    ">>> np.inner(A,D) Inner product\n",
    ">>> np.outer(A,D) Outer product\n",
    ">>> np.tensordot(A,D) Tensor dot product\n",
    ">>> np.kron(A,D) Kronecker product\n",
    "# Exponential Functions\n",
    ">>> linalg.expm(A) Matrix exponential\n",
    ">>> linalg.expm2(A) Matrix exponential (Taylor Series)\n",
    ">>> linalg.expm3(D) Matrix exponential (eigenvalue\n",
    "decomposition)\n",
    "# Logarithm Function\n",
    ">>> linalg.logm(A) Matrix logarithm\n",
    "# Trigonometric Functions\n",
    ">>> linalg.sinm(D) Matrix sine\n",
    ">>> linalg.cosm(D) Matrix cosine\n",
    ">>> linalg.tanm(A) Matrix tangent\n",
    "# Hyperbolic Trigonometric Functions\n",
    ">>> linalg.sinhm(D) Hypberbolic matrix sine\n",
    ">>> linalg.coshm(D) Hyperbolic matrix cosine\n",
    ">>> linalg.tanhm(A) Hyperbolic matrix tangent\n",
    "Matrix Sign Function\n",
    ">>> np.signm(A) Matrix sign function\n",
    "# Matrix Square Root\n",
    ">>> linalg.sqrtm(A) Matrix square root\n",
    "# Arbitrary Functions\n",
    ">>> linalg.funm(A, lambda x: x*x) Evaluate matrix function"
   ]
  }
 ],
 "metadata": {
  "kernelspec": {
   "display_name": "Python 3",
   "language": "python",
   "name": "python3"
  },
  "language_info": {
   "codemirror_mode": {
    "name": "ipython",
    "version": 3
   },
   "file_extension": ".py",
   "mimetype": "text/x-python",
   "name": "python",
   "nbconvert_exporter": "python",
   "pygments_lexer": "ipython3",
   "version": "3.6.4"
  }
 },
 "nbformat": 4,
 "nbformat_minor": 1
}
