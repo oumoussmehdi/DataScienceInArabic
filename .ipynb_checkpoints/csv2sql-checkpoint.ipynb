{
 "cells": [
  {
   "cell_type": "code",
   "execution_count": 1,
   "metadata": {},
   "outputs": [],
   "source": [
    "import pandas as pd"
   ]
  },
  {
   "cell_type": "code",
   "execution_count": 27,
   "metadata": {},
   "outputs": [],
   "source": [
    "def csv2sql(csv_file_path, sql_file_path, table_name):\n",
    "    df = pd.read_csv(csv_file_path)\n",
    "    for col in df.select_dtypes(include = object).columns:\n",
    "        df[col] = df[col].apply(lambda x : \"'\"+x+\"'\")\n",
    "    \n",
    "    first_column = df.columns[0] # \"\"\n",
    "    last_column = df.columns[-1]\n",
    "    query = \"INSERT INTO [dbo].[\"+table_name+\"] VALUES (\" \n",
    "    \n",
    "    df[first_column] = df[first_column].apply(lambda x : query+ str(x))\n",
    "    df[last_column] = df[last_column].apply(lambda x : str(x) + \");\")\n",
    "    \n",
    "    df.to_csv(sql_file_path, header=False, index=False)"
   ]
  },
  {
   "cell_type": "code",
   "execution_count": 30,
   "metadata": {},
   "outputs": [],
   "source": [
    "csv_file_path = \"C:\\\\Users\\\\Fouzia Yessad\\\\PycharmProjects\\\\DataScienceInArabic\\\\data\\\\WA_American-Time-Use-Survey-lite.csv\"\n",
    "sql_file_path =  \"C:\\\\Users\\\\Fouzia Yessad\\\\Downloads\\\\WA_American-Time-Use-Survey-lite.sql\"\n",
    "table_name = 'American-Time-Use-Survey-lite'"
   ]
  },
  {
   "cell_type": "code",
   "execution_count": 31,
   "metadata": {},
   "outputs": [],
   "source": [
    "csv2sql(csv_file_path, sql_file_path, table_name)"
   ]
  }
 ],
 "metadata": {
  "kernelspec": {
   "display_name": "Python 3",
   "language": "python",
   "name": "python3"
  },
  "language_info": {
   "codemirror_mode": {
    "name": "ipython",
    "version": 3
   },
   "file_extension": ".py",
   "mimetype": "text/x-python",
   "name": "python",
   "nbconvert_exporter": "python",
   "pygments_lexer": "ipython3",
   "version": "3.6.4"
  }
 },
 "nbformat": 4,
 "nbformat_minor": 2
}
