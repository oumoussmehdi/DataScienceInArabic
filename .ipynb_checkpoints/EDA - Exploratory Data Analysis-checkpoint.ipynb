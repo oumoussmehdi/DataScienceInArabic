{
 "cells": [
  {
   "cell_type": "markdown",
   "metadata": {},
   "source": [
    "# <center style='color:red'> EDA : Exploratory Data Analysis </center> \n",
    "# <center style='color:red'> تحليل البيانات الاستكشافي </center>\n",
    "\n",
    "* Discover the data for better understanding - اكتشاف البيانات من اجل فهم افضل\n",
    "* Check for anomalies in the data - التحقق من جودة البيانات\n",
    "* Formulate and test questions and hypotheses - صياغة واختبار الأسئلة والفرضيات \n",
    "* Look for relationships between variables - البحث عن العلاقات بين المتغيرات\n",
    "* visualize data using plots - تصور البيانات باستخدام رسوم بيانية\n"
   ]
  },
  {
   "cell_type": "markdown",
   "metadata": {},
   "source": [
    "## Importing necessary libraries - جلب المكتبات الضرورية"
   ]
  },
  {
   "cell_type": "code",
   "execution_count": 14,
   "metadata": {},
   "outputs": [],
   "source": [
    "import numpy as np \n",
    "import pandas as pd\n",
    "import matplotlib "
   ]
  },
  {
   "cell_type": "markdown",
   "metadata": {},
   "source": [
    "### reading the file - قراءة الملف"
   ]
  },
  {
   "cell_type": "code",
   "execution_count": 2,
   "metadata": {},
   "outputs": [],
   "source": [
    "path = 'data\\\\Fire_Department_Calls_for_Service_03_23_2019.csv' # المسار نحو الملف"
   ]
  },
  {
   "cell_type": "code",
   "execution_count": 3,
   "metadata": {},
   "outputs": [
    {
     "data": {
      "text/html": [
       "<div>\n",
       "<style scoped>\n",
       "    .dataframe tbody tr th:only-of-type {\n",
       "        vertical-align: middle;\n",
       "    }\n",
       "\n",
       "    .dataframe tbody tr th {\n",
       "        vertical-align: top;\n",
       "    }\n",
       "\n",
       "    .dataframe thead th {\n",
       "        text-align: right;\n",
       "    }\n",
       "</style>\n",
       "<table border=\"1\" class=\"dataframe\">\n",
       "  <thead>\n",
       "    <tr style=\"text-align: right;\">\n",
       "      <th></th>\n",
       "      <th>Call Number</th>\n",
       "      <th>Unit ID</th>\n",
       "      <th>Incident Number</th>\n",
       "      <th>Call Type</th>\n",
       "      <th>Call Date</th>\n",
       "      <th>Watch Date</th>\n",
       "      <th>Received DtTm</th>\n",
       "      <th>Entry DtTm</th>\n",
       "      <th>Dispatch DtTm</th>\n",
       "      <th>Response DtTm</th>\n",
       "      <th>...</th>\n",
       "      <th>ALS Unit</th>\n",
       "      <th>Call Type Group</th>\n",
       "      <th>Number of Alarms</th>\n",
       "      <th>Unit Type</th>\n",
       "      <th>Unit sequence in call dispatch</th>\n",
       "      <th>Fire Prevention District</th>\n",
       "      <th>Supervisor District</th>\n",
       "      <th>Neighborhooods - Analysis Boundaries</th>\n",
       "      <th>Location</th>\n",
       "      <th>RowID</th>\n",
       "    </tr>\n",
       "  </thead>\n",
       "  <tbody>\n",
       "    <tr>\n",
       "      <th>0</th>\n",
       "      <td>190824304</td>\n",
       "      <td>KM11</td>\n",
       "      <td>19035264</td>\n",
       "      <td>Medical Incident</td>\n",
       "      <td>03/23/2019</td>\n",
       "      <td>03/23/2019</td>\n",
       "      <td>03/23/2019 11:58:14 PM</td>\n",
       "      <td>03/24/2019 12:00:09 AM</td>\n",
       "      <td>03/24/2019 12:00:36 AM</td>\n",
       "      <td>03/24/2019 12:01:01 AM</td>\n",
       "      <td>...</td>\n",
       "      <td>False</td>\n",
       "      <td>Non Life-threatening</td>\n",
       "      <td>1</td>\n",
       "      <td>PRIVATE</td>\n",
       "      <td>1</td>\n",
       "      <td>2</td>\n",
       "      <td>5</td>\n",
       "      <td>Western Addition</td>\n",
       "      <td>(37.78200642291339, -122.42822947127583)</td>\n",
       "      <td>190824304-KM11</td>\n",
       "    </tr>\n",
       "    <tr>\n",
       "      <th>1</th>\n",
       "      <td>190824295</td>\n",
       "      <td>KM03</td>\n",
       "      <td>19035263</td>\n",
       "      <td>Medical Incident</td>\n",
       "      <td>03/23/2019</td>\n",
       "      <td>03/23/2019</td>\n",
       "      <td>03/23/2019 11:56:34 PM</td>\n",
       "      <td>03/23/2019 11:56:34 PM</td>\n",
       "      <td>03/23/2019 11:56:59 PM</td>\n",
       "      <td>03/23/2019 11:57:47 PM</td>\n",
       "      <td>...</td>\n",
       "      <td>False</td>\n",
       "      <td>Potentially Life-Threatening</td>\n",
       "      <td>1</td>\n",
       "      <td>PRIVATE</td>\n",
       "      <td>2</td>\n",
       "      <td>1</td>\n",
       "      <td>3</td>\n",
       "      <td>Financial District/South Beach</td>\n",
       "      <td>(37.7980449492818, -122.3963670843851)</td>\n",
       "      <td>190824295-KM03</td>\n",
       "    </tr>\n",
       "    <tr>\n",
       "      <th>2</th>\n",
       "      <td>190824295</td>\n",
       "      <td>E28</td>\n",
       "      <td>19035263</td>\n",
       "      <td>Medical Incident</td>\n",
       "      <td>03/23/2019</td>\n",
       "      <td>03/23/2019</td>\n",
       "      <td>03/23/2019 11:56:34 PM</td>\n",
       "      <td>03/23/2019 11:56:34 PM</td>\n",
       "      <td>03/23/2019 11:56:59 PM</td>\n",
       "      <td>03/23/2019 11:57:46 PM</td>\n",
       "      <td>...</td>\n",
       "      <td>False</td>\n",
       "      <td>Potentially Life-Threatening</td>\n",
       "      <td>1</td>\n",
       "      <td>ENGINE</td>\n",
       "      <td>1</td>\n",
       "      <td>1</td>\n",
       "      <td>3</td>\n",
       "      <td>Financial District/South Beach</td>\n",
       "      <td>(37.7980449492818, -122.3963670843851)</td>\n",
       "      <td>190824295-E28</td>\n",
       "    </tr>\n",
       "    <tr>\n",
       "      <th>3</th>\n",
       "      <td>190824278</td>\n",
       "      <td>59</td>\n",
       "      <td>19035262</td>\n",
       "      <td>Medical Incident</td>\n",
       "      <td>03/23/2019</td>\n",
       "      <td>03/23/2019</td>\n",
       "      <td>03/23/2019 11:48:04 PM</td>\n",
       "      <td>03/23/2019 11:50:41 PM</td>\n",
       "      <td>03/23/2019 11:50:59 PM</td>\n",
       "      <td>03/23/2019 11:51:18 PM</td>\n",
       "      <td>...</td>\n",
       "      <td>True</td>\n",
       "      <td>Non Life-threatening</td>\n",
       "      <td>1</td>\n",
       "      <td>MEDIC</td>\n",
       "      <td>1</td>\n",
       "      <td>9</td>\n",
       "      <td>11</td>\n",
       "      <td>Excelsior</td>\n",
       "      <td>(37.709059057853175, -122.45174696338128)</td>\n",
       "      <td>190824278-59</td>\n",
       "    </tr>\n",
       "    <tr>\n",
       "      <th>4</th>\n",
       "      <td>190824270</td>\n",
       "      <td>E29</td>\n",
       "      <td>19035261</td>\n",
       "      <td>Medical Incident</td>\n",
       "      <td>03/23/2019</td>\n",
       "      <td>03/23/2019</td>\n",
       "      <td>03/23/2019 11:48:21 PM</td>\n",
       "      <td>03/23/2019 11:49:36 PM</td>\n",
       "      <td>03/23/2019 11:50:31 PM</td>\n",
       "      <td>03/23/2019 11:51:45 PM</td>\n",
       "      <td>...</td>\n",
       "      <td>True</td>\n",
       "      <td>Non Life-threatening</td>\n",
       "      <td>1</td>\n",
       "      <td>ENGINE</td>\n",
       "      <td>1</td>\n",
       "      <td>2</td>\n",
       "      <td>6</td>\n",
       "      <td>South of Market</td>\n",
       "      <td>(37.77128552595309, -122.41320426710206)</td>\n",
       "      <td>190824270-E29</td>\n",
       "    </tr>\n",
       "    <tr>\n",
       "      <th>5</th>\n",
       "      <td>190824270</td>\n",
       "      <td>AM122</td>\n",
       "      <td>19035261</td>\n",
       "      <td>Medical Incident</td>\n",
       "      <td>03/23/2019</td>\n",
       "      <td>03/23/2019</td>\n",
       "      <td>03/23/2019 11:48:21 PM</td>\n",
       "      <td>03/23/2019 11:49:36 PM</td>\n",
       "      <td>03/23/2019 11:50:31 PM</td>\n",
       "      <td>03/23/2019 11:51:17 PM</td>\n",
       "      <td>...</td>\n",
       "      <td>False</td>\n",
       "      <td>Non Life-threatening</td>\n",
       "      <td>1</td>\n",
       "      <td>PRIVATE</td>\n",
       "      <td>2</td>\n",
       "      <td>2</td>\n",
       "      <td>6</td>\n",
       "      <td>South of Market</td>\n",
       "      <td>(37.77128552595309, -122.41320426710206)</td>\n",
       "      <td>190824270-AM122</td>\n",
       "    </tr>\n",
       "    <tr>\n",
       "      <th>6</th>\n",
       "      <td>190824258</td>\n",
       "      <td>T13</td>\n",
       "      <td>19035260</td>\n",
       "      <td>Structure Fire</td>\n",
       "      <td>03/23/2019</td>\n",
       "      <td>03/23/2019</td>\n",
       "      <td>03/23/2019 11:43:14 PM</td>\n",
       "      <td>03/23/2019 11:44:48 PM</td>\n",
       "      <td>03/23/2019 11:45:04 PM</td>\n",
       "      <td>03/23/2019 11:46:32 PM</td>\n",
       "      <td>...</td>\n",
       "      <td>True</td>\n",
       "      <td>Alarm</td>\n",
       "      <td>1</td>\n",
       "      <td>TRUCK</td>\n",
       "      <td>6</td>\n",
       "      <td>1</td>\n",
       "      <td>3</td>\n",
       "      <td>Nob Hill</td>\n",
       "      <td>(37.791765799799315, -122.40748925022733)</td>\n",
       "      <td>190824258-T13</td>\n",
       "    </tr>\n",
       "    <tr>\n",
       "      <th>7</th>\n",
       "      <td>190824258</td>\n",
       "      <td>T02</td>\n",
       "      <td>19035260</td>\n",
       "      <td>Structure Fire</td>\n",
       "      <td>03/23/2019</td>\n",
       "      <td>03/23/2019</td>\n",
       "      <td>03/23/2019 11:43:14 PM</td>\n",
       "      <td>03/23/2019 11:44:48 PM</td>\n",
       "      <td>03/23/2019 11:45:04 PM</td>\n",
       "      <td>03/23/2019 11:45:58 PM</td>\n",
       "      <td>...</td>\n",
       "      <td>False</td>\n",
       "      <td>Alarm</td>\n",
       "      <td>1</td>\n",
       "      <td>TRUCK</td>\n",
       "      <td>4</td>\n",
       "      <td>1</td>\n",
       "      <td>3</td>\n",
       "      <td>Nob Hill</td>\n",
       "      <td>(37.791765799799315, -122.40748925022733)</td>\n",
       "      <td>190824258-T02</td>\n",
       "    </tr>\n",
       "    <tr>\n",
       "      <th>8</th>\n",
       "      <td>190824258</td>\n",
       "      <td>RS1</td>\n",
       "      <td>19035260</td>\n",
       "      <td>Structure Fire</td>\n",
       "      <td>03/23/2019</td>\n",
       "      <td>03/23/2019</td>\n",
       "      <td>03/23/2019 11:43:14 PM</td>\n",
       "      <td>03/23/2019 11:44:48 PM</td>\n",
       "      <td>03/23/2019 11:45:04 PM</td>\n",
       "      <td>03/23/2019 11:46:53 PM</td>\n",
       "      <td>...</td>\n",
       "      <td>False</td>\n",
       "      <td>Alarm</td>\n",
       "      <td>1</td>\n",
       "      <td>RESCUE SQUAD</td>\n",
       "      <td>8</td>\n",
       "      <td>1</td>\n",
       "      <td>3</td>\n",
       "      <td>Nob Hill</td>\n",
       "      <td>(37.791765799799315, -122.40748925022733)</td>\n",
       "      <td>190824258-RS1</td>\n",
       "    </tr>\n",
       "    <tr>\n",
       "      <th>9</th>\n",
       "      <td>190824258</td>\n",
       "      <td>E41</td>\n",
       "      <td>19035260</td>\n",
       "      <td>Structure Fire</td>\n",
       "      <td>03/23/2019</td>\n",
       "      <td>03/23/2019</td>\n",
       "      <td>03/23/2019 11:43:14 PM</td>\n",
       "      <td>03/23/2019 11:44:48 PM</td>\n",
       "      <td>03/23/2019 11:45:04 PM</td>\n",
       "      <td>03/23/2019 11:45:57 PM</td>\n",
       "      <td>...</td>\n",
       "      <td>True</td>\n",
       "      <td>Alarm</td>\n",
       "      <td>1</td>\n",
       "      <td>ENGINE</td>\n",
       "      <td>1</td>\n",
       "      <td>1</td>\n",
       "      <td>3</td>\n",
       "      <td>Nob Hill</td>\n",
       "      <td>(37.791765799799315, -122.40748925022733)</td>\n",
       "      <td>190824258-E41</td>\n",
       "    </tr>\n",
       "  </tbody>\n",
       "</table>\n",
       "<p>10 rows × 34 columns</p>\n",
       "</div>"
      ],
      "text/plain": [
       "   Call Number Unit ID  Incident Number         Call Type   Call Date  \\\n",
       "0    190824304    KM11         19035264  Medical Incident  03/23/2019   \n",
       "1    190824295    KM03         19035263  Medical Incident  03/23/2019   \n",
       "2    190824295     E28         19035263  Medical Incident  03/23/2019   \n",
       "3    190824278      59         19035262  Medical Incident  03/23/2019   \n",
       "4    190824270     E29         19035261  Medical Incident  03/23/2019   \n",
       "5    190824270   AM122         19035261  Medical Incident  03/23/2019   \n",
       "6    190824258     T13         19035260    Structure Fire  03/23/2019   \n",
       "7    190824258     T02         19035260    Structure Fire  03/23/2019   \n",
       "8    190824258     RS1         19035260    Structure Fire  03/23/2019   \n",
       "9    190824258     E41         19035260    Structure Fire  03/23/2019   \n",
       "\n",
       "   Watch Date           Received DtTm              Entry DtTm  \\\n",
       "0  03/23/2019  03/23/2019 11:58:14 PM  03/24/2019 12:00:09 AM   \n",
       "1  03/23/2019  03/23/2019 11:56:34 PM  03/23/2019 11:56:34 PM   \n",
       "2  03/23/2019  03/23/2019 11:56:34 PM  03/23/2019 11:56:34 PM   \n",
       "3  03/23/2019  03/23/2019 11:48:04 PM  03/23/2019 11:50:41 PM   \n",
       "4  03/23/2019  03/23/2019 11:48:21 PM  03/23/2019 11:49:36 PM   \n",
       "5  03/23/2019  03/23/2019 11:48:21 PM  03/23/2019 11:49:36 PM   \n",
       "6  03/23/2019  03/23/2019 11:43:14 PM  03/23/2019 11:44:48 PM   \n",
       "7  03/23/2019  03/23/2019 11:43:14 PM  03/23/2019 11:44:48 PM   \n",
       "8  03/23/2019  03/23/2019 11:43:14 PM  03/23/2019 11:44:48 PM   \n",
       "9  03/23/2019  03/23/2019 11:43:14 PM  03/23/2019 11:44:48 PM   \n",
       "\n",
       "            Dispatch DtTm           Response DtTm       ...        ALS Unit  \\\n",
       "0  03/24/2019 12:00:36 AM  03/24/2019 12:01:01 AM       ...           False   \n",
       "1  03/23/2019 11:56:59 PM  03/23/2019 11:57:47 PM       ...           False   \n",
       "2  03/23/2019 11:56:59 PM  03/23/2019 11:57:46 PM       ...           False   \n",
       "3  03/23/2019 11:50:59 PM  03/23/2019 11:51:18 PM       ...            True   \n",
       "4  03/23/2019 11:50:31 PM  03/23/2019 11:51:45 PM       ...            True   \n",
       "5  03/23/2019 11:50:31 PM  03/23/2019 11:51:17 PM       ...           False   \n",
       "6  03/23/2019 11:45:04 PM  03/23/2019 11:46:32 PM       ...            True   \n",
       "7  03/23/2019 11:45:04 PM  03/23/2019 11:45:58 PM       ...           False   \n",
       "8  03/23/2019 11:45:04 PM  03/23/2019 11:46:53 PM       ...           False   \n",
       "9  03/23/2019 11:45:04 PM  03/23/2019 11:45:57 PM       ...            True   \n",
       "\n",
       "                Call Type Group Number of Alarms     Unit Type  \\\n",
       "0          Non Life-threatening                1       PRIVATE   \n",
       "1  Potentially Life-Threatening                1       PRIVATE   \n",
       "2  Potentially Life-Threatening                1        ENGINE   \n",
       "3          Non Life-threatening                1         MEDIC   \n",
       "4          Non Life-threatening                1        ENGINE   \n",
       "5          Non Life-threatening                1       PRIVATE   \n",
       "6                         Alarm                1         TRUCK   \n",
       "7                         Alarm                1         TRUCK   \n",
       "8                         Alarm                1  RESCUE SQUAD   \n",
       "9                         Alarm                1        ENGINE   \n",
       "\n",
       "  Unit sequence in call dispatch Fire Prevention District Supervisor District  \\\n",
       "0                              1                        2                   5   \n",
       "1                              2                        1                   3   \n",
       "2                              1                        1                   3   \n",
       "3                              1                        9                  11   \n",
       "4                              1                        2                   6   \n",
       "5                              2                        2                   6   \n",
       "6                              6                        1                   3   \n",
       "7                              4                        1                   3   \n",
       "8                              8                        1                   3   \n",
       "9                              1                        1                   3   \n",
       "\n",
       "   Neighborhooods - Analysis Boundaries  \\\n",
       "0                      Western Addition   \n",
       "1        Financial District/South Beach   \n",
       "2        Financial District/South Beach   \n",
       "3                             Excelsior   \n",
       "4                       South of Market   \n",
       "5                       South of Market   \n",
       "6                              Nob Hill   \n",
       "7                              Nob Hill   \n",
       "8                              Nob Hill   \n",
       "9                              Nob Hill   \n",
       "\n",
       "                                    Location            RowID  \n",
       "0   (37.78200642291339, -122.42822947127583)   190824304-KM11  \n",
       "1     (37.7980449492818, -122.3963670843851)   190824295-KM03  \n",
       "2     (37.7980449492818, -122.3963670843851)    190824295-E28  \n",
       "3  (37.709059057853175, -122.45174696338128)     190824278-59  \n",
       "4   (37.77128552595309, -122.41320426710206)    190824270-E29  \n",
       "5   (37.77128552595309, -122.41320426710206)  190824270-AM122  \n",
       "6  (37.791765799799315, -122.40748925022733)    190824258-T13  \n",
       "7  (37.791765799799315, -122.40748925022733)    190824258-T02  \n",
       "8  (37.791765799799315, -122.40748925022733)    190824258-RS1  \n",
       "9  (37.791765799799315, -122.40748925022733)    190824258-E41  \n",
       "\n",
       "[10 rows x 34 columns]"
      ]
     },
     "execution_count": 3,
     "metadata": {},
     "output_type": "execute_result"
    }
   ],
   "source": [
    "df = pd.read_csv(path)\n",
    "df.head(10) # اكتشاف مختلف الاعمدة و البيانات التي تحتويها"
   ]
  },
  {
   "cell_type": "code",
   "execution_count": 4,
   "metadata": {},
   "outputs": [
    {
     "data": {
      "text/plain": [
       "(847, 34)"
      ]
     },
     "execution_count": 4,
     "metadata": {},
     "output_type": "execute_result"
    }
   ],
   "source": [
    "df.shape"
   ]
  },
  {
   "cell_type": "code",
   "execution_count": 5,
   "metadata": {},
   "outputs": [
    {
     "name": "stdout",
     "output_type": "stream",
     "text": [
      "Index(['Call Number', 'Unit ID', 'Incident Number', 'Call Type', 'Call Date',\n",
      "       'Watch Date', 'Received DtTm', 'Entry DtTm', 'Dispatch DtTm',\n",
      "       'Response DtTm', 'On Scene DtTm', 'Transport DtTm', 'Hospital DtTm',\n",
      "       'Call Final Disposition', 'Available DtTm', 'Address', 'City',\n",
      "       'Zipcode of Incident', 'Battalion', 'Station Area', 'Box',\n",
      "       'Original Priority', 'Priority', 'Final Priority', 'ALS Unit',\n",
      "       'Call Type Group', 'Number of Alarms', 'Unit Type',\n",
      "       'Unit sequence in call dispatch', 'Fire Prevention District',\n",
      "       'Supervisor District', 'Neighborhooods - Analysis Boundaries',\n",
      "       'Location', 'RowID'],\n",
      "      dtype='object')\n"
     ]
    }
   ],
   "source": [
    "print(df.columns)"
   ]
  },
  {
   "cell_type": "markdown",
   "metadata": {},
   "source": [
    "**modify jupyter notebook settings to show all the columns**\n",
    "**تغيير بسيط في اعدادات الدفتر من اجل رؤية الاعمدة كلها**"
   ]
  },
  {
   "cell_type": "code",
   "execution_count": 6,
   "metadata": {},
   "outputs": [],
   "source": [
    "from IPython.display import display\n",
    "pd.options.display.max_columns = None"
   ]
  },
  {
   "cell_type": "code",
   "execution_count": 7,
   "metadata": {},
   "outputs": [
    {
     "data": {
      "text/html": [
       "<div>\n",
       "<style scoped>\n",
       "    .dataframe tbody tr th:only-of-type {\n",
       "        vertical-align: middle;\n",
       "    }\n",
       "\n",
       "    .dataframe tbody tr th {\n",
       "        vertical-align: top;\n",
       "    }\n",
       "\n",
       "    .dataframe thead th {\n",
       "        text-align: right;\n",
       "    }\n",
       "</style>\n",
       "<table border=\"1\" class=\"dataframe\">\n",
       "  <thead>\n",
       "    <tr style=\"text-align: right;\">\n",
       "      <th></th>\n",
       "      <th>Call Number</th>\n",
       "      <th>Unit ID</th>\n",
       "      <th>Incident Number</th>\n",
       "      <th>Call Type</th>\n",
       "      <th>Call Date</th>\n",
       "      <th>Watch Date</th>\n",
       "      <th>Received DtTm</th>\n",
       "      <th>Entry DtTm</th>\n",
       "      <th>Dispatch DtTm</th>\n",
       "      <th>Response DtTm</th>\n",
       "      <th>On Scene DtTm</th>\n",
       "      <th>Transport DtTm</th>\n",
       "      <th>Hospital DtTm</th>\n",
       "      <th>Call Final Disposition</th>\n",
       "      <th>Available DtTm</th>\n",
       "      <th>Address</th>\n",
       "      <th>City</th>\n",
       "      <th>Zipcode of Incident</th>\n",
       "      <th>Battalion</th>\n",
       "      <th>Station Area</th>\n",
       "      <th>Box</th>\n",
       "      <th>Original Priority</th>\n",
       "      <th>Priority</th>\n",
       "      <th>Final Priority</th>\n",
       "      <th>ALS Unit</th>\n",
       "      <th>Call Type Group</th>\n",
       "      <th>Number of Alarms</th>\n",
       "      <th>Unit Type</th>\n",
       "      <th>Unit sequence in call dispatch</th>\n",
       "      <th>Fire Prevention District</th>\n",
       "      <th>Supervisor District</th>\n",
       "      <th>Neighborhooods - Analysis Boundaries</th>\n",
       "      <th>Location</th>\n",
       "      <th>RowID</th>\n",
       "    </tr>\n",
       "  </thead>\n",
       "  <tbody>\n",
       "    <tr>\n",
       "      <th>0</th>\n",
       "      <td>190824304</td>\n",
       "      <td>KM11</td>\n",
       "      <td>19035264</td>\n",
       "      <td>Medical Incident</td>\n",
       "      <td>03/23/2019</td>\n",
       "      <td>03/23/2019</td>\n",
       "      <td>03/23/2019 11:58:14 PM</td>\n",
       "      <td>03/24/2019 12:00:09 AM</td>\n",
       "      <td>03/24/2019 12:00:36 AM</td>\n",
       "      <td>03/24/2019 12:01:01 AM</td>\n",
       "      <td>03/24/2019 12:11:43 AM</td>\n",
       "      <td>03/24/2019 12:25:28 AM</td>\n",
       "      <td>03/24/2019 12:41:27 AM</td>\n",
       "      <td>Code 2 Transport</td>\n",
       "      <td>03/24/2019 01:07:29 AM</td>\n",
       "      <td>1200 Block of EDDY ST</td>\n",
       "      <td>San Francisco</td>\n",
       "      <td>94115.0</td>\n",
       "      <td>B02</td>\n",
       "      <td>5</td>\n",
       "      <td>3366</td>\n",
       "      <td>2</td>\n",
       "      <td>2</td>\n",
       "      <td>2</td>\n",
       "      <td>False</td>\n",
       "      <td>Non Life-threatening</td>\n",
       "      <td>1</td>\n",
       "      <td>PRIVATE</td>\n",
       "      <td>1</td>\n",
       "      <td>2</td>\n",
       "      <td>5</td>\n",
       "      <td>Western Addition</td>\n",
       "      <td>(37.78200642291339, -122.42822947127583)</td>\n",
       "      <td>190824304-KM11</td>\n",
       "    </tr>\n",
       "    <tr>\n",
       "      <th>1</th>\n",
       "      <td>190824295</td>\n",
       "      <td>KM03</td>\n",
       "      <td>19035263</td>\n",
       "      <td>Medical Incident</td>\n",
       "      <td>03/23/2019</td>\n",
       "      <td>03/23/2019</td>\n",
       "      <td>03/23/2019 11:56:34 PM</td>\n",
       "      <td>03/23/2019 11:56:34 PM</td>\n",
       "      <td>03/23/2019 11:56:59 PM</td>\n",
       "      <td>03/23/2019 11:57:47 PM</td>\n",
       "      <td>03/24/2019 12:06:44 AM</td>\n",
       "      <td>03/24/2019 12:21:05 AM</td>\n",
       "      <td>03/24/2019 12:43:48 AM</td>\n",
       "      <td>Code 2 Transport</td>\n",
       "      <td>03/24/2019 01:25:25 AM</td>\n",
       "      <td>200 Block of THE EMBARCADERO</td>\n",
       "      <td>San Francisco</td>\n",
       "      <td>94111.0</td>\n",
       "      <td>B01</td>\n",
       "      <td>13</td>\n",
       "      <td>903</td>\n",
       "      <td>A</td>\n",
       "      <td>2</td>\n",
       "      <td>2</td>\n",
       "      <td>False</td>\n",
       "      <td>Potentially Life-Threatening</td>\n",
       "      <td>1</td>\n",
       "      <td>PRIVATE</td>\n",
       "      <td>2</td>\n",
       "      <td>1</td>\n",
       "      <td>3</td>\n",
       "      <td>Financial District/South Beach</td>\n",
       "      <td>(37.7980449492818, -122.3963670843851)</td>\n",
       "      <td>190824295-KM03</td>\n",
       "    </tr>\n",
       "    <tr>\n",
       "      <th>2</th>\n",
       "      <td>190824295</td>\n",
       "      <td>E28</td>\n",
       "      <td>19035263</td>\n",
       "      <td>Medical Incident</td>\n",
       "      <td>03/23/2019</td>\n",
       "      <td>03/23/2019</td>\n",
       "      <td>03/23/2019 11:56:34 PM</td>\n",
       "      <td>03/23/2019 11:56:34 PM</td>\n",
       "      <td>03/23/2019 11:56:59 PM</td>\n",
       "      <td>03/23/2019 11:57:46 PM</td>\n",
       "      <td>03/24/2019 12:04:56 AM</td>\n",
       "      <td>NaN</td>\n",
       "      <td>NaN</td>\n",
       "      <td>Code 2 Transport</td>\n",
       "      <td>03/24/2019 12:13:45 AM</td>\n",
       "      <td>200 Block of THE EMBARCADERO</td>\n",
       "      <td>San Francisco</td>\n",
       "      <td>94111.0</td>\n",
       "      <td>B01</td>\n",
       "      <td>13</td>\n",
       "      <td>903</td>\n",
       "      <td>A</td>\n",
       "      <td>2</td>\n",
       "      <td>2</td>\n",
       "      <td>False</td>\n",
       "      <td>Potentially Life-Threatening</td>\n",
       "      <td>1</td>\n",
       "      <td>ENGINE</td>\n",
       "      <td>1</td>\n",
       "      <td>1</td>\n",
       "      <td>3</td>\n",
       "      <td>Financial District/South Beach</td>\n",
       "      <td>(37.7980449492818, -122.3963670843851)</td>\n",
       "      <td>190824295-E28</td>\n",
       "    </tr>\n",
       "    <tr>\n",
       "      <th>3</th>\n",
       "      <td>190824278</td>\n",
       "      <td>59</td>\n",
       "      <td>19035262</td>\n",
       "      <td>Medical Incident</td>\n",
       "      <td>03/23/2019</td>\n",
       "      <td>03/23/2019</td>\n",
       "      <td>03/23/2019 11:48:04 PM</td>\n",
       "      <td>03/23/2019 11:50:41 PM</td>\n",
       "      <td>03/23/2019 11:50:59 PM</td>\n",
       "      <td>03/23/2019 11:51:18 PM</td>\n",
       "      <td>03/24/2019 12:16:45 AM</td>\n",
       "      <td>NaN</td>\n",
       "      <td>NaN</td>\n",
       "      <td>Patient Declined Transport</td>\n",
       "      <td>03/24/2019 02:53:32 AM</td>\n",
       "      <td>5800 Block of MISSION ST</td>\n",
       "      <td>San Francisco</td>\n",
       "      <td>94112.0</td>\n",
       "      <td>B09</td>\n",
       "      <td>33</td>\n",
       "      <td>6213</td>\n",
       "      <td>2</td>\n",
       "      <td>2</td>\n",
       "      <td>2</td>\n",
       "      <td>True</td>\n",
       "      <td>Non Life-threatening</td>\n",
       "      <td>1</td>\n",
       "      <td>MEDIC</td>\n",
       "      <td>1</td>\n",
       "      <td>9</td>\n",
       "      <td>11</td>\n",
       "      <td>Excelsior</td>\n",
       "      <td>(37.709059057853175, -122.45174696338128)</td>\n",
       "      <td>190824278-59</td>\n",
       "    </tr>\n",
       "    <tr>\n",
       "      <th>4</th>\n",
       "      <td>190824270</td>\n",
       "      <td>E29</td>\n",
       "      <td>19035261</td>\n",
       "      <td>Medical Incident</td>\n",
       "      <td>03/23/2019</td>\n",
       "      <td>03/23/2019</td>\n",
       "      <td>03/23/2019 11:48:21 PM</td>\n",
       "      <td>03/23/2019 11:49:36 PM</td>\n",
       "      <td>03/23/2019 11:50:31 PM</td>\n",
       "      <td>03/23/2019 11:51:45 PM</td>\n",
       "      <td>03/23/2019 11:54:40 PM</td>\n",
       "      <td>NaN</td>\n",
       "      <td>NaN</td>\n",
       "      <td>Code 2 Transport</td>\n",
       "      <td>03/24/2019 12:28:00 AM</td>\n",
       "      <td>300 Block of 11TH ST</td>\n",
       "      <td>San Francisco</td>\n",
       "      <td>94103.0</td>\n",
       "      <td>B02</td>\n",
       "      <td>29</td>\n",
       "      <td>5112</td>\n",
       "      <td>2</td>\n",
       "      <td>2</td>\n",
       "      <td>2</td>\n",
       "      <td>True</td>\n",
       "      <td>Non Life-threatening</td>\n",
       "      <td>1</td>\n",
       "      <td>ENGINE</td>\n",
       "      <td>1</td>\n",
       "      <td>2</td>\n",
       "      <td>6</td>\n",
       "      <td>South of Market</td>\n",
       "      <td>(37.77128552595309, -122.41320426710206)</td>\n",
       "      <td>190824270-E29</td>\n",
       "    </tr>\n",
       "    <tr>\n",
       "      <th>5</th>\n",
       "      <td>190824270</td>\n",
       "      <td>AM122</td>\n",
       "      <td>19035261</td>\n",
       "      <td>Medical Incident</td>\n",
       "      <td>03/23/2019</td>\n",
       "      <td>03/23/2019</td>\n",
       "      <td>03/23/2019 11:48:21 PM</td>\n",
       "      <td>03/23/2019 11:49:36 PM</td>\n",
       "      <td>03/23/2019 11:50:31 PM</td>\n",
       "      <td>03/23/2019 11:51:17 PM</td>\n",
       "      <td>03/23/2019 11:57:47 PM</td>\n",
       "      <td>03/24/2019 12:26:26 AM</td>\n",
       "      <td>03/24/2019 12:37:07 AM</td>\n",
       "      <td>Code 2 Transport</td>\n",
       "      <td>03/24/2019 01:09:33 AM</td>\n",
       "      <td>300 Block of 11TH ST</td>\n",
       "      <td>San Francisco</td>\n",
       "      <td>94103.0</td>\n",
       "      <td>B02</td>\n",
       "      <td>29</td>\n",
       "      <td>5112</td>\n",
       "      <td>2</td>\n",
       "      <td>2</td>\n",
       "      <td>2</td>\n",
       "      <td>False</td>\n",
       "      <td>Non Life-threatening</td>\n",
       "      <td>1</td>\n",
       "      <td>PRIVATE</td>\n",
       "      <td>2</td>\n",
       "      <td>2</td>\n",
       "      <td>6</td>\n",
       "      <td>South of Market</td>\n",
       "      <td>(37.77128552595309, -122.41320426710206)</td>\n",
       "      <td>190824270-AM122</td>\n",
       "    </tr>\n",
       "    <tr>\n",
       "      <th>6</th>\n",
       "      <td>190824258</td>\n",
       "      <td>T13</td>\n",
       "      <td>19035260</td>\n",
       "      <td>Structure Fire</td>\n",
       "      <td>03/23/2019</td>\n",
       "      <td>03/23/2019</td>\n",
       "      <td>03/23/2019 11:43:14 PM</td>\n",
       "      <td>03/23/2019 11:44:48 PM</td>\n",
       "      <td>03/23/2019 11:45:04 PM</td>\n",
       "      <td>03/23/2019 11:46:32 PM</td>\n",
       "      <td>03/23/2019 11:49:53 PM</td>\n",
       "      <td>NaN</td>\n",
       "      <td>NaN</td>\n",
       "      <td>Fire</td>\n",
       "      <td>03/24/2019 12:02:26 AM</td>\n",
       "      <td>600 Block of STOCKTON ST</td>\n",
       "      <td>San Francisco</td>\n",
       "      <td>94108.0</td>\n",
       "      <td>B01</td>\n",
       "      <td>2</td>\n",
       "      <td>1325</td>\n",
       "      <td>3</td>\n",
       "      <td>3</td>\n",
       "      <td>3</td>\n",
       "      <td>True</td>\n",
       "      <td>Alarm</td>\n",
       "      <td>1</td>\n",
       "      <td>TRUCK</td>\n",
       "      <td>6</td>\n",
       "      <td>1</td>\n",
       "      <td>3</td>\n",
       "      <td>Nob Hill</td>\n",
       "      <td>(37.791765799799315, -122.40748925022733)</td>\n",
       "      <td>190824258-T13</td>\n",
       "    </tr>\n",
       "    <tr>\n",
       "      <th>7</th>\n",
       "      <td>190824258</td>\n",
       "      <td>T02</td>\n",
       "      <td>19035260</td>\n",
       "      <td>Structure Fire</td>\n",
       "      <td>03/23/2019</td>\n",
       "      <td>03/23/2019</td>\n",
       "      <td>03/23/2019 11:43:14 PM</td>\n",
       "      <td>03/23/2019 11:44:48 PM</td>\n",
       "      <td>03/23/2019 11:45:04 PM</td>\n",
       "      <td>03/23/2019 11:45:58 PM</td>\n",
       "      <td>03/23/2019 11:49:01 PM</td>\n",
       "      <td>NaN</td>\n",
       "      <td>NaN</td>\n",
       "      <td>Fire</td>\n",
       "      <td>03/24/2019 12:02:05 AM</td>\n",
       "      <td>600 Block of STOCKTON ST</td>\n",
       "      <td>San Francisco</td>\n",
       "      <td>94108.0</td>\n",
       "      <td>B01</td>\n",
       "      <td>2</td>\n",
       "      <td>1325</td>\n",
       "      <td>3</td>\n",
       "      <td>3</td>\n",
       "      <td>3</td>\n",
       "      <td>False</td>\n",
       "      <td>Alarm</td>\n",
       "      <td>1</td>\n",
       "      <td>TRUCK</td>\n",
       "      <td>4</td>\n",
       "      <td>1</td>\n",
       "      <td>3</td>\n",
       "      <td>Nob Hill</td>\n",
       "      <td>(37.791765799799315, -122.40748925022733)</td>\n",
       "      <td>190824258-T02</td>\n",
       "    </tr>\n",
       "    <tr>\n",
       "      <th>8</th>\n",
       "      <td>190824258</td>\n",
       "      <td>RS1</td>\n",
       "      <td>19035260</td>\n",
       "      <td>Structure Fire</td>\n",
       "      <td>03/23/2019</td>\n",
       "      <td>03/23/2019</td>\n",
       "      <td>03/23/2019 11:43:14 PM</td>\n",
       "      <td>03/23/2019 11:44:48 PM</td>\n",
       "      <td>03/23/2019 11:45:04 PM</td>\n",
       "      <td>03/23/2019 11:46:53 PM</td>\n",
       "      <td>03/23/2019 11:50:43 PM</td>\n",
       "      <td>NaN</td>\n",
       "      <td>NaN</td>\n",
       "      <td>Fire</td>\n",
       "      <td>03/24/2019 01:02:21 AM</td>\n",
       "      <td>600 Block of STOCKTON ST</td>\n",
       "      <td>San Francisco</td>\n",
       "      <td>94108.0</td>\n",
       "      <td>B01</td>\n",
       "      <td>2</td>\n",
       "      <td>1325</td>\n",
       "      <td>3</td>\n",
       "      <td>3</td>\n",
       "      <td>3</td>\n",
       "      <td>False</td>\n",
       "      <td>Alarm</td>\n",
       "      <td>1</td>\n",
       "      <td>RESCUE SQUAD</td>\n",
       "      <td>8</td>\n",
       "      <td>1</td>\n",
       "      <td>3</td>\n",
       "      <td>Nob Hill</td>\n",
       "      <td>(37.791765799799315, -122.40748925022733)</td>\n",
       "      <td>190824258-RS1</td>\n",
       "    </tr>\n",
       "    <tr>\n",
       "      <th>9</th>\n",
       "      <td>190824258</td>\n",
       "      <td>E41</td>\n",
       "      <td>19035260</td>\n",
       "      <td>Structure Fire</td>\n",
       "      <td>03/23/2019</td>\n",
       "      <td>03/23/2019</td>\n",
       "      <td>03/23/2019 11:43:14 PM</td>\n",
       "      <td>03/23/2019 11:44:48 PM</td>\n",
       "      <td>03/23/2019 11:45:04 PM</td>\n",
       "      <td>03/23/2019 11:45:57 PM</td>\n",
       "      <td>03/23/2019 11:47:11 PM</td>\n",
       "      <td>NaN</td>\n",
       "      <td>NaN</td>\n",
       "      <td>Fire</td>\n",
       "      <td>03/24/2019 12:08:28 AM</td>\n",
       "      <td>600 Block of STOCKTON ST</td>\n",
       "      <td>San Francisco</td>\n",
       "      <td>94108.0</td>\n",
       "      <td>B01</td>\n",
       "      <td>2</td>\n",
       "      <td>1325</td>\n",
       "      <td>3</td>\n",
       "      <td>3</td>\n",
       "      <td>3</td>\n",
       "      <td>True</td>\n",
       "      <td>Alarm</td>\n",
       "      <td>1</td>\n",
       "      <td>ENGINE</td>\n",
       "      <td>1</td>\n",
       "      <td>1</td>\n",
       "      <td>3</td>\n",
       "      <td>Nob Hill</td>\n",
       "      <td>(37.791765799799315, -122.40748925022733)</td>\n",
       "      <td>190824258-E41</td>\n",
       "    </tr>\n",
       "  </tbody>\n",
       "</table>\n",
       "</div>"
      ],
      "text/plain": [
       "   Call Number Unit ID  Incident Number         Call Type   Call Date  \\\n",
       "0    190824304    KM11         19035264  Medical Incident  03/23/2019   \n",
       "1    190824295    KM03         19035263  Medical Incident  03/23/2019   \n",
       "2    190824295     E28         19035263  Medical Incident  03/23/2019   \n",
       "3    190824278      59         19035262  Medical Incident  03/23/2019   \n",
       "4    190824270     E29         19035261  Medical Incident  03/23/2019   \n",
       "5    190824270   AM122         19035261  Medical Incident  03/23/2019   \n",
       "6    190824258     T13         19035260    Structure Fire  03/23/2019   \n",
       "7    190824258     T02         19035260    Structure Fire  03/23/2019   \n",
       "8    190824258     RS1         19035260    Structure Fire  03/23/2019   \n",
       "9    190824258     E41         19035260    Structure Fire  03/23/2019   \n",
       "\n",
       "   Watch Date           Received DtTm              Entry DtTm  \\\n",
       "0  03/23/2019  03/23/2019 11:58:14 PM  03/24/2019 12:00:09 AM   \n",
       "1  03/23/2019  03/23/2019 11:56:34 PM  03/23/2019 11:56:34 PM   \n",
       "2  03/23/2019  03/23/2019 11:56:34 PM  03/23/2019 11:56:34 PM   \n",
       "3  03/23/2019  03/23/2019 11:48:04 PM  03/23/2019 11:50:41 PM   \n",
       "4  03/23/2019  03/23/2019 11:48:21 PM  03/23/2019 11:49:36 PM   \n",
       "5  03/23/2019  03/23/2019 11:48:21 PM  03/23/2019 11:49:36 PM   \n",
       "6  03/23/2019  03/23/2019 11:43:14 PM  03/23/2019 11:44:48 PM   \n",
       "7  03/23/2019  03/23/2019 11:43:14 PM  03/23/2019 11:44:48 PM   \n",
       "8  03/23/2019  03/23/2019 11:43:14 PM  03/23/2019 11:44:48 PM   \n",
       "9  03/23/2019  03/23/2019 11:43:14 PM  03/23/2019 11:44:48 PM   \n",
       "\n",
       "            Dispatch DtTm           Response DtTm           On Scene DtTm  \\\n",
       "0  03/24/2019 12:00:36 AM  03/24/2019 12:01:01 AM  03/24/2019 12:11:43 AM   \n",
       "1  03/23/2019 11:56:59 PM  03/23/2019 11:57:47 PM  03/24/2019 12:06:44 AM   \n",
       "2  03/23/2019 11:56:59 PM  03/23/2019 11:57:46 PM  03/24/2019 12:04:56 AM   \n",
       "3  03/23/2019 11:50:59 PM  03/23/2019 11:51:18 PM  03/24/2019 12:16:45 AM   \n",
       "4  03/23/2019 11:50:31 PM  03/23/2019 11:51:45 PM  03/23/2019 11:54:40 PM   \n",
       "5  03/23/2019 11:50:31 PM  03/23/2019 11:51:17 PM  03/23/2019 11:57:47 PM   \n",
       "6  03/23/2019 11:45:04 PM  03/23/2019 11:46:32 PM  03/23/2019 11:49:53 PM   \n",
       "7  03/23/2019 11:45:04 PM  03/23/2019 11:45:58 PM  03/23/2019 11:49:01 PM   \n",
       "8  03/23/2019 11:45:04 PM  03/23/2019 11:46:53 PM  03/23/2019 11:50:43 PM   \n",
       "9  03/23/2019 11:45:04 PM  03/23/2019 11:45:57 PM  03/23/2019 11:47:11 PM   \n",
       "\n",
       "           Transport DtTm           Hospital DtTm      Call Final Disposition  \\\n",
       "0  03/24/2019 12:25:28 AM  03/24/2019 12:41:27 AM            Code 2 Transport   \n",
       "1  03/24/2019 12:21:05 AM  03/24/2019 12:43:48 AM            Code 2 Transport   \n",
       "2                     NaN                     NaN            Code 2 Transport   \n",
       "3                     NaN                     NaN  Patient Declined Transport   \n",
       "4                     NaN                     NaN            Code 2 Transport   \n",
       "5  03/24/2019 12:26:26 AM  03/24/2019 12:37:07 AM            Code 2 Transport   \n",
       "6                     NaN                     NaN                        Fire   \n",
       "7                     NaN                     NaN                        Fire   \n",
       "8                     NaN                     NaN                        Fire   \n",
       "9                     NaN                     NaN                        Fire   \n",
       "\n",
       "           Available DtTm                       Address           City  \\\n",
       "0  03/24/2019 01:07:29 AM         1200 Block of EDDY ST  San Francisco   \n",
       "1  03/24/2019 01:25:25 AM  200 Block of THE EMBARCADERO  San Francisco   \n",
       "2  03/24/2019 12:13:45 AM  200 Block of THE EMBARCADERO  San Francisco   \n",
       "3  03/24/2019 02:53:32 AM      5800 Block of MISSION ST  San Francisco   \n",
       "4  03/24/2019 12:28:00 AM          300 Block of 11TH ST  San Francisco   \n",
       "5  03/24/2019 01:09:33 AM          300 Block of 11TH ST  San Francisco   \n",
       "6  03/24/2019 12:02:26 AM      600 Block of STOCKTON ST  San Francisco   \n",
       "7  03/24/2019 12:02:05 AM      600 Block of STOCKTON ST  San Francisco   \n",
       "8  03/24/2019 01:02:21 AM      600 Block of STOCKTON ST  San Francisco   \n",
       "9  03/24/2019 12:08:28 AM      600 Block of STOCKTON ST  San Francisco   \n",
       "\n",
       "   Zipcode of Incident Battalion  Station Area   Box Original Priority  \\\n",
       "0              94115.0       B02             5  3366                 2   \n",
       "1              94111.0       B01            13   903                 A   \n",
       "2              94111.0       B01            13   903                 A   \n",
       "3              94112.0       B09            33  6213                 2   \n",
       "4              94103.0       B02            29  5112                 2   \n",
       "5              94103.0       B02            29  5112                 2   \n",
       "6              94108.0       B01             2  1325                 3   \n",
       "7              94108.0       B01             2  1325                 3   \n",
       "8              94108.0       B01             2  1325                 3   \n",
       "9              94108.0       B01             2  1325                 3   \n",
       "\n",
       "  Priority  Final Priority  ALS Unit               Call Type Group  \\\n",
       "0        2               2     False          Non Life-threatening   \n",
       "1        2               2     False  Potentially Life-Threatening   \n",
       "2        2               2     False  Potentially Life-Threatening   \n",
       "3        2               2      True          Non Life-threatening   \n",
       "4        2               2      True          Non Life-threatening   \n",
       "5        2               2     False          Non Life-threatening   \n",
       "6        3               3      True                         Alarm   \n",
       "7        3               3     False                         Alarm   \n",
       "8        3               3     False                         Alarm   \n",
       "9        3               3      True                         Alarm   \n",
       "\n",
       "   Number of Alarms     Unit Type  Unit sequence in call dispatch  \\\n",
       "0                 1       PRIVATE                               1   \n",
       "1                 1       PRIVATE                               2   \n",
       "2                 1        ENGINE                               1   \n",
       "3                 1         MEDIC                               1   \n",
       "4                 1        ENGINE                               1   \n",
       "5                 1       PRIVATE                               2   \n",
       "6                 1         TRUCK                               6   \n",
       "7                 1         TRUCK                               4   \n",
       "8                 1  RESCUE SQUAD                               8   \n",
       "9                 1        ENGINE                               1   \n",
       "\n",
       "  Fire Prevention District Supervisor District  \\\n",
       "0                        2                   5   \n",
       "1                        1                   3   \n",
       "2                        1                   3   \n",
       "3                        9                  11   \n",
       "4                        2                   6   \n",
       "5                        2                   6   \n",
       "6                        1                   3   \n",
       "7                        1                   3   \n",
       "8                        1                   3   \n",
       "9                        1                   3   \n",
       "\n",
       "  Neighborhooods - Analysis Boundaries  \\\n",
       "0                     Western Addition   \n",
       "1       Financial District/South Beach   \n",
       "2       Financial District/South Beach   \n",
       "3                            Excelsior   \n",
       "4                      South of Market   \n",
       "5                      South of Market   \n",
       "6                             Nob Hill   \n",
       "7                             Nob Hill   \n",
       "8                             Nob Hill   \n",
       "9                             Nob Hill   \n",
       "\n",
       "                                    Location            RowID  \n",
       "0   (37.78200642291339, -122.42822947127583)   190824304-KM11  \n",
       "1     (37.7980449492818, -122.3963670843851)   190824295-KM03  \n",
       "2     (37.7980449492818, -122.3963670843851)    190824295-E28  \n",
       "3  (37.709059057853175, -122.45174696338128)     190824278-59  \n",
       "4   (37.77128552595309, -122.41320426710206)    190824270-E29  \n",
       "5   (37.77128552595309, -122.41320426710206)  190824270-AM122  \n",
       "6  (37.791765799799315, -122.40748925022733)    190824258-T13  \n",
       "7  (37.791765799799315, -122.40748925022733)    190824258-T02  \n",
       "8  (37.791765799799315, -122.40748925022733)    190824258-RS1  \n",
       "9  (37.791765799799315, -122.40748925022733)    190824258-E41  "
      ]
     },
     "execution_count": 7,
     "metadata": {},
     "output_type": "execute_result"
    }
   ],
   "source": [
    "df.head(10)"
   ]
  },
  {
   "cell_type": "markdown",
   "metadata": {},
   "source": [
    "### data types - انواع البيانات"
   ]
  },
  {
   "cell_type": "code",
   "execution_count": 8,
   "metadata": {},
   "outputs": [
    {
     "data": {
      "text/plain": [
       "Call Number                               int64\n",
       "Unit ID                                  object\n",
       "Incident Number                           int64\n",
       "Call Type                                object\n",
       "Call Date                                object\n",
       "Watch Date                               object\n",
       "Received DtTm                            object\n",
       "Entry DtTm                               object\n",
       "Dispatch DtTm                            object\n",
       "Response DtTm                            object\n",
       "On Scene DtTm                            object\n",
       "Transport DtTm                           object\n",
       "Hospital DtTm                            object\n",
       "Call Final Disposition                   object\n",
       "Available DtTm                           object\n",
       "Address                                  object\n",
       "City                                     object\n",
       "Zipcode of Incident                     float64\n",
       "Battalion                                object\n",
       "Station Area                              int64\n",
       "Box                                       int64\n",
       "Original Priority                        object\n",
       "Priority                                 object\n",
       "Final Priority                            int64\n",
       "ALS Unit                                   bool\n",
       "Call Type Group                          object\n",
       "Number of Alarms                          int64\n",
       "Unit Type                                object\n",
       "Unit sequence in call dispatch            int64\n",
       "Fire Prevention District                 object\n",
       "Supervisor District                      object\n",
       "Neighborhooods - Analysis Boundaries     object\n",
       "Location                                 object\n",
       "RowID                                    object\n",
       "dtype: object"
      ]
     },
     "execution_count": 8,
     "metadata": {},
     "output_type": "execute_result"
    }
   ],
   "source": [
    "df.dtypes "
   ]
  },
  {
   "cell_type": "markdown",
   "metadata": {},
   "source": [
    "### change data type - تغيير نوع البيانات"
   ]
  },
  {
   "cell_type": "code",
   "execution_count": 9,
   "metadata": {},
   "outputs": [],
   "source": [
    "df['Call Number'] = df['Call Number'].astype('object')"
   ]
  },
  {
   "cell_type": "markdown",
   "metadata": {},
   "source": [
    "### summary - احصاء"
   ]
  },
  {
   "cell_type": "code",
   "execution_count": 10,
   "metadata": {},
   "outputs": [
    {
     "data": {
      "text/html": [
       "<div>\n",
       "<style scoped>\n",
       "    .dataframe tbody tr th:only-of-type {\n",
       "        vertical-align: middle;\n",
       "    }\n",
       "\n",
       "    .dataframe tbody tr th {\n",
       "        vertical-align: top;\n",
       "    }\n",
       "\n",
       "    .dataframe thead th {\n",
       "        text-align: right;\n",
       "    }\n",
       "</style>\n",
       "<table border=\"1\" class=\"dataframe\">\n",
       "  <thead>\n",
       "    <tr style=\"text-align: right;\">\n",
       "      <th></th>\n",
       "      <th>Incident Number</th>\n",
       "      <th>Zipcode of Incident</th>\n",
       "      <th>Station Area</th>\n",
       "      <th>Box</th>\n",
       "      <th>Final Priority</th>\n",
       "      <th>Number of Alarms</th>\n",
       "      <th>Unit sequence in call dispatch</th>\n",
       "    </tr>\n",
       "  </thead>\n",
       "  <tbody>\n",
       "    <tr>\n",
       "      <th>count</th>\n",
       "      <td>8.470000e+02</td>\n",
       "      <td>846.000000</td>\n",
       "      <td>847.000000</td>\n",
       "      <td>847.000000</td>\n",
       "      <td>847.000000</td>\n",
       "      <td>847.0</td>\n",
       "      <td>847.000000</td>\n",
       "    </tr>\n",
       "    <tr>\n",
       "      <th>mean</th>\n",
       "      <td>1.903505e+07</td>\n",
       "      <td>94113.617021</td>\n",
       "      <td>18.083825</td>\n",
       "      <td>4042.276269</td>\n",
       "      <td>2.678867</td>\n",
       "      <td>1.0</td>\n",
       "      <td>1.821724</td>\n",
       "    </tr>\n",
       "    <tr>\n",
       "      <th>std</th>\n",
       "      <td>1.249058e+02</td>\n",
       "      <td>9.755588</td>\n",
       "      <td>14.015065</td>\n",
       "      <td>2444.853589</td>\n",
       "      <td>0.467188</td>\n",
       "      <td>0.0</td>\n",
       "      <td>1.278149</td>\n",
       "    </tr>\n",
       "    <tr>\n",
       "      <th>min</th>\n",
       "      <td>1.903483e+07</td>\n",
       "      <td>94102.000000</td>\n",
       "      <td>1.000000</td>\n",
       "      <td>326.000000</td>\n",
       "      <td>2.000000</td>\n",
       "      <td>1.0</td>\n",
       "      <td>1.000000</td>\n",
       "    </tr>\n",
       "    <tr>\n",
       "      <th>25%</th>\n",
       "      <td>1.903494e+07</td>\n",
       "      <td>94107.000000</td>\n",
       "      <td>5.000000</td>\n",
       "      <td>1554.000000</td>\n",
       "      <td>2.000000</td>\n",
       "      <td>1.0</td>\n",
       "      <td>1.000000</td>\n",
       "    </tr>\n",
       "    <tr>\n",
       "      <th>50%</th>\n",
       "      <td>1.903505e+07</td>\n",
       "      <td>94110.000000</td>\n",
       "      <td>15.000000</td>\n",
       "      <td>3433.000000</td>\n",
       "      <td>3.000000</td>\n",
       "      <td>1.0</td>\n",
       "      <td>1.000000</td>\n",
       "    </tr>\n",
       "    <tr>\n",
       "      <th>75%</th>\n",
       "      <td>1.903516e+07</td>\n",
       "      <td>94121.000000</td>\n",
       "      <td>31.000000</td>\n",
       "      <td>6165.000000</td>\n",
       "      <td>3.000000</td>\n",
       "      <td>1.0</td>\n",
       "      <td>2.000000</td>\n",
       "    </tr>\n",
       "    <tr>\n",
       "      <th>max</th>\n",
       "      <td>1.903526e+07</td>\n",
       "      <td>94158.000000</td>\n",
       "      <td>51.000000</td>\n",
       "      <td>9944.000000</td>\n",
       "      <td>3.000000</td>\n",
       "      <td>1.0</td>\n",
       "      <td>11.000000</td>\n",
       "    </tr>\n",
       "  </tbody>\n",
       "</table>\n",
       "</div>"
      ],
      "text/plain": [
       "       Incident Number  Zipcode of Incident  Station Area          Box  \\\n",
       "count     8.470000e+02           846.000000    847.000000   847.000000   \n",
       "mean      1.903505e+07         94113.617021     18.083825  4042.276269   \n",
       "std       1.249058e+02             9.755588     14.015065  2444.853589   \n",
       "min       1.903483e+07         94102.000000      1.000000   326.000000   \n",
       "25%       1.903494e+07         94107.000000      5.000000  1554.000000   \n",
       "50%       1.903505e+07         94110.000000     15.000000  3433.000000   \n",
       "75%       1.903516e+07         94121.000000     31.000000  6165.000000   \n",
       "max       1.903526e+07         94158.000000     51.000000  9944.000000   \n",
       "\n",
       "       Final Priority  Number of Alarms  Unit sequence in call dispatch  \n",
       "count      847.000000             847.0                      847.000000  \n",
       "mean         2.678867               1.0                        1.821724  \n",
       "std          0.467188               0.0                        1.278149  \n",
       "min          2.000000               1.0                        1.000000  \n",
       "25%          2.000000               1.0                        1.000000  \n",
       "50%          3.000000               1.0                        1.000000  \n",
       "75%          3.000000               1.0                        2.000000  \n",
       "max          3.000000               1.0                       11.000000  "
      ]
     },
     "execution_count": 10,
     "metadata": {},
     "output_type": "execute_result"
    }
   ],
   "source": [
    "df.describe()"
   ]
  },
  {
   "cell_type": "markdown",
   "metadata": {},
   "source": [
    "### the number of empty values - عدد البيانات الفارغة في الجدول"
   ]
  },
  {
   "cell_type": "code",
   "execution_count": 11,
   "metadata": {},
   "outputs": [
    {
     "data": {
      "text/plain": [
       "Call Number                               0\n",
       "Unit ID                                   0\n",
       "Incident Number                           0\n",
       "Call Type                                 0\n",
       "Call Date                                 0\n",
       "Watch Date                                0\n",
       "Received DtTm                             0\n",
       "Entry DtTm                                0\n",
       "Dispatch DtTm                             0\n",
       "Response DtTm                            20\n",
       "On Scene DtTm                           134\n",
       "Transport DtTm                          581\n",
       "Hospital DtTm                           584\n",
       "Call Final Disposition                    0\n",
       "Available DtTm                            0\n",
       "Address                                   0\n",
       "City                                      4\n",
       "Zipcode of Incident                       1\n",
       "Battalion                                 0\n",
       "Station Area                              0\n",
       "Box                                       0\n",
       "Original Priority                         0\n",
       "Priority                                  0\n",
       "Final Priority                            0\n",
       "ALS Unit                                  0\n",
       "Call Type Group                          23\n",
       "Number of Alarms                          0\n",
       "Unit Type                                 0\n",
       "Unit sequence in call dispatch            0\n",
       "Fire Prevention District                  0\n",
       "Supervisor District                       0\n",
       "Neighborhooods - Analysis Boundaries      0\n",
       "Location                                  0\n",
       "RowID                                     0\n",
       "dtype: int64"
      ]
     },
     "execution_count": 11,
     "metadata": {},
     "output_type": "execute_result"
    }
   ],
   "source": [
    "df.isna().sum() "
   ]
  },
  {
   "cell_type": "markdown",
   "metadata": {},
   "source": [
    "### Analysing some columns - تحليل بعض الاعمدة"
   ]
  },
  {
   "cell_type": "code",
   "execution_count": 12,
   "metadata": {},
   "outputs": [
    {
     "data": {
      "text/plain": [
       "E03      21\n",
       "85       18\n",
       "QRV1     18\n",
       "KM11     16\n",
       "E36      16\n",
       "84       15\n",
       "E02      14\n",
       "E13      14\n",
       "E41      14\n",
       "E38      13\n",
       "75       13\n",
       "E07      13\n",
       "QRV2     13\n",
       "E01      12\n",
       "T03      12\n",
       "E28      12\n",
       "RC1      11\n",
       "79       11\n",
       "78       11\n",
       "88       11\n",
       "63       11\n",
       "64       11\n",
       "89        9\n",
       "81        9\n",
       "67        9\n",
       "55        9\n",
       "50        8\n",
       "B06       8\n",
       "E21       8\n",
       "73        8\n",
       "         ..\n",
       "AM122     3\n",
       "E17       3\n",
       "E18       3\n",
       "E25       3\n",
       "T11       3\n",
       "56        3\n",
       "B03       3\n",
       "T19       3\n",
       "E39       2\n",
       "82        2\n",
       "D2        2\n",
       "83        2\n",
       "T13       2\n",
       "T09       2\n",
       "AM124     2\n",
       "94        2\n",
       "E04       2\n",
       "AM112     2\n",
       "E40       2\n",
       "E08       2\n",
       "D3        2\n",
       "EMS6      2\n",
       "T18       1\n",
       "E32       1\n",
       "AR1       1\n",
       "B08       1\n",
       "E35       1\n",
       "T04       1\n",
       "BT01      1\n",
       "AM130     1\n",
       "Name: Unit ID, Length: 137, dtype: int64"
      ]
     },
     "execution_count": 12,
     "metadata": {},
     "output_type": "execute_result"
    }
   ],
   "source": [
    "df['Unit ID'].value_counts() # unique values in the column - مختلف القيم التي يتوفر عليها العمود"
   ]
  },
  {
   "cell_type": "code",
   "execution_count": 15,
   "metadata": {},
   "outputs": [
    {
     "data": {
      "text/plain": [
       "<matplotlib.axes._subplots.AxesSubplot at 0x1ef8486fb70>"
      ]
     },
     "execution_count": 15,
     "metadata": {},
     "output_type": "execute_result"
    },
    {
     "data": {
      "image/png": "[encoded data removed]",
      "text/plain": [
       "<Figure size 432x288 with 1 Axes>"
      ]
     },
     "metadata": {},
     "output_type": "display_data"
    }
   ],
   "source": [
    "df['Unit ID'].value_counts().plot.bar() # visualising using a bar chart"
   ]
  },
  {
   "cell_type": "markdown",
   "metadata": {},
   "source": [
    "some units are more solisceted than others"
   ]
  },
  {
   "cell_type": "code",
   "execution_count": 16,
   "metadata": {},
   "outputs": [],
   "source": [
    "# making a function to gain time and avoid rewiting code \n",
    "\n",
    "def get_different_categories(df, categorical_attribute):\n",
    "    '''\n",
    "    get the different categories whithin a categorical column\n",
    "    and plot the result as bar plot\n",
    "    '''\n",
    "    temp = df[categorical_attribute].value_counts()\n",
    "    print(temp)\n",
    "    temp.plot.bar()"
   ]
  },
  {
   "cell_type": "code",
   "execution_count": 17,
   "metadata": {},
   "outputs": [
    {
     "name": "stdout",
     "output_type": "stream",
     "text": [
      "Medical Incident                       602\n",
      "Alarms                                 111\n",
      "Traffic Collision                       43\n",
      "Structure Fire                          36\n",
      "Citizen Assist / Service Call           12\n",
      "Other                                    8\n",
      "Outside Fire                             8\n",
      "Gas Leak (Natural and LP Gases)          7\n",
      "Confined Space / Structure Collapse      7\n",
      "Smoke Investigation (Outside)            5\n",
      "Electrical Hazard                        3\n",
      "Elevator / Escalator Rescue              2\n",
      "Vehicle Fire                             2\n",
      "Odor (Strange / Unknown)                 1\n",
      "Name: Call Type, dtype: int64\n"
     ]
    },
    {
     "data": {
      "image/png": "[encoded data removed]",
      "text/plain": [
       "<Figure size 432x288 with 1 Axes>"
      ]
     },
     "metadata": {},
     "output_type": "display_data"
    }
   ],
   "source": [
    "get_different_categories(df,'Call Type')"
   ]
  },
  {
   "cell_type": "markdown",
   "metadata": {},
   "source": [
    "The most common incident is : \n",
    "- Medical incident\n",
    "\n",
    "The least incident : \n",
    "- Odor"
   ]
  },
  {
   "cell_type": "markdown",
   "metadata": {},
   "source": [
    "we can make pie charts too"
   ]
  },
  {
   "cell_type": "code",
   "execution_count": 18,
   "metadata": {},
   "outputs": [
    {
     "data": {
      "text/plain": [
       "<matplotlib.axes._subplots.AxesSubplot at 0x1ef87234588>"
      ]
     },
     "execution_count": 18,
     "metadata": {},
     "output_type": "execute_result"
    },
    {
     "data": {
      "image/png": "[encoded data removed]",
      "text/plain": [
       "<Figure size 432x288 with 1 Axes>"
      ]
     },
     "metadata": {},
     "output_type": "display_data"
    }
   ],
   "source": [
    "df['Call Type'].value_counts().plot.pie() # pie chart - مخطط دائري"
   ]
  },
  {
   "cell_type": "code",
   "execution_count": 19,
   "metadata": {},
   "outputs": [],
   "source": [
    "# why not modify our function so that we can pass the type of the chart as a parameter\n",
    "# لما لا نعدل الدالة من اجل تمرير نوع الرسم البياني الذي نريده\n",
    "\n",
    "def get_different_categories_modif1(df, categorical_attribute, plot_type):\n",
    "    '''\n",
    "    get the different categories whithin a categorical column\n",
    "    and plot the result as bar plot\n",
    "    '''\n",
    "    temp = df[categorical_attribute].value_counts()\n",
    "    print(temp)\n",
    "    exec('temp.plot.'+plot_type+'()')# execute string "
   ]
  },
  {
   "cell_type": "code",
   "execution_count": 20,
   "metadata": {},
   "outputs": [
    {
     "name": "stdout",
     "output_type": "stream",
     "text": [
      "Medical Incident                       602\n",
      "Alarms                                 111\n",
      "Traffic Collision                       43\n",
      "Structure Fire                          36\n",
      "Citizen Assist / Service Call           12\n",
      "Other                                    8\n",
      "Outside Fire                             8\n",
      "Gas Leak (Natural and LP Gases)          7\n",
      "Confined Space / Structure Collapse      7\n",
      "Smoke Investigation (Outside)            5\n",
      "Electrical Hazard                        3\n",
      "Elevator / Escalator Rescue              2\n",
      "Vehicle Fire                             2\n",
      "Odor (Strange / Unknown)                 1\n",
      "Name: Call Type, dtype: int64\n"
     ]
    },
    {
     "data": {
      "image/png": "[encoded data removed]",
      "text/plain": [
       "<Figure size 432x288 with 1 Axes>"
      ]
     },
     "metadata": {},
     "output_type": "display_data"
    }
   ],
   "source": [
    "get_different_categories_modif1(df,'Call Type','bar')"
   ]
  },
  {
   "cell_type": "code",
   "execution_count": 21,
   "metadata": {},
   "outputs": [
    {
     "name": "stdout",
     "output_type": "stream",
     "text": [
      "Medical Incident                       602\n",
      "Alarms                                 111\n",
      "Traffic Collision                       43\n",
      "Structure Fire                          36\n",
      "Citizen Assist / Service Call           12\n",
      "Other                                    8\n",
      "Outside Fire                             8\n",
      "Gas Leak (Natural and LP Gases)          7\n",
      "Confined Space / Structure Collapse      7\n",
      "Smoke Investigation (Outside)            5\n",
      "Electrical Hazard                        3\n",
      "Elevator / Escalator Rescue              2\n",
      "Vehicle Fire                             2\n",
      "Odor (Strange / Unknown)                 1\n",
      "Name: Call Type, dtype: int64\n"
     ]
    },
    {
     "data": {
      "image/png": "[encoded data removed]",
      "text/plain": [
       "<Figure size 432x288 with 1 Axes>"
      ]
     },
     "metadata": {},
     "output_type": "display_data"
    }
   ],
   "source": [
    "get_different_categories_modif1(df,'Call Type','pie')"
   ]
  },
  {
   "cell_type": "markdown",
   "metadata": {},
   "source": [
    "### Number of Alarms - عدد الانذارات"
   ]
  },
  {
   "cell_type": "code",
   "execution_count": 22,
   "metadata": {},
   "outputs": [
    {
     "data": {
      "text/plain": [
       "<matplotlib.axes._subplots.AxesSubplot at 0x1ef883412e8>"
      ]
     },
     "execution_count": 22,
     "metadata": {},
     "output_type": "execute_result"
    },
    {
     "data": {
      "image/png": "[encoded data removed]",
      "text/plain": [
       "<Figure size 432x288 with 1 Axes>"
      ]
     },
     "metadata": {},
     "output_type": "display_data"
    }
   ],
   "source": [
    "df['Number of Alarms'].hist() # histogram - المدرج الاحصائي"
   ]
  },
  {
   "cell_type": "code",
   "execution_count": 23,
   "metadata": {},
   "outputs": [
    {
     "data": {
      "text/plain": [
       "1    847\n",
       "Name: Number of Alarms, dtype: int64"
      ]
     },
     "execution_count": 23,
     "metadata": {},
     "output_type": "execute_result"
    }
   ],
   "source": [
    "df['Number of Alarms'].value_counts(ascending=False)"
   ]
  },
  {
   "cell_type": "markdown",
   "metadata": {},
   "source": [
    "### Call Type Group - مجموعة نوع الاتصال"
   ]
  },
  {
   "cell_type": "code",
   "execution_count": 24,
   "metadata": {},
   "outputs": [
    {
     "data": {
      "text/plain": [
       "<matplotlib.axes._subplots.AxesSubplot at 0x1ef883b1f60>"
      ]
     },
     "execution_count": 24,
     "metadata": {},
     "output_type": "execute_result"
    },
    {
     "data": {
      "image/png": "[encoded data removed]",
      "text/plain": [
       "<Figure size 432x288 with 1 Axes>"
      ]
     },
     "metadata": {},
     "output_type": "display_data"
    }
   ],
   "source": [
    "df['Call Type Group'].value_counts().plot.pie()"
   ]
  },
  {
   "cell_type": "markdown",
   "metadata": {},
   "source": [
    "* there is four groups of call type \n",
    "* the majority are potentially life-threatening "
   ]
  },
  {
   "cell_type": "markdown",
   "metadata": {},
   "source": [
    "### Received DtTm- توقيت الحصول على المكالمة"
   ]
  },
  {
   "cell_type": "code",
   "execution_count": 25,
   "metadata": {},
   "outputs": [
    {
     "data": {
      "text/plain": [
       "0    03/23/2019 11:58:14 PM\n",
       "1    03/23/2019 11:56:34 PM\n",
       "2    03/23/2019 11:56:34 PM\n",
       "3    03/23/2019 11:48:04 PM\n",
       "4    03/23/2019 11:48:21 PM\n",
       "5    03/23/2019 11:48:21 PM\n",
       "6    03/23/2019 11:43:14 PM\n",
       "7    03/23/2019 11:43:14 PM\n",
       "8    03/23/2019 11:43:14 PM\n",
       "9    03/23/2019 11:43:14 PM\n",
       "Name: Received DtTm, dtype: object"
      ]
     },
     "execution_count": 25,
     "metadata": {},
     "output_type": "execute_result"
    }
   ],
   "source": [
    "df['Received DtTm'][:10]"
   ]
  },
  {
   "cell_type": "markdown",
   "metadata": {},
   "source": [
    "**change type from string to date - تغيير النوع من نص الى تاريخ**"
   ]
  },
  {
   "cell_type": "code",
   "execution_count": 26,
   "metadata": {},
   "outputs": [
    {
     "name": "stdout",
     "output_type": "stream",
     "text": [
      "03/23/2019 11:58:14 PM\n"
     ]
    },
    {
     "data": {
      "text/plain": [
       "str"
      ]
     },
     "execution_count": 26,
     "metadata": {},
     "output_type": "execute_result"
    }
   ],
   "source": [
    "print(df['Received DtTm'][0])\n",
    "type(df['Received DtTm'][0])"
   ]
  },
  {
   "cell_type": "code",
   "execution_count": 27,
   "metadata": {},
   "outputs": [],
   "source": [
    "df['Received DtTm'] = pd.to_datetime(df['Received DtTm']) "
   ]
  },
  {
   "cell_type": "code",
   "execution_count": 28,
   "metadata": {},
   "outputs": [
    {
     "name": "stdout",
     "output_type": "stream",
     "text": [
      "2019-03-23 23:58:14\n"
     ]
    },
    {
     "data": {
      "text/plain": [
       "pandas._libs.tslib.Timestamp"
      ]
     },
     "execution_count": 28,
     "metadata": {},
     "output_type": "execute_result"
    }
   ],
   "source": [
    "print(df['Received DtTm'][0])\n",
    "type(df['Received DtTm'][0])"
   ]
  },
  {
   "cell_type": "code",
   "execution_count": 29,
   "metadata": {},
   "outputs": [
    {
     "name": "stdout",
     "output_type": "stream",
     "text": [
      "0      2019-03-23\n",
      "1      2019-03-23\n",
      "2      2019-03-23\n",
      "3      2019-03-23\n",
      "4      2019-03-23\n",
      "5      2019-03-23\n",
      "6      2019-03-23\n",
      "7      2019-03-23\n",
      "8      2019-03-23\n",
      "9      2019-03-23\n",
      "10     2019-03-23\n",
      "11     2019-03-23\n",
      "12     2019-03-23\n",
      "13     2019-03-23\n",
      "14     2019-03-23\n",
      "15     2019-03-23\n",
      "16     2019-03-23\n",
      "17     2019-03-23\n",
      "18     2019-03-23\n",
      "19     2019-03-23\n",
      "20     2019-03-23\n",
      "21     2019-03-23\n",
      "22     2019-03-23\n",
      "23     2019-03-23\n",
      "24     2019-03-23\n",
      "25     2019-03-23\n",
      "26     2019-03-23\n",
      "27     2019-03-23\n",
      "28     2019-03-23\n",
      "29     2019-03-23\n",
      "          ...    \n",
      "817    2019-03-23\n",
      "818    2019-03-23\n",
      "819    2019-03-23\n",
      "820    2019-03-23\n",
      "821    2019-03-23\n",
      "822    2019-03-23\n",
      "823    2019-03-23\n",
      "824    2019-03-23\n",
      "825    2019-03-23\n",
      "826    2019-03-23\n",
      "827    2019-03-23\n",
      "828    2019-03-23\n",
      "829    2019-03-23\n",
      "830    2019-03-23\n",
      "831    2019-03-23\n",
      "832    2019-03-23\n",
      "833    2019-03-23\n",
      "834    2019-03-23\n",
      "835    2019-03-23\n",
      "836    2019-03-23\n",
      "837    2019-03-23\n",
      "838    2019-03-23\n",
      "839    2019-03-23\n",
      "840    2019-03-23\n",
      "841    2019-03-23\n",
      "842    2019-03-23\n",
      "843    2019-03-23\n",
      "844    2019-03-23\n",
      "845    2019-03-23\n",
      "846    2019-03-23\n",
      "Name: Received DtTm, Length: 847, dtype: object\n"
     ]
    }
   ],
   "source": [
    "print(df['Received DtTm'].dt.date)"
   ]
  },
  {
   "cell_type": "code",
   "execution_count": 30,
   "metadata": {},
   "outputs": [
    {
     "name": "stdout",
     "output_type": "stream",
     "text": [
      "2019-03-23\n"
     ]
    }
   ],
   "source": [
    "print(df['Received DtTm'].dt.date[0])"
   ]
  },
  {
   "cell_type": "code",
   "execution_count": 31,
   "metadata": {},
   "outputs": [
    {
     "name": "stdout",
     "output_type": "stream",
     "text": [
      "23:58:14\n"
     ]
    }
   ],
   "source": [
    "print(df['Received DtTm'].dt.time[0])"
   ]
  },
  {
   "cell_type": "code",
   "execution_count": 32,
   "metadata": {},
   "outputs": [],
   "source": [
    "df['Received hour'] = df['Received DtTm'].dt.hour"
   ]
  },
  {
   "cell_type": "code",
   "execution_count": 33,
   "metadata": {},
   "outputs": [
    {
     "data": {
      "text/plain": [
       "0    23\n",
       "1    23\n",
       "2    23\n",
       "3    23\n",
       "4    23\n",
       "5    23\n",
       "6    23\n",
       "7    23\n",
       "8    23\n",
       "9    23\n",
       "Name: Received hour, dtype: int64"
      ]
     },
     "execution_count": 33,
     "metadata": {},
     "output_type": "execute_result"
    }
   ],
   "source": [
    "df['Received hour'][:10]"
   ]
  },
  {
   "cell_type": "code",
   "execution_count": 34,
   "metadata": {},
   "outputs": [
    {
     "data": {
      "text/html": [
       "<div>\n",
       "<style scoped>\n",
       "    .dataframe tbody tr th:only-of-type {\n",
       "        vertical-align: middle;\n",
       "    }\n",
       "\n",
       "    .dataframe tbody tr th {\n",
       "        vertical-align: top;\n",
       "    }\n",
       "\n",
       "    .dataframe thead th {\n",
       "        text-align: right;\n",
       "    }\n",
       "</style>\n",
       "<table border=\"1\" class=\"dataframe\">\n",
       "  <thead>\n",
       "    <tr style=\"text-align: right;\">\n",
       "      <th></th>\n",
       "      <th>Call Number</th>\n",
       "    </tr>\n",
       "    <tr>\n",
       "      <th>Received hour</th>\n",
       "      <th></th>\n",
       "    </tr>\n",
       "  </thead>\n",
       "  <tbody>\n",
       "    <tr>\n",
       "      <th>16</th>\n",
       "      <td>71</td>\n",
       "    </tr>\n",
       "    <tr>\n",
       "      <th>13</th>\n",
       "      <td>52</td>\n",
       "    </tr>\n",
       "    <tr>\n",
       "      <th>14</th>\n",
       "      <td>51</td>\n",
       "    </tr>\n",
       "    <tr>\n",
       "      <th>20</th>\n",
       "      <td>50</td>\n",
       "    </tr>\n",
       "    <tr>\n",
       "      <th>23</th>\n",
       "      <td>44</td>\n",
       "    </tr>\n",
       "    <tr>\n",
       "      <th>19</th>\n",
       "      <td>43</td>\n",
       "    </tr>\n",
       "    <tr>\n",
       "      <th>18</th>\n",
       "      <td>41</td>\n",
       "    </tr>\n",
       "    <tr>\n",
       "      <th>17</th>\n",
       "      <td>41</td>\n",
       "    </tr>\n",
       "    <tr>\n",
       "      <th>12</th>\n",
       "      <td>39</td>\n",
       "    </tr>\n",
       "    <tr>\n",
       "      <th>9</th>\n",
       "      <td>37</td>\n",
       "    </tr>\n",
       "    <tr>\n",
       "      <th>11</th>\n",
       "      <td>37</td>\n",
       "    </tr>\n",
       "    <tr>\n",
       "      <th>10</th>\n",
       "      <td>36</td>\n",
       "    </tr>\n",
       "    <tr>\n",
       "      <th>22</th>\n",
       "      <td>35</td>\n",
       "    </tr>\n",
       "    <tr>\n",
       "      <th>8</th>\n",
       "      <td>34</td>\n",
       "    </tr>\n",
       "    <tr>\n",
       "      <th>15</th>\n",
       "      <td>31</td>\n",
       "    </tr>\n",
       "    <tr>\n",
       "      <th>7</th>\n",
       "      <td>30</td>\n",
       "    </tr>\n",
       "    <tr>\n",
       "      <th>21</th>\n",
       "      <td>30</td>\n",
       "    </tr>\n",
       "    <tr>\n",
       "      <th>0</th>\n",
       "      <td>30</td>\n",
       "    </tr>\n",
       "    <tr>\n",
       "      <th>1</th>\n",
       "      <td>25</td>\n",
       "    </tr>\n",
       "    <tr>\n",
       "      <th>2</th>\n",
       "      <td>24</td>\n",
       "    </tr>\n",
       "    <tr>\n",
       "      <th>4</th>\n",
       "      <td>20</td>\n",
       "    </tr>\n",
       "    <tr>\n",
       "      <th>5</th>\n",
       "      <td>19</td>\n",
       "    </tr>\n",
       "    <tr>\n",
       "      <th>3</th>\n",
       "      <td>14</td>\n",
       "    </tr>\n",
       "    <tr>\n",
       "      <th>6</th>\n",
       "      <td>13</td>\n",
       "    </tr>\n",
       "  </tbody>\n",
       "</table>\n",
       "</div>"
      ],
      "text/plain": [
       "               Call Number\n",
       "Received hour             \n",
       "16                      71\n",
       "13                      52\n",
       "14                      51\n",
       "20                      50\n",
       "23                      44\n",
       "19                      43\n",
       "18                      41\n",
       "17                      41\n",
       "12                      39\n",
       "9                       37\n",
       "11                      37\n",
       "10                      36\n",
       "22                      35\n",
       "8                       34\n",
       "15                      31\n",
       "7                       30\n",
       "21                      30\n",
       "0                       30\n",
       "1                       25\n",
       "2                       24\n",
       "4                       20\n",
       "5                       19\n",
       "3                       14\n",
       "6                       13"
      ]
     },
     "execution_count": 34,
     "metadata": {},
     "output_type": "execute_result"
    }
   ],
   "source": [
    "# group by hour - period where the calls are the most\n",
    "# التجميع باستعمال ساعة الاتصال من اجل معرفة في اي ساعة تكون الاتصالات في الذروة\n",
    "\n",
    "df[['Call Number','Received hour']]\\\n",
    ".groupby(['Received hour'])\\\n",
    ".count()\\\n",
    ".sort_values(by='Call Number', ascending=False)"
   ]
  },
  {
   "cell_type": "markdown",
   "metadata": {},
   "source": [
    "### Location - الموقع الجغرافي"
   ]
  },
  {
   "cell_type": "code",
   "execution_count": 35,
   "metadata": {},
   "outputs": [
    {
     "data": {
      "text/plain": [
       "'(37.78200642291339, -122.42822947127583)'"
      ]
     },
     "execution_count": 35,
     "metadata": {},
     "output_type": "execute_result"
    }
   ],
   "source": [
    "df['Location'][0]"
   ]
  },
  {
   "cell_type": "markdown",
   "metadata": {},
   "source": [
    "#### get latitude and longitude - الحصول على الاحداثيات خط الطول و خط العرض"
   ]
  },
  {
   "cell_type": "code",
   "execution_count": 36,
   "metadata": {},
   "outputs": [],
   "source": [
    "df[['lat','lon']] = df['Location']\\\n",
    ".map(lambda x: x.lstrip('(').rstrip(')'))\\\n",
    ".str.split(',', expand=True,)"
   ]
  },
  {
   "cell_type": "code",
   "execution_count": 37,
   "metadata": {},
   "outputs": [
    {
     "data": {
      "text/plain": [
       "'37.78200642291339'"
      ]
     },
     "execution_count": 37,
     "metadata": {},
     "output_type": "execute_result"
    }
   ],
   "source": [
    "df['lat'][0]"
   ]
  },
  {
   "cell_type": "code",
   "execution_count": 38,
   "metadata": {},
   "outputs": [
    {
     "data": {
      "text/plain": [
       "' -122.42822947127583'"
      ]
     },
     "execution_count": 38,
     "metadata": {},
     "output_type": "execute_result"
    }
   ],
   "source": [
    "df['lon'][0]"
   ]
  },
  {
   "cell_type": "code",
   "execution_count": 39,
   "metadata": {},
   "outputs": [],
   "source": [
    "df['lat'] = df['lat'].astype('float') # .apply(lambda x: float(x))\n",
    "df['lon'] = df['lon'].astype('float') # .apply(lambda x: float(x))"
   ]
  },
  {
   "cell_type": "code",
   "execution_count": 40,
   "metadata": {},
   "outputs": [
    {
     "data": {
      "text/plain": [
       "37.78200642291339"
      ]
     },
     "execution_count": 40,
     "metadata": {},
     "output_type": "execute_result"
    }
   ],
   "source": [
    "df['lat'][0]"
   ]
  },
  {
   "cell_type": "code",
   "execution_count": 42,
   "metadata": {},
   "outputs": [
    {
     "data": {
      "text/html": [
       "<div>\n",
       "<style scoped>\n",
       "    .dataframe tbody tr th:only-of-type {\n",
       "        vertical-align: middle;\n",
       "    }\n",
       "\n",
       "    .dataframe tbody tr th {\n",
       "        vertical-align: top;\n",
       "    }\n",
       "\n",
       "    .dataframe thead th {\n",
       "        text-align: right;\n",
       "    }\n",
       "</style>\n",
       "<table border=\"1\" class=\"dataframe\">\n",
       "  <thead>\n",
       "    <tr style=\"text-align: right;\">\n",
       "      <th></th>\n",
       "      <th>Location</th>\n",
       "      <th>lat</th>\n",
       "      <th>lon</th>\n",
       "    </tr>\n",
       "  </thead>\n",
       "  <tbody>\n",
       "    <tr>\n",
       "      <th>0</th>\n",
       "      <td>(37.78200642291339, -122.42822947127583)</td>\n",
       "      <td>37.782006</td>\n",
       "      <td>-122.428229</td>\n",
       "    </tr>\n",
       "    <tr>\n",
       "      <th>1</th>\n",
       "      <td>(37.7980449492818, -122.3963670843851)</td>\n",
       "      <td>37.798045</td>\n",
       "      <td>-122.396367</td>\n",
       "    </tr>\n",
       "    <tr>\n",
       "      <th>2</th>\n",
       "      <td>(37.7980449492818, -122.3963670843851)</td>\n",
       "      <td>37.798045</td>\n",
       "      <td>-122.396367</td>\n",
       "    </tr>\n",
       "    <tr>\n",
       "      <th>3</th>\n",
       "      <td>(37.709059057853175, -122.45174696338128)</td>\n",
       "      <td>37.709059</td>\n",
       "      <td>-122.451747</td>\n",
       "    </tr>\n",
       "    <tr>\n",
       "      <th>4</th>\n",
       "      <td>(37.77128552595309, -122.41320426710206)</td>\n",
       "      <td>37.771286</td>\n",
       "      <td>-122.413204</td>\n",
       "    </tr>\n",
       "    <tr>\n",
       "      <th>5</th>\n",
       "      <td>(37.77128552595309, -122.41320426710206)</td>\n",
       "      <td>37.771286</td>\n",
       "      <td>-122.413204</td>\n",
       "    </tr>\n",
       "    <tr>\n",
       "      <th>6</th>\n",
       "      <td>(37.791765799799315, -122.40748925022733)</td>\n",
       "      <td>37.791766</td>\n",
       "      <td>-122.407489</td>\n",
       "    </tr>\n",
       "    <tr>\n",
       "      <th>7</th>\n",
       "      <td>(37.791765799799315, -122.40748925022733)</td>\n",
       "      <td>37.791766</td>\n",
       "      <td>-122.407489</td>\n",
       "    </tr>\n",
       "    <tr>\n",
       "      <th>8</th>\n",
       "      <td>(37.791765799799315, -122.40748925022733)</td>\n",
       "      <td>37.791766</td>\n",
       "      <td>-122.407489</td>\n",
       "    </tr>\n",
       "    <tr>\n",
       "      <th>9</th>\n",
       "      <td>(37.791765799799315, -122.40748925022733)</td>\n",
       "      <td>37.791766</td>\n",
       "      <td>-122.407489</td>\n",
       "    </tr>\n",
       "  </tbody>\n",
       "</table>\n",
       "</div>"
      ],
      "text/plain": [
       "                                    Location        lat         lon\n",
       "0   (37.78200642291339, -122.42822947127583)  37.782006 -122.428229\n",
       "1     (37.7980449492818, -122.3963670843851)  37.798045 -122.396367\n",
       "2     (37.7980449492818, -122.3963670843851)  37.798045 -122.396367\n",
       "3  (37.709059057853175, -122.45174696338128)  37.709059 -122.451747\n",
       "4   (37.77128552595309, -122.41320426710206)  37.771286 -122.413204\n",
       "5   (37.77128552595309, -122.41320426710206)  37.771286 -122.413204\n",
       "6  (37.791765799799315, -122.40748925022733)  37.791766 -122.407489\n",
       "7  (37.791765799799315, -122.40748925022733)  37.791766 -122.407489\n",
       "8  (37.791765799799315, -122.40748925022733)  37.791766 -122.407489\n",
       "9  (37.791765799799315, -122.40748925022733)  37.791766 -122.407489"
      ]
     },
     "execution_count": 42,
     "metadata": {},
     "output_type": "execute_result"
    }
   ],
   "source": [
    "df[['Location','lat','lon']][:10]"
   ]
  },
  {
   "cell_type": "code",
   "execution_count": 43,
   "metadata": {},
   "outputs": [
    {
     "data": {
      "text/plain": [
       "<matplotlib.axes._subplots.AxesSubplot at 0x1ef8843fa90>"
      ]
     },
     "execution_count": 43,
     "metadata": {},
     "output_type": "execute_result"
    },
    {
     "data": {
      "image/png": "[encoded data removed]",
      "text/plain": [
       "<Figure size 432x288 with 1 Axes>"
      ]
     },
     "metadata": {},
     "output_type": "display_data"
    }
   ],
   "source": [
    "df.plot(x='lon', y='lat', kind='scatter')"
   ]
  },
  {
   "cell_type": "markdown",
   "metadata": {},
   "source": [
    "<img src=\"image/sanfrancisco.png\">"
   ]
  },
  {
   "cell_type": "code",
   "execution_count": 44,
   "metadata": {},
   "outputs": [
    {
     "data": {
      "text/plain": [
       "Tenderloin                        125\n",
       "Mission                            83\n",
       "South of Market                    58\n",
       "Western Addition                   51\n",
       "Financial District/South Beach     51\n",
       "Nob Hill                           42\n",
       "Bayview Hunters Point              35\n",
       "North Beach                        32\n",
       "Sunset/Parkside                    31\n",
       "Outer Richmond                     29\n",
       "West of Twin Peaks                 24\n",
       "Chinatown                          24\n",
       "Castro/Upper Market                23\n",
       "Hayes Valley                       20\n",
       "Bernal Heights                     17\n",
       "Inner Sunset                       17\n",
       "Pacific Heights                    16\n",
       "Inner Richmond                     14\n",
       "Marina                             14\n",
       "Oceanview/Merced/Ingleside         13\n",
       "Potrero Hill                       13\n",
       "Lakeshore                          13\n",
       "Lone Mountain/USF                  11\n",
       "Russian Hill                       10\n",
       "McLaren Park                        9\n",
       "Excelsior                           9\n",
       "Twin Peaks                          8\n",
       "Golden Gate Park                    8\n",
       "Haight Ashbury                      7\n",
       "Presidio                            7\n",
       "Mission Bay                         6\n",
       "Glen Park                           6\n",
       "Visitacion Valley                   6\n",
       "Noe Valley                          5\n",
       "Portola                             4\n",
       "Japantown                           2\n",
       "Seacliff                            1\n",
       "Outer Mission                       1\n",
       "None                                1\n",
       "Lincoln Park                        1\n",
       "Name: Neighborhooods - Analysis Boundaries, dtype: int64"
      ]
     },
     "execution_count": 44,
     "metadata": {},
     "output_type": "execute_result"
    }
   ],
   "source": [
    "df['Neighborhooods - Analysis Boundaries'].value_counts()"
   ]
  }
 ],
 "metadata": {
  "kernelspec": {
   "display_name": "Python 3",
   "language": "python",
   "name": "python3"
  },
  "language_info": {
   "codemirror_mode": {
    "name": "ipython",
    "version": 3
   },
   "file_extension": ".py",
   "mimetype": "text/x-python",
   "name": "python",
   "nbconvert_exporter": "python",
   "pygments_lexer": "ipython3",
   "version": "3.6.4"
  }
 },
 "nbformat": 4,
 "nbformat_minor": 2
}
