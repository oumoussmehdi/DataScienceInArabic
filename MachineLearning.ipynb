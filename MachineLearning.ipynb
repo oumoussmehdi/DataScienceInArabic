{
 "cells": [
  {
   "cell_type": "code",
   "execution_count": null,
   "metadata": {},
   "outputs": [],
   "source": []
  },
  {
   "cell_type": "code",
   "execution_count": null,
   "metadata": {},
   "outputs": [],
   "source": []
  },
  {
   "cell_type": "code",
   "execution_count": null,
   "metadata": {},
   "outputs": [],
   "source": [
    "ation\n",
    "Regression\n",
    "Clustering\n",
    "Dimensionality reduction\n",
    "Model selection\n",
    "Preprocessing"
   ]
  },
  {
   "cell_type": "code",
   "execution_count": null,
   "metadata": {},
   "outputs": [],
   "source": []
  },
  {
   "cell_type": "code",
   "execution_count": null,
   "metadata": {},
   "outputs": [],
   "source": []
  },
  {
   "cell_type": "code",
   "execution_count": null,
   "metadata": {},
   "outputs": [],
   "source": [
    "Your machine learning project should include the following:\n",
    "\n",
    "Reason why you chose a specific model\n",
    "Split data into train/test sets to avoid overfitting\n",
    "Select the right evaluation metric (AUC, adj-R², confusion matrix, etc.)\n",
    "Feature engineering and selection\n",
    "Hyperparametre tuning"
   ]
  },
  {
   "cell_type": "code",
   "execution_count": null,
   "metadata": {},
   "outputs": [],
   "source": []
  },
  {
   "cell_type": "code",
   "execution_count": null,
   "metadata": {},
   "outputs": [],
   "source": []
  },
  {
   "cell_type": "markdown",
   "metadata": {},
   "source": [
    "Communication\n",
    "The final project type should focus on communication.\n",
    "\n",
    "Communication is an important aspect of data science.\n",
    "\n",
    "Effectively communicating results is what separates the good data scientists from the great ones.\n",
    "https://www.datasciencecentral.com/profiles/blogs/10-most-popular-data-science-presentations-on-slideshare\n",
    "    "
   ]
  },
  {
   "cell_type": "code",
   "execution_count": null,
   "metadata": {},
   "outputs": [],
   "source": []
  },
  {
   "cell_type": "code",
   "execution_count": null,
   "metadata": {},
   "outputs": [],
   "source": [
    "https://blog.goodaudience.com/top-10-machine-learning-algorithms-2a9a3e1bdaff"
   ]
  }
 ],
 "metadata": {
  "kernelspec": {
   "display_name": "Python 3",
   "language": "python",
   "name": "python3"
  },
  "language_info": {
   "codemirror_mode": {
    "name": "ipython",
    "version": 3
   },
   "file_extension": ".py",
   "mimetype": "text/x-python",
   "name": "python",
   "nbconvert_exporter": "python",
   "pygments_lexer": "ipython3",
   "version": "3.6.4"
  }
 },
 "nbformat": 4,
 "nbformat_minor": 2
}
