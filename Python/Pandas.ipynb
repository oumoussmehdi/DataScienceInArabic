{
 "cells": [
  {
   "cell_type": "markdown",
   "metadata": {},
   "source": [
    "### <center style = 'color : red '>  PANDAS : Python Data Analysis Library </center>\n",
    "مكتبة بايثون لتحليل البيانات \n",
    "\n",
    "The Pandas library is built on NumPy and provides easy-to-use\n",
    "data structures and data analysis tools for the Python\n",
    "programming language\n",
    "\n",
    "مكتبة بانداس هي مبنية على مكتبة نامباي و توفر هياكل بنيوية سهلة الاستعمال و أدوات لتحليل البيانات من أجل البرمجة باستعمال لغة بايثون\n",
    "\n",
    "https://pandas.pydata.org/"
   ]
  },
  {
   "cell_type": "code",
   "execution_count": null,
   "metadata": {},
   "outputs": [],
   "source": [
    "import numpy as np\n",
    "import pandas as pd"
   ]
  },
  {
   "cell_type": "markdown",
   "metadata": {},
   "source": [
    "* The **pandas series** object can be seen as an enhanced numpy 1D array and the **pandas dataframe** can be seen as an enhanced numpy 2D array. \n",
    "\n",
    "يمكن اعتبار السلاسل في بانداس كمصفوفة نامباي مدعمة و اطار البيانات كمصفوفة نامباي من الدرجة الثانية و التي هي الاخرى محسنة \n",
    "\n",
    "* The main difference is that pandas series and pandas dataframes has explicit index, while numpy arrays has implicit indexation. So, in any python code that you think to use something like\n",
    "\n",
    "الفرق الاهم هو كون السلاسل تتوفر على تاشير صريح بينما المصفوفات في نامباي هي تتوفر فقط على تاشير ضمني\n",
    "\n",
    "```python\n",
    "import numpy as np\n",
    "a = np.array([1,2,3])\n",
    "```\n",
    "you can just use\n",
    "```python\n",
    "import pandas as pd\n",
    "a = pd.Series([1,2,3])\n",
    "```\n",
    "\n",
    "All the functions and methods from numpy arrays will work with pandas series. \n",
    "\n",
    "مختلف الوظائف في نامباي يمكن استعمالها في بانداس\n"
   ]
  },
  {
   "cell_type": "markdown",
   "metadata": {},
   "source": [
    "is there any performance differences between a numpy array and pandas series ?\n",
    "هل هنالك فرق في الاداء بين نامباي و بانداس؟\n",
    "\n",
    "in fact Pandas is much slower than NumPy, because Pandas is doing a lot of stuff when you index into a Series, and it’s doing that stuff in Python"
   ]
  },
  {
   "cell_type": "markdown",
   "metadata": {},
   "source": [
    "## <center style = \"color:blue\"> series </center>\n",
    "\n",
    "A one-dimensional labeled array capable of holding any data type \n",
    "مصفوفة احادية البعد قادرة على احتواء اي نوع من البيانات \n",
    "\n",
    "* pandas create a default integer index بانداس يخلق قهرس رقمي بشكل تلقائي"
   ]
  },
  {
   "cell_type": "code",
   "execution_count": null,
   "metadata": {},
   "outputs": [],
   "source": [
    "s = pd.Series(\n",
    "    [3,-2,1,4]\n",
    ")"
   ]
  },
  {
   "cell_type": "code",
   "execution_count": null,
   "metadata": {},
   "outputs": [],
   "source": [
    "s"
   ]
  },
  {
   "cell_type": "code",
   "execution_count": null,
   "metadata": {},
   "outputs": [],
   "source": [
    "type(s)"
   ]
  },
  {
   "cell_type": "code",
   "execution_count": null,
   "metadata": {},
   "outputs": [],
   "source": [
    "# Get one element\n",
    "s[0]"
   ]
  },
  {
   "cell_type": "markdown",
   "metadata": {},
   "source": [
    "### index of string - استعمال فهرس غير رقمي"
   ]
  },
  {
   "cell_type": "code",
   "execution_count": null,
   "metadata": {},
   "outputs": [],
   "source": [
    "s = pd.Series(\n",
    "    [3,-2,1,4], \n",
    "    index=['a', 'b', 'c', 'd']\n",
    ")"
   ]
  },
  {
   "cell_type": "code",
   "execution_count": null,
   "metadata": {},
   "outputs": [],
   "source": [
    "s['a'] "
   ]
  },
  {
   "cell_type": "markdown",
   "metadata": {},
   "source": [
    "### index of dates - فهرس من التواريخ"
   ]
  },
  {
   "cell_type": "code",
   "execution_count": null,
   "metadata": {},
   "outputs": [],
   "source": [
    "dates = pd.date_range('20190301', periods=6)\n",
    "dates"
   ]
  },
  {
   "cell_type": "code",
   "execution_count": null,
   "metadata": {},
   "outputs": [],
   "source": [
    "s = pd.Series(np.random.randn(6), \n",
    "                  index=dates)\n",
    "s\n"
   ]
  },
  {
   "cell_type": "markdown",
   "metadata": {},
   "source": [
    "### Boolean Indexing"
   ]
  },
  {
   "cell_type": "code",
   "execution_count": null,
   "metadata": {},
   "outputs": [],
   "source": [
    "s = pd.Series([3,-2,1,4])\n",
    "s"
   ]
  },
  {
   "cell_type": "code",
   "execution_count": null,
   "metadata": {},
   "outputs": [],
   "source": [
    "s[3]"
   ]
  },
  {
   "cell_type": "code",
   "execution_count": null,
   "metadata": {},
   "outputs": [],
   "source": [
    "# Series s where value is >1\n",
    "s[s > 1] "
   ]
  },
  {
   "cell_type": "code",
   "execution_count": null,
   "metadata": {},
   "outputs": [],
   "source": [
    "# Series s where value is not >1\n",
    "s[~(s > 1)] "
   ]
  },
  {
   "cell_type": "code",
   "execution_count": null,
   "metadata": {},
   "outputs": [],
   "source": [
    "# s where value is <-1 or >2\n",
    "s[(s < -1) | (s >= 3)] "
   ]
  },
  {
   "cell_type": "code",
   "execution_count": null,
   "metadata": {},
   "outputs": [],
   "source": [
    "# Setting\n",
    "s[2] = -6 # Set index a of Series s to 6"
   ]
  },
  {
   "cell_type": "markdown",
   "metadata": {},
   "source": [
    "### <center style = 'color : blue '> Data Alignment </center>"
   ]
  },
  {
   "cell_type": "code",
   "execution_count": null,
   "metadata": {},
   "outputs": [],
   "source": [
    "s = pd.Series(\n",
    "    [3,-2,1,4,1], \n",
    "    index=['a', 'b', 'c', 'd','e']\n",
    ")\n",
    "\n",
    "s"
   ]
  },
  {
   "cell_type": "code",
   "execution_count": null,
   "metadata": {},
   "outputs": [],
   "source": [
    "s2 = pd.Series([-2, 7, 3, -5, 1], index=['a', 'c', 'd','e','f'])\n",
    "s2"
   ]
  },
  {
   "cell_type": "markdown",
   "metadata": {},
   "source": [
    "### add"
   ]
  },
  {
   "cell_type": "code",
   "execution_count": null,
   "metadata": {},
   "outputs": [],
   "source": [
    "s.add(s2)"
   ]
  },
  {
   "cell_type": "code",
   "execution_count": null,
   "metadata": {},
   "outputs": [],
   "source": [
    "s.add(s2, fill_value=0)"
   ]
  },
  {
   "cell_type": "markdown",
   "metadata": {},
   "source": [
    "### sub"
   ]
  },
  {
   "cell_type": "code",
   "execution_count": null,
   "metadata": {},
   "outputs": [],
   "source": [
    "s.sub(s2, fill_value=0)"
   ]
  },
  {
   "cell_type": "code",
   "execution_count": null,
   "metadata": {},
   "outputs": [],
   "source": [
    "s.sub(s2,fill_value=2)"
   ]
  },
  {
   "cell_type": "markdown",
   "metadata": {},
   "source": [
    "### div"
   ]
  },
  {
   "cell_type": "code",
   "execution_count": null,
   "metadata": {},
   "outputs": [],
   "source": [
    "s.div(s2, fill_value=4)"
   ]
  },
  {
   "cell_type": "markdown",
   "metadata": {},
   "source": [
    "### mul "
   ]
  },
  {
   "cell_type": "code",
   "execution_count": null,
   "metadata": {},
   "outputs": [],
   "source": [
    "s.mul(s2, fill_value=0)"
   ]
  },
  {
   "cell_type": "markdown",
   "metadata": {},
   "source": [
    "### Drop a values - حذف قيم"
   ]
  },
  {
   "cell_type": "code",
   "execution_count": null,
   "metadata": {},
   "outputs": [],
   "source": [
    "s"
   ]
  },
  {
   "cell_type": "code",
   "execution_count": null,
   "metadata": {},
   "outputs": [],
   "source": [
    "# Drop values from rows (axis=0)\n",
    "s.drop(['a', 'c']) "
   ]
  },
  {
   "cell_type": "markdown",
   "metadata": {},
   "source": [
    "## <center style = \"color:blue\"> Data Frame - إطار البيانات </center>\n",
    "\n",
    "A two-dimensional labeled data structure with columns of potentially different types \n",
    "هيكل بيانات ثنائي الابعاد باعمدة قد تحتوي على بيانات من انواع مختلفة"
   ]
  },
  {
   "cell_type": "markdown",
   "metadata": {},
   "source": [
    "### Create a dataframe from a dictionary -   خلق إطار البيانات"
   ]
  },
  {
   "cell_type": "code",
   "execution_count": null,
   "metadata": {},
   "outputs": [],
   "source": [
    "data = {\n",
    "    'Country': ['Morocco', 'China', 'France','Indonesia','Spain'],\n",
    "    'Capital': ['Rabat', 'Beijing', 'Paris','Jakarta','Madrid'],\n",
    "    'Population': [30000000, 1000000000, 80000000,130000000,75000000]\n",
    "}\n",
    "\n",
    "df = pd.DataFrame(\n",
    "    data,\n",
    "    columns=['Country', 'Capital', 'Population']\n",
    ")"
   ]
  },
  {
   "cell_type": "code",
   "execution_count": null,
   "metadata": {},
   "outputs": [],
   "source": [
    "df"
   ]
  },
  {
   "cell_type": "code",
   "execution_count": null,
   "metadata": {},
   "outputs": [],
   "source": [
    "df.head(2) # الحصول على اول الصفوف"
   ]
  },
  {
   "cell_type": "code",
   "execution_count": null,
   "metadata": {},
   "outputs": [],
   "source": [
    "df.tail(3) # الحصول على اخر الصفوف"
   ]
  },
  {
   "cell_type": "code",
   "execution_count": null,
   "metadata": {},
   "outputs": [],
   "source": [
    "df.info() # Info on DataFrame معلومات عن "
   ]
  },
  {
   "cell_type": "code",
   "execution_count": null,
   "metadata": {},
   "outputs": [],
   "source": [
    "print(df.index) # الحصول على الفهرس \n",
    "print(df.columns) # لائحة الاعمدة"
   ]
  },
  {
   "cell_type": "code",
   "execution_count": null,
   "metadata": {},
   "outputs": [],
   "source": [
    "print('shape : ', df.shape) # (rows,columns) شكل الهيكل"
   ]
  },
  {
   "cell_type": "code",
   "execution_count": null,
   "metadata": {},
   "outputs": [],
   "source": [
    "df.describe() # Summary statistics - احصاءات"
   ]
  },
  {
   "cell_type": "markdown",
   "metadata": {},
   "source": [
    "### Data frame selection & filtering - التصفية"
   ]
  },
  {
   "cell_type": "code",
   "execution_count": null,
   "metadata": {},
   "outputs": [],
   "source": [
    "df['Country']"
   ]
  },
  {
   "cell_type": "code",
   "execution_count": null,
   "metadata": {},
   "outputs": [],
   "source": [
    "df[['Country','Population']] # اخد عمودين فقط"
   ]
  },
  {
   "cell_type": "code",
   "execution_count": null,
   "metadata": {},
   "outputs": [],
   "source": [
    "# boolean filtering -  عبارة منطقية او بولية\n",
    "df[df['Population']>60000000] # Use filter to adjust DataFrame "
   ]
  },
  {
   "cell_type": "code",
   "execution_count": null,
   "metadata": {},
   "outputs": [],
   "source": [
    "# Getting element  \n",
    "df[:] # Get subset of a DataFram - الحصول على مجموعة ضمنية"
   ]
  },
  {
   "cell_type": "code",
   "execution_count": null,
   "metadata": {},
   "outputs": [],
   "source": [
    "# Getting element  \n",
    "df[1:3] # Get subset of a DataFram"
   ]
  },
  {
   "cell_type": "markdown",
   "metadata": {},
   "source": [
    "-----"
   ]
  },
  {
   "cell_type": "code",
   "execution_count": null,
   "metadata": {},
   "outputs": [],
   "source": [
    "df[1:3,2] # attention : error"
   ]
  },
  {
   "cell_type": "code",
   "execution_count": null,
   "metadata": {},
   "outputs": [],
   "source": [
    "df[1:,['Capital']] # attention : error"
   ]
  },
  {
   "cell_type": "markdown",
   "metadata": {},
   "source": [
    "### loc (locate) - حدد"
   ]
  },
  {
   "cell_type": "code",
   "execution_count": null,
   "metadata": {},
   "outputs": [],
   "source": [
    "df.loc[0]"
   ]
  },
  {
   "cell_type": "code",
   "execution_count": null,
   "metadata": {},
   "outputs": [],
   "source": [
    "# By Label\n",
    "df.loc[[0], ['Country']] #Select single value by row &column labels\n"
   ]
  },
  {
   "cell_type": "code",
   "execution_count": null,
   "metadata": {},
   "outputs": [],
   "source": [
    "# By Label\n",
    "df.loc[:, ['Population']] #Select single value by row &column labels"
   ]
  },
  {
   "cell_type": "markdown",
   "metadata": {},
   "source": [
    "#### iloc (index location) - التحديد باستعمال التاشير"
   ]
  },
  {
   "cell_type": "code",
   "execution_count": null,
   "metadata": {},
   "outputs": [],
   "source": [
    "# By Position\n",
    "df.iloc[0,0] # Select single value by row & column"
   ]
  },
  {
   "cell_type": "code",
   "execution_count": null,
   "metadata": {},
   "outputs": [],
   "source": [
    "# By Position\n",
    "df.iloc[1:4,[0,1]] # Select single value by row & column\n"
   ]
  },
  {
   "cell_type": "markdown",
   "metadata": {},
   "source": [
    "### Dropping columns/rows - حذف عمود او صف"
   ]
  },
  {
   "cell_type": "code",
   "execution_count": null,
   "metadata": {},
   "outputs": [],
   "source": [
    "#Dropping\n",
    "df.drop('Capital', axis=1) # Drop values from columns(axis=1)"
   ]
  },
  {
   "cell_type": "code",
   "execution_count": null,
   "metadata": {},
   "outputs": [],
   "source": [
    "df.drop('Capital', axis=1, inplace=True) "
   ]
  },
  {
   "cell_type": "code",
   "execution_count": null,
   "metadata": {},
   "outputs": [],
   "source": [
    "df"
   ]
  },
  {
   "cell_type": "markdown",
   "metadata": {},
   "source": [
    "### Sort & Rank - الفرز و الترتيب"
   ]
  },
  {
   "cell_type": "code",
   "execution_count": null,
   "metadata": {},
   "outputs": [],
   "source": [
    "df.sort_index() #Sort by labels along an axis"
   ]
  },
  {
   "cell_type": "code",
   "execution_count": null,
   "metadata": {},
   "outputs": [],
   "source": [
    "# Sort by the values along an axis\n",
    "df.sort_values(by='Population') # by = 'Country'"
   ]
  },
  {
   "cell_type": "code",
   "execution_count": null,
   "metadata": {},
   "outputs": [],
   "source": [
    "# Sort by the values along an axis\n",
    "df.sort_values(by = 'Country') # "
   ]
  },
  {
   "cell_type": "code",
   "execution_count": null,
   "metadata": {},
   "outputs": [],
   "source": [
    "# Assign ranks to entries\n",
    "df.rank() "
   ]
  },
  {
   "cell_type": "code",
   "execution_count": null,
   "metadata": {},
   "outputs": [],
   "source": [
    "df['Population_rank'] = df['Population'].rank()\n",
    "df"
   ]
  },
  {
   "cell_type": "markdown",
   "metadata": {},
   "source": [
    "### Summary"
   ]
  },
  {
   "cell_type": "markdown",
   "metadata": {},
   "source": [
    "### sum - المجموع"
   ]
  },
  {
   "cell_type": "code",
   "execution_count": null,
   "metadata": {},
   "outputs": [],
   "source": [
    "df.sum() # Sum of values"
   ]
  },
  {
   "cell_type": "markdown",
   "metadata": {},
   "source": [
    "### cumsum - الجمع التراكمي"
   ]
  },
  {
   "cell_type": "code",
   "execution_count": null,
   "metadata": {},
   "outputs": [],
   "source": [
    "df.cumsum() # Cummulative sum of values"
   ]
  },
  {
   "cell_type": "markdown",
   "metadata": {},
   "source": [
    "###  min and max"
   ]
  },
  {
   "cell_type": "code",
   "execution_count": null,
   "metadata": {},
   "outputs": [],
   "source": [
    "print(df[\"Population\"].min())\n",
    "df[\"Population\"].max() # Minimum/maximum values\n"
   ]
  },
  {
   "cell_type": "markdown",
   "metadata": {},
   "source": [
    "### how much percentage does chin'as population represents in our dataset\n",
    "### كم تمثل ساكنة الصين بالنسبة للساكنة في قاعدة بياناتنا"
   ]
  },
  {
   "cell_type": "code",
   "execution_count": null,
   "metadata": {},
   "outputs": [],
   "source": [
    "df[df['Country']=='China']['Population'] / df['Population'].cumsum().max()"
   ]
  },
  {
   "cell_type": "markdown",
   "metadata": {},
   "source": [
    "### idxmin and idxmax - الحصول على تاشير اكبر و اصغر قيمة"
   ]
  },
  {
   "cell_type": "code",
   "execution_count": null,
   "metadata": {},
   "outputs": [],
   "source": [
    "df"
   ]
  },
  {
   "cell_type": "code",
   "execution_count": null,
   "metadata": {},
   "outputs": [],
   "source": [
    "df['Population'].idxmin()"
   ]
  },
  {
   "cell_type": "code",
   "execution_count": null,
   "metadata": {},
   "outputs": [],
   "source": [
    "df['Population'].idxmax() # Minimum/Maximum index value"
   ]
  },
  {
   "cell_type": "markdown",
   "metadata": {},
   "source": [
    "## mean & median"
   ]
  },
  {
   "cell_type": "code",
   "execution_count": null,
   "metadata": {},
   "outputs": [],
   "source": [
    "df.mean() # Mean of values\n"
   ]
  },
  {
   "cell_type": "code",
   "execution_count": null,
   "metadata": {},
   "outputs": [],
   "source": [
    "df.median() # Median of values"
   ]
  },
  {
   "cell_type": "markdown",
   "metadata": {},
   "source": [
    "### <center style='color:blue'> Applying Functions - تطبيق دالة</center>\n"
   ]
  },
  {
   "cell_type": "code",
   "execution_count": 92,
   "metadata": {},
   "outputs": [],
   "source": [
    "f = lambda x: x*2"
   ]
  },
  {
   "cell_type": "code",
   "execution_count": 93,
   "metadata": {},
   "outputs": [
    {
     "data": {
      "text/html": [
       "<div>\n",
       "<style scoped>\n",
       "    .dataframe tbody tr th:only-of-type {\n",
       "        vertical-align: middle;\n",
       "    }\n",
       "\n",
       "    .dataframe tbody tr th {\n",
       "        vertical-align: top;\n",
       "    }\n",
       "\n",
       "    .dataframe thead th {\n",
       "        text-align: right;\n",
       "    }\n",
       "</style>\n",
       "<table border=\"1\" class=\"dataframe\">\n",
       "  <thead>\n",
       "    <tr style=\"text-align: right;\">\n",
       "      <th></th>\n",
       "      <th>Country</th>\n",
       "      <th>Capital</th>\n",
       "      <th>Population</th>\n",
       "      <th>Population_rank</th>\n",
       "    </tr>\n",
       "  </thead>\n",
       "  <tbody>\n",
       "    <tr>\n",
       "      <th>0</th>\n",
       "      <td>MoroccoMorocco</td>\n",
       "      <td>RabatRabat</td>\n",
       "      <td>60000000</td>\n",
       "      <td>2.0</td>\n",
       "    </tr>\n",
       "    <tr>\n",
       "      <th>1</th>\n",
       "      <td>ChinaChina</td>\n",
       "      <td>BeijingBeijing</td>\n",
       "      <td>2000000000</td>\n",
       "      <td>10.0</td>\n",
       "    </tr>\n",
       "    <tr>\n",
       "      <th>2</th>\n",
       "      <td>FranceFrance</td>\n",
       "      <td>ParisParis</td>\n",
       "      <td>160000000</td>\n",
       "      <td>6.0</td>\n",
       "    </tr>\n",
       "    <tr>\n",
       "      <th>3</th>\n",
       "      <td>IndonesiaIndonesia</td>\n",
       "      <td>JakartaJakarta</td>\n",
       "      <td>260000000</td>\n",
       "      <td>8.0</td>\n",
       "    </tr>\n",
       "    <tr>\n",
       "      <th>4</th>\n",
       "      <td>SpainSpain</td>\n",
       "      <td>MadridMadrid</td>\n",
       "      <td>150000000</td>\n",
       "      <td>4.0</td>\n",
       "    </tr>\n",
       "  </tbody>\n",
       "</table>\n",
       "</div>"
      ],
      "text/plain": [
       "              Country         Capital  Population  Population_rank\n",
       "0      MoroccoMorocco      RabatRabat    60000000              2.0\n",
       "1          ChinaChina  BeijingBeijing  2000000000             10.0\n",
       "2        FranceFrance      ParisParis   160000000              6.0\n",
       "3  IndonesiaIndonesia  JakartaJakarta   260000000              8.0\n",
       "4          SpainSpain    MadridMadrid   150000000              4.0"
      ]
     },
     "execution_count": 93,
     "metadata": {},
     "output_type": "execute_result"
    }
   ],
   "source": [
    "df.apply(f) # Apply function"
   ]
  },
  {
   "cell_type": "code",
   "execution_count": 94,
   "metadata": {},
   "outputs": [
    {
     "data": {
      "text/html": [
       "<div>\n",
       "<style scoped>\n",
       "    .dataframe tbody tr th:only-of-type {\n",
       "        vertical-align: middle;\n",
       "    }\n",
       "\n",
       "    .dataframe tbody tr th {\n",
       "        vertical-align: top;\n",
       "    }\n",
       "\n",
       "    .dataframe thead th {\n",
       "        text-align: right;\n",
       "    }\n",
       "</style>\n",
       "<table border=\"1\" class=\"dataframe\">\n",
       "  <thead>\n",
       "    <tr style=\"text-align: right;\">\n",
       "      <th></th>\n",
       "      <th>Country</th>\n",
       "      <th>Capital</th>\n",
       "      <th>Population</th>\n",
       "      <th>Population_rank</th>\n",
       "    </tr>\n",
       "  </thead>\n",
       "  <tbody>\n",
       "    <tr>\n",
       "      <th>0</th>\n",
       "      <td>MoroccoMorocco</td>\n",
       "      <td>RabatRabat</td>\n",
       "      <td>60000000</td>\n",
       "      <td>2.0</td>\n",
       "    </tr>\n",
       "    <tr>\n",
       "      <th>1</th>\n",
       "      <td>ChinaChina</td>\n",
       "      <td>BeijingBeijing</td>\n",
       "      <td>2000000000</td>\n",
       "      <td>10.0</td>\n",
       "    </tr>\n",
       "    <tr>\n",
       "      <th>2</th>\n",
       "      <td>FranceFrance</td>\n",
       "      <td>ParisParis</td>\n",
       "      <td>160000000</td>\n",
       "      <td>6.0</td>\n",
       "    </tr>\n",
       "    <tr>\n",
       "      <th>3</th>\n",
       "      <td>IndonesiaIndonesia</td>\n",
       "      <td>JakartaJakarta</td>\n",
       "      <td>260000000</td>\n",
       "      <td>8.0</td>\n",
       "    </tr>\n",
       "    <tr>\n",
       "      <th>4</th>\n",
       "      <td>SpainSpain</td>\n",
       "      <td>MadridMadrid</td>\n",
       "      <td>150000000</td>\n",
       "      <td>4.0</td>\n",
       "    </tr>\n",
       "  </tbody>\n",
       "</table>\n",
       "</div>"
      ],
      "text/plain": [
       "              Country         Capital  Population  Population_rank\n",
       "0      MoroccoMorocco      RabatRabat    60000000              2.0\n",
       "1          ChinaChina  BeijingBeijing  2000000000             10.0\n",
       "2        FranceFrance      ParisParis   160000000              6.0\n",
       "3  IndonesiaIndonesia  JakartaJakarta   260000000              8.0\n",
       "4          SpainSpain    MadridMadrid   150000000              4.0"
      ]
     },
     "execution_count": 94,
     "metadata": {},
     "output_type": "execute_result"
    }
   ],
   "source": [
    "df.applymap(f) # Apply function element-wise"
   ]
  },
  {
   "cell_type": "code",
   "execution_count": 95,
   "metadata": {},
   "outputs": [
    {
     "data": {
      "text/plain": [
       "0    1.000000e+07\n",
       "1    3.333333e+08\n",
       "2    2.666667e+07\n",
       "3    4.333333e+07\n",
       "4    2.500000e+07\n",
       "Name: Population, dtype: float64"
      ]
     },
     "execution_count": 95,
     "metadata": {},
     "output_type": "execute_result"
    }
   ],
   "source": [
    "df['Population'].apply(lambda x:x/3+1) # Apply function"
   ]
  },
  {
   "cell_type": "code",
   "execution_count": 96,
   "metadata": {},
   "outputs": [
    {
     "data": {
      "text/plain": [
       "0      30000000\n",
       "1    1000000000\n",
       "2      80000000\n",
       "3     130000000\n",
       "4      75000000\n",
       "Name: Population, dtype: int64"
      ]
     },
     "execution_count": 96,
     "metadata": {},
     "output_type": "execute_result"
    }
   ],
   "source": [
    "df['Population'] # didn't change ?!"
   ]
  },
  {
   "cell_type": "markdown",
   "metadata": {},
   "source": [
    "### create a new column - انشائ عمود جديد"
   ]
  },
  {
   "cell_type": "code",
   "execution_count": 99,
   "metadata": {},
   "outputs": [],
   "source": [
    "df['Population'] = df['Population'].apply(lambda x:x/3+1) # Apply function"
   ]
  },
  {
   "cell_type": "code",
   "execution_count": 100,
   "metadata": {},
   "outputs": [
    {
     "data": {
      "text/html": [
       "<div>\n",
       "<style scoped>\n",
       "    .dataframe tbody tr th:only-of-type {\n",
       "        vertical-align: middle;\n",
       "    }\n",
       "\n",
       "    .dataframe tbody tr th {\n",
       "        vertical-align: top;\n",
       "    }\n",
       "\n",
       "    .dataframe thead th {\n",
       "        text-align: right;\n",
       "    }\n",
       "</style>\n",
       "<table border=\"1\" class=\"dataframe\">\n",
       "  <thead>\n",
       "    <tr style=\"text-align: right;\">\n",
       "      <th></th>\n",
       "      <th>Country</th>\n",
       "      <th>Capital</th>\n",
       "      <th>Population</th>\n",
       "      <th>Population_rank</th>\n",
       "      <th>new_column</th>\n",
       "    </tr>\n",
       "  </thead>\n",
       "  <tbody>\n",
       "    <tr>\n",
       "      <th>0</th>\n",
       "      <td>Morocco</td>\n",
       "      <td>Rabat</td>\n",
       "      <td>1.000000e+07</td>\n",
       "      <td>1.0</td>\n",
       "      <td>1.000000e+07</td>\n",
       "    </tr>\n",
       "    <tr>\n",
       "      <th>1</th>\n",
       "      <td>China</td>\n",
       "      <td>Beijing</td>\n",
       "      <td>3.333333e+08</td>\n",
       "      <td>5.0</td>\n",
       "      <td>3.333333e+08</td>\n",
       "    </tr>\n",
       "    <tr>\n",
       "      <th>2</th>\n",
       "      <td>France</td>\n",
       "      <td>Paris</td>\n",
       "      <td>2.666667e+07</td>\n",
       "      <td>3.0</td>\n",
       "      <td>2.666667e+07</td>\n",
       "    </tr>\n",
       "    <tr>\n",
       "      <th>3</th>\n",
       "      <td>Indonesia</td>\n",
       "      <td>Jakarta</td>\n",
       "      <td>4.333333e+07</td>\n",
       "      <td>4.0</td>\n",
       "      <td>4.333333e+07</td>\n",
       "    </tr>\n",
       "    <tr>\n",
       "      <th>4</th>\n",
       "      <td>Spain</td>\n",
       "      <td>Madrid</td>\n",
       "      <td>2.500000e+07</td>\n",
       "      <td>2.0</td>\n",
       "      <td>2.500000e+07</td>\n",
       "    </tr>\n",
       "  </tbody>\n",
       "</table>\n",
       "</div>"
      ],
      "text/plain": [
       "     Country  Capital    Population  Population_rank    new_column\n",
       "0    Morocco    Rabat  1.000000e+07              1.0  1.000000e+07\n",
       "1      China  Beijing  3.333333e+08              5.0  3.333333e+08\n",
       "2     France    Paris  2.666667e+07              3.0  2.666667e+07\n",
       "3  Indonesia  Jakarta  4.333333e+07              4.0  4.333333e+07\n",
       "4      Spain   Madrid  2.500000e+07              2.0  2.500000e+07"
      ]
     },
     "execution_count": 100,
     "metadata": {},
     "output_type": "execute_result"
    }
   ],
   "source": [
    "df"
   ]
  },
  {
   "cell_type": "markdown",
   "metadata": {},
   "source": [
    "### <center style='color:blue'> create dataframe from a file - الانشائ انطلاقا من ملف </center> "
   ]
  },
  {
   "cell_type": "markdown",
   "metadata": {},
   "source": [
    "### csv file "
   ]
  },
  {
   "cell_type": "code",
   "execution_count": 101,
   "metadata": {},
   "outputs": [
    {
     "data": {
      "text/html": [
       "<div>\n",
       "<style scoped>\n",
       "    .dataframe tbody tr th:only-of-type {\n",
       "        vertical-align: middle;\n",
       "    }\n",
       "\n",
       "    .dataframe tbody tr th {\n",
       "        vertical-align: top;\n",
       "    }\n",
       "\n",
       "    .dataframe thead th {\n",
       "        text-align: right;\n",
       "    }\n",
       "</style>\n",
       "<table border=\"1\" class=\"dataframe\">\n",
       "  <thead>\n",
       "    <tr style=\"text-align: right;\">\n",
       "      <th></th>\n",
       "      <th>Call Number</th>\n",
       "      <th>Unit ID</th>\n",
       "      <th>Incident Number</th>\n",
       "      <th>Call Type</th>\n",
       "      <th>Call Date</th>\n",
       "      <th>Watch Date</th>\n",
       "      <th>Received DtTm</th>\n",
       "      <th>Entry DtTm</th>\n",
       "      <th>Dispatch DtTm</th>\n",
       "      <th>Response DtTm</th>\n",
       "      <th>...</th>\n",
       "      <th>ALS Unit</th>\n",
       "      <th>Call Type Group</th>\n",
       "      <th>Number of Alarms</th>\n",
       "      <th>Unit Type</th>\n",
       "      <th>Unit sequence in call dispatch</th>\n",
       "      <th>Fire Prevention District</th>\n",
       "      <th>Supervisor District</th>\n",
       "      <th>Neighborhooods - Analysis Boundaries</th>\n",
       "      <th>Location</th>\n",
       "      <th>RowID</th>\n",
       "    </tr>\n",
       "  </thead>\n",
       "  <tbody>\n",
       "    <tr>\n",
       "      <th>0</th>\n",
       "      <td>190824304</td>\n",
       "      <td>KM11</td>\n",
       "      <td>19035264</td>\n",
       "      <td>Medical Incident</td>\n",
       "      <td>03/23/2019</td>\n",
       "      <td>03/23/2019</td>\n",
       "      <td>03/23/2019 11:58:14 PM</td>\n",
       "      <td>03/24/2019 12:00:09 AM</td>\n",
       "      <td>03/24/2019 12:00:36 AM</td>\n",
       "      <td>03/24/2019 12:01:01 AM</td>\n",
       "      <td>...</td>\n",
       "      <td>False</td>\n",
       "      <td>Non Life-threatening</td>\n",
       "      <td>1</td>\n",
       "      <td>PRIVATE</td>\n",
       "      <td>1</td>\n",
       "      <td>2</td>\n",
       "      <td>5</td>\n",
       "      <td>Western Addition</td>\n",
       "      <td>(37.78200642291339, -122.42822947127583)</td>\n",
       "      <td>190824304-KM11</td>\n",
       "    </tr>\n",
       "    <tr>\n",
       "      <th>1</th>\n",
       "      <td>190824295</td>\n",
       "      <td>KM03</td>\n",
       "      <td>19035263</td>\n",
       "      <td>Medical Incident</td>\n",
       "      <td>03/23/2019</td>\n",
       "      <td>03/23/2019</td>\n",
       "      <td>03/23/2019 11:56:34 PM</td>\n",
       "      <td>03/23/2019 11:56:34 PM</td>\n",
       "      <td>03/23/2019 11:56:59 PM</td>\n",
       "      <td>03/23/2019 11:57:47 PM</td>\n",
       "      <td>...</td>\n",
       "      <td>False</td>\n",
       "      <td>Potentially Life-Threatening</td>\n",
       "      <td>1</td>\n",
       "      <td>PRIVATE</td>\n",
       "      <td>2</td>\n",
       "      <td>1</td>\n",
       "      <td>3</td>\n",
       "      <td>Financial District/South Beach</td>\n",
       "      <td>(37.7980449492818, -122.3963670843851)</td>\n",
       "      <td>190824295-KM03</td>\n",
       "    </tr>\n",
       "    <tr>\n",
       "      <th>2</th>\n",
       "      <td>190824295</td>\n",
       "      <td>E28</td>\n",
       "      <td>19035263</td>\n",
       "      <td>Medical Incident</td>\n",
       "      <td>03/23/2019</td>\n",
       "      <td>03/23/2019</td>\n",
       "      <td>03/23/2019 11:56:34 PM</td>\n",
       "      <td>03/23/2019 11:56:34 PM</td>\n",
       "      <td>03/23/2019 11:56:59 PM</td>\n",
       "      <td>03/23/2019 11:57:46 PM</td>\n",
       "      <td>...</td>\n",
       "      <td>False</td>\n",
       "      <td>Potentially Life-Threatening</td>\n",
       "      <td>1</td>\n",
       "      <td>ENGINE</td>\n",
       "      <td>1</td>\n",
       "      <td>1</td>\n",
       "      <td>3</td>\n",
       "      <td>Financial District/South Beach</td>\n",
       "      <td>(37.7980449492818, -122.3963670843851)</td>\n",
       "      <td>190824295-E28</td>\n",
       "    </tr>\n",
       "    <tr>\n",
       "      <th>3</th>\n",
       "      <td>190824278</td>\n",
       "      <td>59</td>\n",
       "      <td>19035262</td>\n",
       "      <td>Medical Incident</td>\n",
       "      <td>03/23/2019</td>\n",
       "      <td>03/23/2019</td>\n",
       "      <td>03/23/2019 11:48:04 PM</td>\n",
       "      <td>03/23/2019 11:50:41 PM</td>\n",
       "      <td>03/23/2019 11:50:59 PM</td>\n",
       "      <td>03/23/2019 11:51:18 PM</td>\n",
       "      <td>...</td>\n",
       "      <td>True</td>\n",
       "      <td>Non Life-threatening</td>\n",
       "      <td>1</td>\n",
       "      <td>MEDIC</td>\n",
       "      <td>1</td>\n",
       "      <td>9</td>\n",
       "      <td>11</td>\n",
       "      <td>Excelsior</td>\n",
       "      <td>(37.709059057853175, -122.45174696338128)</td>\n",
       "      <td>190824278-59</td>\n",
       "    </tr>\n",
       "    <tr>\n",
       "      <th>4</th>\n",
       "      <td>190824270</td>\n",
       "      <td>E29</td>\n",
       "      <td>19035261</td>\n",
       "      <td>Medical Incident</td>\n",
       "      <td>03/23/2019</td>\n",
       "      <td>03/23/2019</td>\n",
       "      <td>03/23/2019 11:48:21 PM</td>\n",
       "      <td>03/23/2019 11:49:36 PM</td>\n",
       "      <td>03/23/2019 11:50:31 PM</td>\n",
       "      <td>03/23/2019 11:51:45 PM</td>\n",
       "      <td>...</td>\n",
       "      <td>True</td>\n",
       "      <td>Non Life-threatening</td>\n",
       "      <td>1</td>\n",
       "      <td>ENGINE</td>\n",
       "      <td>1</td>\n",
       "      <td>2</td>\n",
       "      <td>6</td>\n",
       "      <td>South of Market</td>\n",
       "      <td>(37.77128552595309, -122.41320426710206)</td>\n",
       "      <td>190824270-E29</td>\n",
       "    </tr>\n",
       "  </tbody>\n",
       "</table>\n",
       "<p>5 rows × 34 columns</p>\n",
       "</div>"
      ],
      "text/plain": [
       "   Call Number Unit ID  Incident Number         Call Type   Call Date  \\\n",
       "0    190824304    KM11         19035264  Medical Incident  03/23/2019   \n",
       "1    190824295    KM03         19035263  Medical Incident  03/23/2019   \n",
       "2    190824295     E28         19035263  Medical Incident  03/23/2019   \n",
       "3    190824278      59         19035262  Medical Incident  03/23/2019   \n",
       "4    190824270     E29         19035261  Medical Incident  03/23/2019   \n",
       "\n",
       "   Watch Date           Received DtTm              Entry DtTm  \\\n",
       "0  03/23/2019  03/23/2019 11:58:14 PM  03/24/2019 12:00:09 AM   \n",
       "1  03/23/2019  03/23/2019 11:56:34 PM  03/23/2019 11:56:34 PM   \n",
       "2  03/23/2019  03/23/2019 11:56:34 PM  03/23/2019 11:56:34 PM   \n",
       "3  03/23/2019  03/23/2019 11:48:04 PM  03/23/2019 11:50:41 PM   \n",
       "4  03/23/2019  03/23/2019 11:48:21 PM  03/23/2019 11:49:36 PM   \n",
       "\n",
       "            Dispatch DtTm           Response DtTm       ...       ALS Unit  \\\n",
       "0  03/24/2019 12:00:36 AM  03/24/2019 12:01:01 AM       ...          False   \n",
       "1  03/23/2019 11:56:59 PM  03/23/2019 11:57:47 PM       ...          False   \n",
       "2  03/23/2019 11:56:59 PM  03/23/2019 11:57:46 PM       ...          False   \n",
       "3  03/23/2019 11:50:59 PM  03/23/2019 11:51:18 PM       ...           True   \n",
       "4  03/23/2019 11:50:31 PM  03/23/2019 11:51:45 PM       ...           True   \n",
       "\n",
       "                Call Type Group Number of Alarms Unit Type  \\\n",
       "0          Non Life-threatening                1   PRIVATE   \n",
       "1  Potentially Life-Threatening                1   PRIVATE   \n",
       "2  Potentially Life-Threatening                1    ENGINE   \n",
       "3          Non Life-threatening                1     MEDIC   \n",
       "4          Non Life-threatening                1    ENGINE   \n",
       "\n",
       "  Unit sequence in call dispatch Fire Prevention District Supervisor District  \\\n",
       "0                              1                        2                   5   \n",
       "1                              2                        1                   3   \n",
       "2                              1                        1                   3   \n",
       "3                              1                        9                  11   \n",
       "4                              1                        2                   6   \n",
       "\n",
       "   Neighborhooods - Analysis Boundaries  \\\n",
       "0                      Western Addition   \n",
       "1        Financial District/South Beach   \n",
       "2        Financial District/South Beach   \n",
       "3                             Excelsior   \n",
       "4                       South of Market   \n",
       "\n",
       "                                    Location           RowID  \n",
       "0   (37.78200642291339, -122.42822947127583)  190824304-KM11  \n",
       "1     (37.7980449492818, -122.3963670843851)  190824295-KM03  \n",
       "2     (37.7980449492818, -122.3963670843851)   190824295-E28  \n",
       "3  (37.709059057853175, -122.45174696338128)    190824278-59  \n",
       "4   (37.77128552595309, -122.41320426710206)   190824270-E29  \n",
       "\n",
       "[5 rows x 34 columns]"
      ]
     },
     "execution_count": 101,
     "metadata": {},
     "output_type": "execute_result"
    }
   ],
   "source": [
    "df = pd.read_csv(\"data\\\\Fire_Department_Calls_for_Service_03_23_2019.csv\",\n",
    "                sep = ',')\n",
    "df.head()\n"
   ]
  },
  {
   "cell_type": "markdown",
   "metadata": {},
   "source": [
    "### excel file"
   ]
  },
  {
   "cell_type": "code",
   "execution_count": 102,
   "metadata": {},
   "outputs": [
    {
     "data": {
      "text/html": [
       "<div>\n",
       "<style scoped>\n",
       "    .dataframe tbody tr th:only-of-type {\n",
       "        vertical-align: middle;\n",
       "    }\n",
       "\n",
       "    .dataframe tbody tr th {\n",
       "        vertical-align: top;\n",
       "    }\n",
       "\n",
       "    .dataframe thead th {\n",
       "        text-align: right;\n",
       "    }\n",
       "</style>\n",
       "<table border=\"1\" class=\"dataframe\">\n",
       "  <thead>\n",
       "    <tr style=\"text-align: right;\">\n",
       "      <th></th>\n",
       "      <th>Call Number</th>\n",
       "      <th>Unit ID</th>\n",
       "      <th>Incident Number</th>\n",
       "      <th>Call Type</th>\n",
       "      <th>Call Date</th>\n",
       "      <th>Watch Date</th>\n",
       "      <th>Received DtTm</th>\n",
       "      <th>Entry DtTm</th>\n",
       "      <th>Dispatch DtTm</th>\n",
       "      <th>Response DtTm</th>\n",
       "      <th>...</th>\n",
       "      <th>ALS Unit</th>\n",
       "      <th>Call Type Group</th>\n",
       "      <th>Number of Alarms</th>\n",
       "      <th>Unit Type</th>\n",
       "      <th>Unit sequence in call dispatch</th>\n",
       "      <th>Fire Prevention District</th>\n",
       "      <th>Supervisor District</th>\n",
       "      <th>Neighborhooods - Analysis Boundaries</th>\n",
       "      <th>Location</th>\n",
       "      <th>RowID</th>\n",
       "    </tr>\n",
       "  </thead>\n",
       "  <tbody>\n",
       "    <tr>\n",
       "      <th>0</th>\n",
       "      <td>190824304</td>\n",
       "      <td>KM11</td>\n",
       "      <td>19035264</td>\n",
       "      <td>Medical Incident</td>\n",
       "      <td>03/23/2019</td>\n",
       "      <td>03/23/2019</td>\n",
       "      <td>03/23/2019 11:58:14 PM</td>\n",
       "      <td>03/24/2019 12:00:09 AM</td>\n",
       "      <td>03/24/2019 12:00:36 AM</td>\n",
       "      <td>03/24/2019 12:01:01 AM</td>\n",
       "      <td>...</td>\n",
       "      <td>False</td>\n",
       "      <td>Non Life-threatening</td>\n",
       "      <td>1</td>\n",
       "      <td>PRIVATE</td>\n",
       "      <td>1</td>\n",
       "      <td>2</td>\n",
       "      <td>5</td>\n",
       "      <td>Western Addition</td>\n",
       "      <td>(37.78200642291339, -122.42822947127583)</td>\n",
       "      <td>190824304-KM11</td>\n",
       "    </tr>\n",
       "    <tr>\n",
       "      <th>1</th>\n",
       "      <td>190824295</td>\n",
       "      <td>KM03</td>\n",
       "      <td>19035263</td>\n",
       "      <td>Medical Incident</td>\n",
       "      <td>03/23/2019</td>\n",
       "      <td>03/23/2019</td>\n",
       "      <td>03/23/2019 11:56:34 PM</td>\n",
       "      <td>03/23/2019 11:56:34 PM</td>\n",
       "      <td>03/23/2019 11:56:59 PM</td>\n",
       "      <td>03/23/2019 11:57:47 PM</td>\n",
       "      <td>...</td>\n",
       "      <td>False</td>\n",
       "      <td>Potentially Life-Threatening</td>\n",
       "      <td>1</td>\n",
       "      <td>PRIVATE</td>\n",
       "      <td>2</td>\n",
       "      <td>1</td>\n",
       "      <td>3</td>\n",
       "      <td>Financial District/South Beach</td>\n",
       "      <td>(37.7980449492818, -122.3963670843851)</td>\n",
       "      <td>190824295-KM03</td>\n",
       "    </tr>\n",
       "  </tbody>\n",
       "</table>\n",
       "<p>2 rows × 34 columns</p>\n",
       "</div>"
      ],
      "text/plain": [
       "   Call Number Unit ID  Incident Number         Call Type   Call Date  \\\n",
       "0    190824304    KM11         19035264  Medical Incident  03/23/2019   \n",
       "1    190824295    KM03         19035263  Medical Incident  03/23/2019   \n",
       "\n",
       "   Watch Date           Received DtTm              Entry DtTm  \\\n",
       "0  03/23/2019  03/23/2019 11:58:14 PM  03/24/2019 12:00:09 AM   \n",
       "1  03/23/2019  03/23/2019 11:56:34 PM  03/23/2019 11:56:34 PM   \n",
       "\n",
       "            Dispatch DtTm           Response DtTm       ...       ALS Unit  \\\n",
       "0  03/24/2019 12:00:36 AM  03/24/2019 12:01:01 AM       ...          False   \n",
       "1  03/23/2019 11:56:59 PM  03/23/2019 11:57:47 PM       ...          False   \n",
       "\n",
       "                Call Type Group Number of Alarms Unit Type  \\\n",
       "0          Non Life-threatening                1   PRIVATE   \n",
       "1  Potentially Life-Threatening                1   PRIVATE   \n",
       "\n",
       "  Unit sequence in call dispatch Fire Prevention District Supervisor District  \\\n",
       "0                              1                        2                   5   \n",
       "1                              2                        1                   3   \n",
       "\n",
       "   Neighborhooods - Analysis Boundaries  \\\n",
       "0                      Western Addition   \n",
       "1        Financial District/South Beach   \n",
       "\n",
       "                                   Location           RowID  \n",
       "0  (37.78200642291339, -122.42822947127583)  190824304-KM11  \n",
       "1    (37.7980449492818, -122.3963670843851)  190824295-KM03  \n",
       "\n",
       "[2 rows x 34 columns]"
      ]
     },
     "execution_count": 102,
     "metadata": {},
     "output_type": "execute_result"
    }
   ],
   "source": [
    "df = pd.read_excel(\"data\\\\Fire_Department_Calls_for_Service_03_23_2019.xlsx\",\n",
    "                  sheet_name='Sheet1',\n",
    "                   #index_col=None, \n",
    "                   #header=None,\n",
    "                   dtype={'Name': str, 'Value': float})\n",
    "df.head(2)"
   ]
  },
  {
   "cell_type": "markdown",
   "metadata": {},
   "source": [
    "### <center style='color:blue'>DataFrame to Numpy NDArray </center>\n",
    "### <center style='color:blue'> من بانداس الى نامباي </center>"
   ]
  },
  {
   "cell_type": "code",
   "execution_count": 103,
   "metadata": {},
   "outputs": [],
   "source": [
    "a = df.values"
   ]
  },
  {
   "cell_type": "code",
   "execution_count": 104,
   "metadata": {},
   "outputs": [
    {
     "data": {
      "text/plain": [
       "numpy.ndarray"
      ]
     },
     "execution_count": 104,
     "metadata": {},
     "output_type": "execute_result"
    }
   ],
   "source": [
    "type(a)"
   ]
  },
  {
   "cell_type": "code",
   "execution_count": 105,
   "metadata": {},
   "outputs": [
    {
     "data": {
      "text/plain": [
       "array([[190824304, 'KM11', 19035264, ..., 'Western Addition',\n",
       "        '(37.78200642291339, -122.42822947127583)', '190824304-KM11'],\n",
       "       [190824295, 'KM03', 19035263, ...,\n",
       "        'Financial District/South Beach',\n",
       "        '(37.7980449492818, -122.3963670843851)', '190824295-KM03'],\n",
       "       [190824295, 'E28', 19035263, ...,\n",
       "        'Financial District/South Beach',\n",
       "        '(37.7980449492818, -122.3963670843851)', '190824295-E28'],\n",
       "       ...,\n",
       "       [190820023, 'E38', 19034833, ..., 'Pacific Heights',\n",
       "        '(37.786458147838374, -122.43077642337992)', '190820023-E38'],\n",
       "       [190820010, 'QRV1', 19034832, ...,\n",
       "        'Financial District/South Beach',\n",
       "        '(37.784660412196764, -122.39991472915987)', '190820010-QRV1'],\n",
       "       [190820010, 84, 19034832, ..., 'Financial District/South Beach',\n",
       "        '(37.784660412196764, -122.39991472915987)', '190820010-84']],\n",
       "      dtype=object)"
      ]
     },
     "execution_count": 105,
     "metadata": {},
     "output_type": "execute_result"
    }
   ],
   "source": [
    "a"
   ]
  },
  {
   "cell_type": "markdown",
   "metadata": {},
   "source": [
    "RSC:\n",
    "* https://s3.amazonaws.com/assets.datacamp.com/blog_assets/PandasPythonForDataScience.pdf\n",
    "* https://pandas.pydata.org/pandas-docs/version/0.22.0/10min.html\n",
    "* https://realpython.com/python-data-cleaning-numpy-pandas/"
   ]
  }
 ],
 "metadata": {
  "kernelspec": {
   "display_name": "Python 3",
   "language": "python",
   "name": "python3"
  },
  "language_info": {
   "codemirror_mode": {
    "name": "ipython",
    "version": 3
   },
   "file_extension": ".py",
   "mimetype": "text/x-python",
   "name": "python",
   "nbconvert_exporter": "python",
   "pygments_lexer": "ipython3",
   "version": "3.6.4"
  }
 },
 "nbformat": 4,
 "nbformat_minor": 2
}
