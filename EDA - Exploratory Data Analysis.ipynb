{
 "cells": [
  {
   "cell_type": "code",
   "execution_count": null,
   "metadata": {},
   "outputs": [],
   "source": []
  },
  {
   "cell_type": "code",
   "execution_count": null,
   "metadata": {},
   "outputs": [],
   "source": [
    "rt data\n",
    "Join multiple data sets\n",
    "Detect missing values\n",
    "Look for anomalies (1, 2, 3, “Fred”?)\n",
    "Impute for missing values\n",
    "Data quality assurance"
   ]
  },
  {
   "cell_type": "code",
   "execution_count": null,
   "metadata": {},
   "outputs": [],
   "source": []
  },
  {
   "cell_type": "code",
   "execution_count": null,
   "metadata": {},
   "outputs": [],
   "source": [
    "mFormulate relevant questions, and hypotheses\n",
    "Test those questions with visualizations\n",
    "Identify trends in the data\n",
    "Look for relationships between variables\n",
    "Communicate results with visualizations (scatter plots, histograms, etc.)"
   ]
  },
  {
   "cell_type": "code",
   "execution_count": null,
   "metadata": {},
   "outputs": [],
   "source": []
  },
  {
   "cell_type": "code",
   "execution_count": null,
   "metadata": {},
   "outputs": [],
   "source": [
    "reating dashboards:\n",
    "\n",
    "Know your audience\n",
    "Tell a story\n",
    "Keep things simple\n",
    "Use appropriate visualizations"
   ]
  },
  {
   "cell_type": "code",
   "execution_count": 1,
   "metadata": {},
   "outputs": [],
   "source": [
    "import pandas as pd"
   ]
  },
  {
   "cell_type": "code",
   "execution_count": 2,
   "metadata": {},
   "outputs": [],
   "source": [
    "file_path = \"C:\\\\Users\\\\Fouzia Yessad\\\\PycharmProjects\\\\DataScienceInArabic\\\\data\\\\WA_American-Time-Use-Survey-lite.csv\""
   ]
  },
  {
   "cell_type": "code",
   "execution_count": 3,
   "metadata": {},
   "outputs": [
    {
     "data": {
      "text/html": [
       "<div>\n",
       "<style scoped>\n",
       "    .dataframe tbody tr th:only-of-type {\n",
       "        vertical-align: middle;\n",
       "    }\n",
       "\n",
       "    .dataframe tbody tr th {\n",
       "        vertical-align: top;\n",
       "    }\n",
       "\n",
       "    .dataframe thead th {\n",
       "        text-align: right;\n",
       "    }\n",
       "</style>\n",
       "<table border=\"1\" class=\"dataframe\">\n",
       "  <thead>\n",
       "    <tr style=\"text-align: right;\">\n",
       "      <th></th>\n",
       "      <th>Education Level</th>\n",
       "      <th>Age</th>\n",
       "      <th>Age Range</th>\n",
       "      <th>Employment Status</th>\n",
       "      <th>Gender</th>\n",
       "      <th>Children</th>\n",
       "      <th>Weekly Earnings</th>\n",
       "      <th>Year</th>\n",
       "      <th>Weekly Hours Worked</th>\n",
       "      <th>Sleeping</th>\n",
       "      <th>...</th>\n",
       "      <th>Caring for Children</th>\n",
       "      <th>Playing with Children</th>\n",
       "      <th>Job Searching</th>\n",
       "      <th>Shopping</th>\n",
       "      <th>Eating and Drinking</th>\n",
       "      <th>Socializing &amp; Relaxing</th>\n",
       "      <th>Television</th>\n",
       "      <th>Golfing</th>\n",
       "      <th>Running</th>\n",
       "      <th>Volunteering</th>\n",
       "    </tr>\n",
       "  </thead>\n",
       "  <tbody>\n",
       "    <tr>\n",
       "      <th>0</th>\n",
       "      <td>High School</td>\n",
       "      <td>51</td>\n",
       "      <td>50-59</td>\n",
       "      <td>Unemployed</td>\n",
       "      <td>Female</td>\n",
       "      <td>0</td>\n",
       "      <td>0</td>\n",
       "      <td>2005</td>\n",
       "      <td>0</td>\n",
       "      <td>825</td>\n",
       "      <td>...</td>\n",
       "      <td>0</td>\n",
       "      <td>0</td>\n",
       "      <td>0</td>\n",
       "      <td>0</td>\n",
       "      <td>40</td>\n",
       "      <td>180</td>\n",
       "      <td>120</td>\n",
       "      <td>0</td>\n",
       "      <td>0</td>\n",
       "      <td>0</td>\n",
       "    </tr>\n",
       "    <tr>\n",
       "      <th>1</th>\n",
       "      <td>Bachelor</td>\n",
       "      <td>42</td>\n",
       "      <td>40-49</td>\n",
       "      <td>Employed</td>\n",
       "      <td>Female</td>\n",
       "      <td>2</td>\n",
       "      <td>1480</td>\n",
       "      <td>2005</td>\n",
       "      <td>40</td>\n",
       "      <td>500</td>\n",
       "      <td>...</td>\n",
       "      <td>365</td>\n",
       "      <td>20</td>\n",
       "      <td>0</td>\n",
       "      <td>120</td>\n",
       "      <td>40</td>\n",
       "      <td>15</td>\n",
       "      <td>15</td>\n",
       "      <td>0</td>\n",
       "      <td>0</td>\n",
       "      <td>0</td>\n",
       "    </tr>\n",
       "    <tr>\n",
       "      <th>2</th>\n",
       "      <td>Master</td>\n",
       "      <td>47</td>\n",
       "      <td>40-49</td>\n",
       "      <td>Employed</td>\n",
       "      <td>Male</td>\n",
       "      <td>0</td>\n",
       "      <td>904</td>\n",
       "      <td>2005</td>\n",
       "      <td>40</td>\n",
       "      <td>480</td>\n",
       "      <td>...</td>\n",
       "      <td>0</td>\n",
       "      <td>0</td>\n",
       "      <td>0</td>\n",
       "      <td>15</td>\n",
       "      <td>85</td>\n",
       "      <td>214</td>\n",
       "      <td>199</td>\n",
       "      <td>0</td>\n",
       "      <td>0</td>\n",
       "      <td>0</td>\n",
       "    </tr>\n",
       "    <tr>\n",
       "      <th>3</th>\n",
       "      <td>Some College</td>\n",
       "      <td>21</td>\n",
       "      <td>20-29</td>\n",
       "      <td>Employed</td>\n",
       "      <td>Female</td>\n",
       "      <td>0</td>\n",
       "      <td>320</td>\n",
       "      <td>2005</td>\n",
       "      <td>40</td>\n",
       "      <td>705</td>\n",
       "      <td>...</td>\n",
       "      <td>0</td>\n",
       "      <td>0</td>\n",
       "      <td>0</td>\n",
       "      <td>105</td>\n",
       "      <td>30</td>\n",
       "      <td>240</td>\n",
       "      <td>240</td>\n",
       "      <td>0</td>\n",
       "      <td>0</td>\n",
       "      <td>0</td>\n",
       "    </tr>\n",
       "    <tr>\n",
       "      <th>4</th>\n",
       "      <td>High School</td>\n",
       "      <td>49</td>\n",
       "      <td>40-49</td>\n",
       "      <td>Not in labor force</td>\n",
       "      <td>Female</td>\n",
       "      <td>0</td>\n",
       "      <td>0</td>\n",
       "      <td>2005</td>\n",
       "      <td>0</td>\n",
       "      <td>470</td>\n",
       "      <td>...</td>\n",
       "      <td>0</td>\n",
       "      <td>0</td>\n",
       "      <td>0</td>\n",
       "      <td>0</td>\n",
       "      <td>35</td>\n",
       "      <td>600</td>\n",
       "      <td>40</td>\n",
       "      <td>0</td>\n",
       "      <td>0</td>\n",
       "      <td>0</td>\n",
       "    </tr>\n",
       "  </tbody>\n",
       "</table>\n",
       "<p>5 rows × 23 columns</p>\n",
       "</div>"
      ],
      "text/plain": [
       "  Education Level  Age Age Range   Employment Status  Gender  Children  \\\n",
       "0     High School   51     50-59          Unemployed  Female         0   \n",
       "1        Bachelor   42     40-49            Employed  Female         2   \n",
       "2          Master   47     40-49            Employed    Male         0   \n",
       "3    Some College   21     20-29            Employed  Female         0   \n",
       "4     High School   49     40-49  Not in labor force  Female         0   \n",
       "\n",
       "   Weekly Earnings  Year  Weekly Hours Worked  Sleeping      ...       \\\n",
       "0                0  2005                    0       825      ...        \n",
       "1             1480  2005                   40       500      ...        \n",
       "2              904  2005                   40       480      ...        \n",
       "3              320  2005                   40       705      ...        \n",
       "4                0  2005                    0       470      ...        \n",
       "\n",
       "   Caring for Children  Playing with Children  Job Searching  Shopping  \\\n",
       "0                    0                      0              0         0   \n",
       "1                  365                     20              0       120   \n",
       "2                    0                      0              0        15   \n",
       "3                    0                      0              0       105   \n",
       "4                    0                      0              0         0   \n",
       "\n",
       "   Eating and Drinking  Socializing & Relaxing  Television  Golfing  Running  \\\n",
       "0                   40                     180         120        0        0   \n",
       "1                   40                      15          15        0        0   \n",
       "2                   85                     214         199        0        0   \n",
       "3                   30                     240         240        0        0   \n",
       "4                   35                     600          40        0        0   \n",
       "\n",
       "   Volunteering  \n",
       "0             0  \n",
       "1             0  \n",
       "2             0  \n",
       "3             0  \n",
       "4             0  \n",
       "\n",
       "[5 rows x 23 columns]"
      ]
     },
     "execution_count": 3,
     "metadata": {},
     "output_type": "execute_result"
    }
   ],
   "source": [
    "df = pd.read_csv(file_path)\n",
    "df.head()"
   ]
  },
  {
   "cell_type": "code",
   "execution_count": 9,
   "metadata": {},
   "outputs": [
    {
     "data": {
      "text/plain": [
       "(97275, 23)"
      ]
     },
     "execution_count": 9,
     "metadata": {},
     "output_type": "execute_result"
    }
   ],
   "source": [
    "df.shape"
   ]
  },
  {
   "cell_type": "code",
   "execution_count": 4,
   "metadata": {},
   "outputs": [
    {
     "data": {
      "text/plain": [
       "Education Level           object\n",
       "Age                        int64\n",
       "Age Range                 object\n",
       "Employment Status         object\n",
       "Gender                    object\n",
       "Children                   int64\n",
       "Weekly Earnings            int64\n",
       "Year                       int64\n",
       "Weekly Hours Worked        int64\n",
       "Sleeping                   int64\n",
       "Grooming                   int64\n",
       "Housework                  int64\n",
       "Food & Drink Prep          int64\n",
       "Caring for Children        int64\n",
       "Playing with Children      int64\n",
       "Job Searching              int64\n",
       "Shopping                   int64\n",
       "Eating and Drinking        int64\n",
       "Socializing & Relaxing     int64\n",
       "Television                 int64\n",
       "Golfing                    int64\n",
       "Running                    int64\n",
       "Volunteering               int64\n",
       "dtype: object"
      ]
     },
     "execution_count": 4,
     "metadata": {},
     "output_type": "execute_result"
    }
   ],
   "source": [
    "df.dtypes"
   ]
  },
  {
   "cell_type": "code",
   "execution_count": null,
   "metadata": {},
   "outputs": [],
   "source": []
  },
  {
   "cell_type": "code",
   "execution_count": null,
   "metadata": {},
   "outputs": [],
   "source": []
  }
 ],
 "metadata": {
  "kernelspec": {
   "display_name": "Python 3",
   "language": "python",
   "name": "python3"
  },
  "language_info": {
   "codemirror_mode": {
    "name": "ipython",
    "version": 3
   },
   "file_extension": ".py",
   "mimetype": "text/x-python",
   "name": "python",
   "nbconvert_exporter": "python",
   "pygments_lexer": "ipython3",
   "version": "3.6.4"
  }
 },
 "nbformat": 4,
 "nbformat_minor": 2
}
